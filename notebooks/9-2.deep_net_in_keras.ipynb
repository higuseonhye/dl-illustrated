{
 "cells": [
  {
   "cell_type": "markdown",
   "metadata": {},
   "source": [
    "# 케라스로 심층 신경망 만들기"
   ]
  },
  {
   "cell_type": "markdown",
   "metadata": {},
   "source": [
    "이 노트북에서는 지금까지 다룬 이론을 적용하여 [은닉층을 추가한 신경망](https://github.com/rickiepark/dl-illustrated/blob/master/notebooks/8-4.intermediate_net_in_keras.ipynb)을 향상시켜 보겠습니다."
   ]
  },
  {
   "cell_type": "markdown",
   "metadata": {},
   "source": [
    "[![Open In Colab](https://colab.research.google.com/assets/colab-badge.svg)](https://colab.research.google.com/github/rickiepark/dl-illustrated/blob/master/notebooks/9-2.deep_net_in_keras.ipynb)"
   ]
  },
  {
   "cell_type": "markdown",
   "metadata": {},
   "source": [
    "#### 라이브러리를 적재합니다."
   ]
  },
  {
   "cell_type": "code",
   "execution_count": 1,
   "metadata": {},
   "outputs": [],
   "source": [
    "from tensorflow import keras\n",
    "from tensorflow.keras.datasets import mnist\n",
    "from tensorflow.keras.models import Sequential\n",
    "from tensorflow.keras.layers import Dense\n",
    "from tensorflow.keras.layers import Dropout # new!\n",
    "from tensorflow.keras.layers import BatchNormalization # new!\n",
    "from tensorflow.keras.optimizers import SGD"
   ]
  },
  {
   "cell_type": "markdown",
   "metadata": {},
   "source": [
    "#### 데이터를 적재합니다."
   ]
  },
  {
   "cell_type": "code",
   "execution_count": 2,
   "metadata": {},
   "outputs": [],
   "source": [
    "(X_train, y_train), (X_valid, y_valid) = mnist.load_data()"
   ]
  },
  {
   "cell_type": "markdown",
   "metadata": {},
   "source": [
    "#### 데이터를 전처리합니다."
   ]
  },
  {
   "cell_type": "code",
   "execution_count": 3,
   "metadata": {},
   "outputs": [],
   "source": [
    "X_train = X_train.reshape(60000, 784).astype('float32')\n",
    "X_valid = X_valid.reshape(10000, 784).astype('float32')"
   ]
  },
  {
   "cell_type": "code",
   "execution_count": 4,
   "metadata": {},
   "outputs": [],
   "source": [
    "X_train /= 255\n",
    "X_valid /= 255"
   ]
  },
  {
   "cell_type": "code",
   "execution_count": 5,
   "metadata": {},
   "outputs": [],
   "source": [
    "n_classes = 10\n",
    "y_train = keras.utils.to_categorical(y_train, n_classes)\n",
    "y_valid = keras.utils.to_categorical(y_valid, n_classes)"
   ]
  },
  {
   "cell_type": "markdown",
   "metadata": {},
   "source": [
    "#### 신경망을 만듭니다."
   ]
  },
  {
   "cell_type": "code",
   "execution_count": 6,
   "metadata": {},
   "outputs": [],
   "source": [
    "model = Sequential()\n",
    "\n",
    "model.add(Dense(64, activation='relu', input_shape=(784,)))\n",
    "model.add(BatchNormalization())\n",
    "\n",
    "model.add(Dense(64, activation='relu'))\n",
    "model.add(BatchNormalization())\n",
    "model.add(Dropout(0.2))\n",
    "\n",
    "model.add(Dense(64, activation='relu'))\n",
    "model.add(BatchNormalization())\n",
    "model.add(Dropout(0.4))\n",
    "\n",
    "model.add(Dense(10, activation='softmax'))"
   ]
  },
  {
   "cell_type": "code",
   "execution_count": 7,
   "metadata": {},
   "outputs": [
    {
     "name": "stdout",
     "output_type": "stream",
     "text": [
      "Model: \"sequential\"\n",
      "_________________________________________________________________\n",
      "Layer (type)                 Output Shape              Param #   \n",
      "=================================================================\n",
      "dense (Dense)                (None, 64)                50240     \n",
      "_________________________________________________________________\n",
      "batch_normalization (BatchNo (None, 64)                256       \n",
      "_________________________________________________________________\n",
      "dense_1 (Dense)              (None, 64)                4160      \n",
      "_________________________________________________________________\n",
      "batch_normalization_1 (Batch (None, 64)                256       \n",
      "_________________________________________________________________\n",
      "dropout (Dropout)            (None, 64)                0         \n",
      "_________________________________________________________________\n",
      "dense_2 (Dense)              (None, 64)                4160      \n",
      "_________________________________________________________________\n",
      "batch_normalization_2 (Batch (None, 64)                256       \n",
      "_________________________________________________________________\n",
      "dropout_1 (Dropout)          (None, 64)                0         \n",
      "_________________________________________________________________\n",
      "dense_3 (Dense)              (None, 10)                650       \n",
      "=================================================================\n",
      "Total params: 59,978\n",
      "Trainable params: 59,594\n",
      "Non-trainable params: 384\n",
      "_________________________________________________________________\n"
     ]
    }
   ],
   "source": [
    "model.summary()"
   ]
  },
  {
   "cell_type": "markdown",
   "metadata": {},
   "source": [
    "#### 모델 설정을 합니다."
   ]
  },
  {
   "cell_type": "code",
   "execution_count": 8,
   "metadata": {},
   "outputs": [],
   "source": [
    "model.compile(loss='categorical_crossentropy', optimizer='adam', metrics=['accuracy'])"
   ]
  },
  {
   "cell_type": "markdown",
   "metadata": {},
   "source": [
    "#### 훈련!"
   ]
  },
  {
   "cell_type": "code",
   "execution_count": 9,
   "metadata": {},
   "outputs": [
    {
     "name": "stdout",
     "output_type": "stream",
     "text": [
      "Epoch 1/20\n",
      "469/469 [==============================] - 8s 17ms/step - loss: 0.5268 - accuracy: 0.8417 - val_loss: 0.1777 - val_accuracy: 0.9467\n",
      "Epoch 2/20\n",
      "469/469 [==============================] - 8s 17ms/step - loss: 0.2213 - accuracy: 0.9364 - val_loss: 0.1374 - val_accuracy: 0.9576\n",
      "Epoch 3/20\n",
      "469/469 [==============================] - 8s 16ms/step - loss: 0.1679 - accuracy: 0.9512 - val_loss: 0.1280 - val_accuracy: 0.9587\n",
      "Epoch 4/20\n",
      "469/469 [==============================] - 7s 16ms/step - loss: 0.1391 - accuracy: 0.9598 - val_loss: 0.1164 - val_accuracy: 0.9640\n",
      "Epoch 5/20\n",
      "469/469 [==============================] - 8s 17ms/step - loss: 0.1199 - accuracy: 0.9646 - val_loss: 0.1239 - val_accuracy: 0.9628\n",
      "Epoch 6/20\n",
      "469/469 [==============================] - 8s 17ms/step - loss: 0.1050 - accuracy: 0.9689 - val_loss: 0.0977 - val_accuracy: 0.9692\n",
      "Epoch 7/20\n",
      "469/469 [==============================] - 8s 17ms/step - loss: 0.0951 - accuracy: 0.9724 - val_loss: 0.0977 - val_accuracy: 0.9703\n",
      "Epoch 8/20\n",
      "469/469 [==============================] - 8s 17ms/step - loss: 0.0857 - accuracy: 0.9744 - val_loss: 0.0997 - val_accuracy: 0.9708\n",
      "Epoch 9/20\n",
      "469/469 [==============================] - 8s 17ms/step - loss: 0.0769 - accuracy: 0.9771 - val_loss: 0.1000 - val_accuracy: 0.9698\n",
      "Epoch 10/20\n",
      "469/469 [==============================] - 8s 16ms/step - loss: 0.0739 - accuracy: 0.9773 - val_loss: 0.0856 - val_accuracy: 0.9750\n",
      "Epoch 11/20\n",
      "469/469 [==============================] - 8s 17ms/step - loss: 0.0670 - accuracy: 0.9801 - val_loss: 0.0923 - val_accuracy: 0.9751\n",
      "Epoch 12/20\n",
      "469/469 [==============================] - 8s 17ms/step - loss: 0.0616 - accuracy: 0.9815 - val_loss: 0.0961 - val_accuracy: 0.9750\n",
      "Epoch 13/20\n",
      "469/469 [==============================] - 8s 17ms/step - loss: 0.0602 - accuracy: 0.9819 - val_loss: 0.0928 - val_accuracy: 0.9753\n",
      "Epoch 14/20\n",
      "469/469 [==============================] - 7s 15ms/step - loss: 0.0556 - accuracy: 0.9830 - val_loss: 0.1053 - val_accuracy: 0.9707\n",
      "Epoch 15/20\n",
      "469/469 [==============================] - 8s 17ms/step - loss: 0.0513 - accuracy: 0.9837 - val_loss: 0.0963 - val_accuracy: 0.9748\n",
      "Epoch 16/20\n",
      "469/469 [==============================] - 8s 17ms/step - loss: 0.0498 - accuracy: 0.9845 - val_loss: 0.0944 - val_accuracy: 0.9763\n",
      "Epoch 17/20\n",
      "469/469 [==============================] - 8s 17ms/step - loss: 0.0471 - accuracy: 0.9856 - val_loss: 0.0804 - val_accuracy: 0.9777\n",
      "Epoch 18/20\n",
      "469/469 [==============================] - 8s 17ms/step - loss: 0.0478 - accuracy: 0.9856 - val_loss: 0.0873 - val_accuracy: 0.9786\n",
      "Epoch 19/20\n",
      "469/469 [==============================] - 8s 16ms/step - loss: 0.0419 - accuracy: 0.9867 - val_loss: 0.0909 - val_accuracy: 0.9779\n",
      "Epoch 20/20\n",
      "469/469 [==============================] - 8s 16ms/step - loss: 0.0412 - accuracy: 0.9870 - val_loss: 0.0912 - val_accuracy: 0.9776\n"
     ]
    },
    {
     "data": {
      "text/plain": [
       "<tensorflow.python.keras.callbacks.History at 0x7fecd8151710>"
      ]
     },
     "execution_count": 9,
     "metadata": {},
     "output_type": "execute_result"
    }
   ],
   "source": [
    "model.fit(X_train, y_train, batch_size=128, epochs=20, verbose=1, validation_data=(X_valid, y_valid))"
   ]
  }
 ],
 "metadata": {
  "kernelspec": {
   "display_name": "TensorFlow 2.3 on Python 3.6 (CUDA 10.1)",
   "language": "python",
   "name": "python3"
  },
  "language_info": {
   "codemirror_mode": {
    "name": "ipython",
    "version": 3
   },
   "file_extension": ".py",
   "mimetype": "text/x-python",
   "name": "python",
   "nbconvert_exporter": "python",
   "pygments_lexer": "ipython3",
   "version": "3.6.9"
  }
 },
 "nbformat": 4,
 "nbformat_minor": 2
}
