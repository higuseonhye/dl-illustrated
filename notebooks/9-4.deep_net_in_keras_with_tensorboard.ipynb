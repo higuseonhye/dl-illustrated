{
  "nbformat": 4,
  "nbformat_minor": 0,
  "metadata": {
    "kernelspec": {
      "display_name": "TensorFlow 2.3 on Python 3.6 (CUDA 10.1)",
      "language": "python",
      "name": "python3"
    },
    "language_info": {
      "codemirror_mode": {
        "name": "ipython",
        "version": 3
      },
      "file_extension": ".py",
      "mimetype": "text/x-python",
      "name": "python",
      "nbconvert_exporter": "python",
      "pygments_lexer": "ipython3",
      "version": "3.6.9"
    },
    "colab": {
      "name": "9-4.deep_net_in_keras_with_tensorboard.ipynb",
      "provenance": []
    },
    "accelerator": "GPU"
  },
  "cells": [
    {
      "cell_type": "markdown",
      "metadata": {
        "id": "ftUoSuRZzvE7"
      },
      "source": [
        "# 케라스와 텐서보드로 만드는 심층 신경망"
      ]
    },
    {
      "cell_type": "markdown",
      "metadata": {
        "id": "Xtg3YAuzzvFD"
      },
      "source": [
        "이 노트북에서는 [심층 신경망](https://github.com/rickiepark/dl-illustrated/blob/master/notebooks/9-4.deep_net_in_keras.ipynb)에 텐서보드 로깅을 적용합니다."
      ]
    },
    {
      "cell_type": "markdown",
      "metadata": {
        "id": "bp_jTwgRzvFD"
      },
      "source": [
        "[![Open In Colab](https://colab.research.google.com/assets/colab-badge.svg)](https://colab.research.google.com/github/rickiepark/dl-illustrated/blob/master/notebooks/9-4.deep_net_in_keras_with_tensorboard.ipynb)"
      ]
    },
    {
      "cell_type": "markdown",
      "metadata": {
        "id": "Dal_knV-zvFD"
      },
      "source": [
        "#### 라이브러리를 적재합니다."
      ]
    },
    {
      "cell_type": "code",
      "metadata": {
        "id": "gYTyaCFCzvFD"
      },
      "source": [
        "from tensorflow import keras\n",
        "from tensorflow.keras.datasets import mnist\n",
        "from tensorflow.keras.models import Sequential\n",
        "from tensorflow.keras.layers import Dense\n",
        "from tensorflow.keras.layers import Dropout \n",
        "from tensorflow.keras.layers import BatchNormalization \n",
        "from tensorflow.keras.optimizers import SGD\n",
        "from tensorflow.keras.callbacks import TensorBoard # new! "
      ],
      "execution_count": 1,
      "outputs": []
    },
    {
      "cell_type": "markdown",
      "metadata": {
        "id": "Zjh2-VD6zvFE"
      },
      "source": [
        "#### 데이터를 적재합니다."
      ]
    },
    {
      "cell_type": "code",
      "metadata": {
        "id": "SZrxEbTKzvFE",
        "colab": {
          "base_uri": "https://localhost:8080/"
        },
        "outputId": "2147e180-0968-440f-908d-4f0f44894eaf"
      },
      "source": [
        "(X_train, y_train), (X_valid, y_valid) = mnist.load_data()"
      ],
      "execution_count": 2,
      "outputs": [
        {
          "output_type": "stream",
          "text": [
            "Downloading data from https://storage.googleapis.com/tensorflow/tf-keras-datasets/mnist.npz\n",
            "11493376/11490434 [==============================] - 0s 0us/step\n"
          ],
          "name": "stdout"
        }
      ]
    },
    {
      "cell_type": "markdown",
      "metadata": {
        "id": "t_hMddRozvFE"
      },
      "source": [
        "#### 데이터를 전처리합니다."
      ]
    },
    {
      "cell_type": "code",
      "metadata": {
        "id": "VhqDEK14zvFF"
      },
      "source": [
        "X_train = X_train.reshape(60000, 784).astype('float32')\n",
        "X_valid = X_valid.reshape(10000, 784).astype('float32')"
      ],
      "execution_count": 3,
      "outputs": []
    },
    {
      "cell_type": "code",
      "metadata": {
        "id": "w3wSrsXZzvFF"
      },
      "source": [
        "X_train /= 255\n",
        "X_valid /= 255"
      ],
      "execution_count": 4,
      "outputs": []
    },
    {
      "cell_type": "code",
      "metadata": {
        "id": "4ZV6JIzMzvFF"
      },
      "source": [
        "n_classes = 10\n",
        "y_train = keras.utils.to_categorical(y_train, n_classes)\n",
        "y_valid = keras.utils.to_categorical(y_valid, n_classes)"
      ],
      "execution_count": 5,
      "outputs": []
    },
    {
      "cell_type": "markdown",
      "metadata": {
        "id": "Lt5VOEPBzvFF"
      },
      "source": [
        "#### 신경망을 만듭니다."
      ]
    },
    {
      "cell_type": "code",
      "metadata": {
        "id": "fVY5TvQ3zvFF"
      },
      "source": [
        "model = Sequential()\n",
        "\n",
        "model.add(Dense(64, activation='relu', input_shape=(784,)))\n",
        "model.add(BatchNormalization())\n",
        "\n",
        "model.add(Dense(64, activation='relu'))\n",
        "model.add(BatchNormalization())\n",
        "\n",
        "model.add(Dense(64, activation='relu'))\n",
        "model.add(BatchNormalization())\n",
        "model.add(Dropout(0.2))\n",
        "\n",
        "model.add(Dense(10, activation='softmax'))"
      ],
      "execution_count": 6,
      "outputs": []
    },
    {
      "cell_type": "code",
      "metadata": {
        "id": "sILoKbP_zvFG",
        "colab": {
          "base_uri": "https://localhost:8080/"
        },
        "outputId": "87a008f9-1a1e-4959-8346-bdd9bebb570d"
      },
      "source": [
        "model.summary()"
      ],
      "execution_count": 7,
      "outputs": [
        {
          "output_type": "stream",
          "text": [
            "Model: \"sequential\"\n",
            "_________________________________________________________________\n",
            "Layer (type)                 Output Shape              Param #   \n",
            "=================================================================\n",
            "dense (Dense)                (None, 64)                50240     \n",
            "_________________________________________________________________\n",
            "batch_normalization (BatchNo (None, 64)                256       \n",
            "_________________________________________________________________\n",
            "dense_1 (Dense)              (None, 64)                4160      \n",
            "_________________________________________________________________\n",
            "batch_normalization_1 (Batch (None, 64)                256       \n",
            "_________________________________________________________________\n",
            "dense_2 (Dense)              (None, 64)                4160      \n",
            "_________________________________________________________________\n",
            "batch_normalization_2 (Batch (None, 64)                256       \n",
            "_________________________________________________________________\n",
            "dropout (Dropout)            (None, 64)                0         \n",
            "_________________________________________________________________\n",
            "dense_3 (Dense)              (None, 10)                650       \n",
            "=================================================================\n",
            "Total params: 59,978\n",
            "Trainable params: 59,594\n",
            "Non-trainable params: 384\n",
            "_________________________________________________________________\n"
          ],
          "name": "stdout"
        }
      ]
    },
    {
      "cell_type": "markdown",
      "metadata": {
        "id": "SsUQ140XzvFH"
      },
      "source": [
        "#### 모델을 설정합니다."
      ]
    },
    {
      "cell_type": "code",
      "metadata": {
        "id": "JM8fushDzvFH"
      },
      "source": [
        "model.compile(loss='categorical_crossentropy', optimizer='adam', metrics=['accuracy'])"
      ],
      "execution_count": 8,
      "outputs": []
    },
    {
      "cell_type": "markdown",
      "metadata": {
        "id": "Yq6ZGXKizvFH"
      },
      "source": [
        "#### 텐서보드 로깅 디렉토리를 설정합니다."
      ]
    },
    {
      "cell_type": "code",
      "metadata": {
        "id": "B3Su3QnvzvFI"
      },
      "source": [
        "tensorboard = TensorBoard('logs/deep-net')"
      ],
      "execution_count": 9,
      "outputs": []
    },
    {
      "cell_type": "markdown",
      "metadata": {
        "id": "SvteFz5QzvFI"
      },
      "source": [
        "#### 훈련!"
      ]
    },
    {
      "cell_type": "code",
      "metadata": {
        "id": "ccPTTJfUzvFI",
        "colab": {
          "base_uri": "https://localhost:8080/"
        },
        "outputId": "107bc1bc-04a6-41bd-c5c2-da8763f4da08"
      },
      "source": [
        "model.fit(X_train, y_train, \n",
        "          batch_size=128, \n",
        "          epochs=20, verbose=1, \n",
        "          validation_data=(X_valid, y_valid),\n",
        "          callbacks=[tensorboard])"
      ],
      "execution_count": 10,
      "outputs": [
        {
          "output_type": "stream",
          "text": [
            "Epoch 1/20\n",
            "469/469 [==============================] - 7s 7ms/step - loss: 0.3848 - accuracy: 0.8873 - val_loss: 0.1651 - val_accuracy: 0.9499\n",
            "Epoch 2/20\n",
            "469/469 [==============================] - 2s 5ms/step - loss: 0.1557 - accuracy: 0.9539 - val_loss: 0.1261 - val_accuracy: 0.9633\n",
            "Epoch 3/20\n",
            "469/469 [==============================] - 2s 5ms/step - loss: 0.1114 - accuracy: 0.9672 - val_loss: 0.1123 - val_accuracy: 0.9651\n",
            "Epoch 4/20\n",
            "469/469 [==============================] - 2s 5ms/step - loss: 0.0901 - accuracy: 0.9725 - val_loss: 0.0975 - val_accuracy: 0.9690\n",
            "Epoch 5/20\n",
            "469/469 [==============================] - 2s 5ms/step - loss: 0.0772 - accuracy: 0.9765 - val_loss: 0.0982 - val_accuracy: 0.9691\n",
            "Epoch 6/20\n",
            "469/469 [==============================] - 2s 5ms/step - loss: 0.0654 - accuracy: 0.9795 - val_loss: 0.0950 - val_accuracy: 0.9705\n",
            "Epoch 7/20\n",
            "469/469 [==============================] - 2s 5ms/step - loss: 0.0580 - accuracy: 0.9816 - val_loss: 0.0859 - val_accuracy: 0.9742\n",
            "Epoch 8/20\n",
            "469/469 [==============================] - 2s 5ms/step - loss: 0.0517 - accuracy: 0.9835 - val_loss: 0.0865 - val_accuracy: 0.9743\n",
            "Epoch 9/20\n",
            "469/469 [==============================] - 2s 5ms/step - loss: 0.0458 - accuracy: 0.9852 - val_loss: 0.0859 - val_accuracy: 0.9757\n",
            "Epoch 10/20\n",
            "469/469 [==============================] - 2s 5ms/step - loss: 0.0404 - accuracy: 0.9870 - val_loss: 0.0839 - val_accuracy: 0.9760\n",
            "Epoch 11/20\n",
            "469/469 [==============================] - 2s 5ms/step - loss: 0.0378 - accuracy: 0.9875 - val_loss: 0.0838 - val_accuracy: 0.9754\n",
            "Epoch 12/20\n",
            "469/469 [==============================] - 2s 5ms/step - loss: 0.0341 - accuracy: 0.9885 - val_loss: 0.0832 - val_accuracy: 0.9764\n",
            "Epoch 13/20\n",
            "469/469 [==============================] - 2s 5ms/step - loss: 0.0315 - accuracy: 0.9896 - val_loss: 0.0986 - val_accuracy: 0.9724\n",
            "Epoch 14/20\n",
            "469/469 [==============================] - 2s 5ms/step - loss: 0.0311 - accuracy: 0.9899 - val_loss: 0.0907 - val_accuracy: 0.9753\n",
            "Epoch 15/20\n",
            "469/469 [==============================] - 2s 5ms/step - loss: 0.0270 - accuracy: 0.9911 - val_loss: 0.0992 - val_accuracy: 0.9731\n",
            "Epoch 16/20\n",
            "469/469 [==============================] - 2s 5ms/step - loss: 0.0259 - accuracy: 0.9913 - val_loss: 0.0902 - val_accuracy: 0.9756\n",
            "Epoch 17/20\n",
            "469/469 [==============================] - 2s 5ms/step - loss: 0.0249 - accuracy: 0.9916 - val_loss: 0.0941 - val_accuracy: 0.9759\n",
            "Epoch 18/20\n",
            "469/469 [==============================] - 2s 5ms/step - loss: 0.0236 - accuracy: 0.9921 - val_loss: 0.0952 - val_accuracy: 0.9762\n",
            "Epoch 19/20\n",
            "469/469 [==============================] - 2s 5ms/step - loss: 0.0236 - accuracy: 0.9920 - val_loss: 0.0974 - val_accuracy: 0.9760\n",
            "Epoch 20/20\n",
            "469/469 [==============================] - 2s 5ms/step - loss: 0.0209 - accuracy: 0.9929 - val_loss: 0.0881 - val_accuracy: 0.9773\n"
          ],
          "name": "stdout"
        },
        {
          "output_type": "execute_result",
          "data": {
            "text/plain": [
              "<tensorflow.python.keras.callbacks.History at 0x7f1d0267ce10>"
            ]
          },
          "metadata": {
            "tags": []
          },
          "execution_count": 10
        }
      ]
    }
  ]
}