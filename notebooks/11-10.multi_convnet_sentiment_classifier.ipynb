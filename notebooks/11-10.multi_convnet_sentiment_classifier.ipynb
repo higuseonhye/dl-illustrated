{
  "nbformat": 4,
  "nbformat_minor": 0,
  "metadata": {
    "kernelspec": {
      "display_name": "TensorFlow 2.3 on Python 3.6 (CUDA 10.1)",
      "language": "python",
      "name": "python3"
    },
    "language_info": {
      "codemirror_mode": {
        "name": "ipython",
        "version": 3
      },
      "file_extension": ".py",
      "mimetype": "text/x-python",
      "name": "python",
      "nbconvert_exporter": "python",
      "pygments_lexer": "ipython3",
      "version": "3.6.9"
    },
    "colab": {
      "name": "11-10.multi_convnet_sentiment_classifier.ipynb",
      "provenance": []
    },
    "accelerator": "GPU"
  },
  "cells": [
    {
      "cell_type": "markdown",
      "metadata": {
        "id": "hgUcB5mLZ26f"
      },
      "source": [
        "# 다중 합성곱 감성 분류기"
      ]
    },
    {
      "cell_type": "markdown",
      "metadata": {
        "id": "dORKDN5FZ26j"
      },
      "source": [
        "이 노트북에서 *다중 병렬 합성곱 층*의 출력을 연결하여 감성에 따라 IMDB 영화 리뷰를 분류합니다."
      ]
    },
    {
      "cell_type": "markdown",
      "metadata": {
        "id": "yTRCaPqnZ26k"
      },
      "source": [
        "[![Open In Colab](https://colab.research.google.com/assets/colab-badge.svg)](https://colab.research.google.com/github/rickiepark/dl-illustrated/blob/master/notebooks/11-10.multi_convnet_sentiment_classifier.ipynb)"
      ]
    },
    {
      "cell_type": "markdown",
      "metadata": {
        "id": "iALmwm2cZ26k"
      },
      "source": [
        "#### 라이브러리 적재"
      ]
    },
    {
      "cell_type": "code",
      "metadata": {
        "id": "f2JHAgJwZ26k"
      },
      "source": [
        "from tensorflow import keras\n",
        "from tensorflow.keras.datasets import imdb\n",
        "from tensorflow.keras.preprocessing.sequence import pad_sequences\n",
        "from tensorflow.keras.models import Model # new!\n",
        "from tensorflow.keras.layers import Input, concatenate # new! \n",
        "from tensorflow.keras.layers import Dense, Dropout, Embedding, SpatialDropout1D, Conv1D, GlobalMaxPooling1D\n",
        "from tensorflow.keras.callbacks import ModelCheckpoint\n",
        "import os\n",
        "from sklearn.metrics import roc_auc_score \n",
        "import matplotlib.pyplot as plt \n",
        "%matplotlib inline"
      ],
      "execution_count": 1,
      "outputs": []
    },
    {
      "cell_type": "markdown",
      "metadata": {
        "id": "DnbKgILpZ26l"
      },
      "source": [
        "#### 하이퍼파라미터 설정"
      ]
    },
    {
      "cell_type": "code",
      "metadata": {
        "id": "mOLHsKenZ26l"
      },
      "source": [
        "# 출력 디렉토리\n",
        "output_dir = 'model_output/multiconv'\n",
        "\n",
        "# 훈련\n",
        "epochs = 4\n",
        "batch_size = 128\n",
        "\n",
        "# 벡터 공간 임베딩\n",
        "n_dim = 64\n",
        "n_unique_words = 5000 \n",
        "max_review_length = 400\n",
        "pad_type = trunc_type = 'pre'\n",
        "drop_embed = 0.2 \n",
        "\n",
        "# 합성곱 층 구조\n",
        "n_conv_1 = n_conv_2 = n_conv_3 = 256 \n",
        "k_conv_1 = 3\n",
        "k_conv_2 = 2\n",
        "k_conv_3 = 4\n",
        "\n",
        "# 밀집 층 구조\n",
        "n_dense = 256\n",
        "dropout = 0.2"
      ],
      "execution_count": 2,
      "outputs": []
    },
    {
      "cell_type": "markdown",
      "metadata": {
        "id": "xwLgb-K_Z26l"
      },
      "source": [
        "#### 데이터 적재"
      ]
    },
    {
      "cell_type": "code",
      "metadata": {
        "id": "kSk72OKKZ26l",
        "outputId": "dfb47726-0e59-49e0-e5e4-e74ab61f5aee",
        "colab": {
          "base_uri": "https://localhost:8080/"
        }
      },
      "source": [
        "(x_train, y_train), (x_valid, y_valid) = imdb.load_data(num_words=n_unique_words) "
      ],
      "execution_count": 3,
      "outputs": [
        {
          "output_type": "stream",
          "text": [
            "Downloading data from https://storage.googleapis.com/tensorflow/tf-keras-datasets/imdb.npz\n",
            "17465344/17464789 [==============================] - 0s 0us/step\n"
          ],
          "name": "stdout"
        },
        {
          "output_type": "stream",
          "text": [
            "<string>:6: VisibleDeprecationWarning: Creating an ndarray from ragged nested sequences (which is a list-or-tuple of lists-or-tuples-or ndarrays with different lengths or shapes) is deprecated. If you meant to do this, you must specify 'dtype=object' when creating the ndarray\n",
            "/usr/local/lib/python3.6/dist-packages/tensorflow/python/keras/datasets/imdb.py:159: VisibleDeprecationWarning: Creating an ndarray from ragged nested sequences (which is a list-or-tuple of lists-or-tuples-or ndarrays with different lengths or shapes) is deprecated. If you meant to do this, you must specify 'dtype=object' when creating the ndarray\n",
            "  x_train, y_train = np.array(xs[:idx]), np.array(labels[:idx])\n",
            "/usr/local/lib/python3.6/dist-packages/tensorflow/python/keras/datasets/imdb.py:160: VisibleDeprecationWarning: Creating an ndarray from ragged nested sequences (which is a list-or-tuple of lists-or-tuples-or ndarrays with different lengths or shapes) is deprecated. If you meant to do this, you must specify 'dtype=object' when creating the ndarray\n",
            "  x_test, y_test = np.array(xs[idx:]), np.array(labels[idx:])\n"
          ],
          "name": "stderr"
        }
      ]
    },
    {
      "cell_type": "markdown",
      "metadata": {
        "id": "ITmaGTkiZ26m"
      },
      "source": [
        "#### 데이터 전처리"
      ]
    },
    {
      "cell_type": "code",
      "metadata": {
        "id": "jVtWHU1WZ26n"
      },
      "source": [
        "x_train = pad_sequences(x_train, maxlen=max_review_length, padding=pad_type, truncating=trunc_type, value=0)\n",
        "x_valid = pad_sequences(x_valid, maxlen=max_review_length, padding=pad_type, truncating=trunc_type, value=0)"
      ],
      "execution_count": 4,
      "outputs": []
    },
    {
      "cell_type": "markdown",
      "metadata": {
        "collapsed": true,
        "id": "Q46OGkIBZ26n"
      },
      "source": [
        "#### 신경망 만들기"
      ]
    },
    {
      "cell_type": "code",
      "metadata": {
        "id": "Dch3SgLlZ26n"
      },
      "source": [
        "input_layer = Input(shape=(max_review_length,), \n",
        "                    dtype='int16', name='input') \n",
        "\n",
        "# 임베딩 \n",
        "embedding_layer = Embedding(n_unique_words, n_dim, \n",
        "                            name='embedding')(input_layer)\n",
        "drop_embed_layer = SpatialDropout1D(drop_embed, \n",
        "                                    name='drop_embed')(embedding_layer)\n",
        "\n",
        "# 3개의 병렬 합성곱 층\n",
        "conv_1 = Conv1D(n_conv_1, k_conv_1, \n",
        "                activation='relu', name='conv_1')(drop_embed_layer)\n",
        "maxp_1 = GlobalMaxPooling1D(name='maxp_1')(conv_1)\n",
        "\n",
        "conv_2 = Conv1D(n_conv_2, k_conv_2, \n",
        "                activation='relu', name='conv_2')(drop_embed_layer)\n",
        "maxp_2 = GlobalMaxPooling1D(name='maxp_2')(conv_2)\n",
        "\n",
        "conv_3 = Conv1D(n_conv_3, k_conv_3, \n",
        "                activation='relu', name='conv_3')(drop_embed_layer)\n",
        "maxp_3 = GlobalMaxPooling1D(name='maxp_3')(conv_3)\n",
        "\n",
        "# 합성곱 층의 활성화 연결\n",
        "concat = concatenate([maxp_1, maxp_2, maxp_3])\n",
        "\n",
        "# 밀집 은닉층\n",
        "dense_layer = Dense(n_dense, \n",
        "                    activation='relu', name='dense')(concat)\n",
        "drop_dense_layer = Dropout(dropout, name='drop_dense')(dense_layer)\n",
        "dense_2 = Dense(int(n_dense/4), \n",
        "                activation='relu', name='dense_2')(drop_dense_layer)\n",
        "dropout_2 = Dropout(dropout, name='drop_dense_2')(dense_2)\n",
        "\n",
        "# 출력층\n",
        "predictions = Dense(1, activation='sigmoid', name='output')(dropout_2)\n",
        "\n",
        "# 모델 생성\n",
        "model = Model(input_layer, predictions)"
      ],
      "execution_count": 5,
      "outputs": []
    },
    {
      "cell_type": "code",
      "metadata": {
        "id": "tI3w7on5Z26n",
        "outputId": "19bcc9f7-fc34-49cc-ff28-9cc3e8cf7e42",
        "colab": {
          "base_uri": "https://localhost:8080/"
        }
      },
      "source": [
        "model.summary() "
      ],
      "execution_count": 6,
      "outputs": [
        {
          "output_type": "stream",
          "text": [
            "Model: \"model\"\n",
            "__________________________________________________________________________________________________\n",
            "Layer (type)                    Output Shape         Param #     Connected to                     \n",
            "==================================================================================================\n",
            "input (InputLayer)              [(None, 400)]        0                                            \n",
            "__________________________________________________________________________________________________\n",
            "embedding (Embedding)           (None, 400, 64)      320000      input[0][0]                      \n",
            "__________________________________________________________________________________________________\n",
            "drop_embed (SpatialDropout1D)   (None, 400, 64)      0           embedding[0][0]                  \n",
            "__________________________________________________________________________________________________\n",
            "conv_1 (Conv1D)                 (None, 398, 256)     49408       drop_embed[0][0]                 \n",
            "__________________________________________________________________________________________________\n",
            "conv_2 (Conv1D)                 (None, 399, 256)     33024       drop_embed[0][0]                 \n",
            "__________________________________________________________________________________________________\n",
            "conv_3 (Conv1D)                 (None, 397, 256)     65792       drop_embed[0][0]                 \n",
            "__________________________________________________________________________________________________\n",
            "maxp_1 (GlobalMaxPooling1D)     (None, 256)          0           conv_1[0][0]                     \n",
            "__________________________________________________________________________________________________\n",
            "maxp_2 (GlobalMaxPooling1D)     (None, 256)          0           conv_2[0][0]                     \n",
            "__________________________________________________________________________________________________\n",
            "maxp_3 (GlobalMaxPooling1D)     (None, 256)          0           conv_3[0][0]                     \n",
            "__________________________________________________________________________________________________\n",
            "concatenate (Concatenate)       (None, 768)          0           maxp_1[0][0]                     \n",
            "                                                                 maxp_2[0][0]                     \n",
            "                                                                 maxp_3[0][0]                     \n",
            "__________________________________________________________________________________________________\n",
            "dense (Dense)                   (None, 256)          196864      concatenate[0][0]                \n",
            "__________________________________________________________________________________________________\n",
            "drop_dense (Dropout)            (None, 256)          0           dense[0][0]                      \n",
            "__________________________________________________________________________________________________\n",
            "dense_2 (Dense)                 (None, 64)           16448       drop_dense[0][0]                 \n",
            "__________________________________________________________________________________________________\n",
            "drop_dense_2 (Dropout)          (None, 64)           0           dense_2[0][0]                    \n",
            "__________________________________________________________________________________________________\n",
            "output (Dense)                  (None, 1)            65          drop_dense_2[0][0]               \n",
            "==================================================================================================\n",
            "Total params: 681,601\n",
            "Trainable params: 681,601\n",
            "Non-trainable params: 0\n",
            "__________________________________________________________________________________________________\n"
          ],
          "name": "stdout"
        }
      ]
    },
    {
      "cell_type": "markdown",
      "metadata": {
        "id": "YGDpwG6dZ26o"
      },
      "source": [
        "#### 모델 설정"
      ]
    },
    {
      "cell_type": "code",
      "metadata": {
        "id": "sRhMKJMuZ26o"
      },
      "source": [
        "model.compile(loss='binary_crossentropy', optimizer='adam', metrics=['accuracy'])"
      ],
      "execution_count": 7,
      "outputs": []
    },
    {
      "cell_type": "code",
      "metadata": {
        "id": "sUleP9BQZ26o"
      },
      "source": [
        "modelcheckpoint = ModelCheckpoint(filepath=output_dir+\"/weights.{epoch:02d}.hdf5\")\n",
        "if not os.path.exists(output_dir):\n",
        "    os.makedirs(output_dir)"
      ],
      "execution_count": 8,
      "outputs": []
    },
    {
      "cell_type": "markdown",
      "metadata": {
        "id": "AkUhP6QdZ26o"
      },
      "source": [
        "#### 훈련!"
      ]
    },
    {
      "cell_type": "code",
      "metadata": {
        "id": "13wm-Rp1Z26o",
        "outputId": "8c644ee4-7fea-41cb-9168-595f9ea14caf",
        "colab": {
          "base_uri": "https://localhost:8080/"
        }
      },
      "source": [
        "model.fit(x_train, y_train, batch_size=batch_size, epochs=epochs, verbose=1, validation_data=(x_valid, y_valid), callbacks=[modelcheckpoint])"
      ],
      "execution_count": 9,
      "outputs": [
        {
          "output_type": "stream",
          "text": [
            "Epoch 1/4\n",
            "196/196 [==============================] - 18s 53ms/step - loss: 0.6255 - accuracy: 0.5945 - val_loss: 0.3098 - val_accuracy: 0.8694\n",
            "Epoch 2/4\n",
            "196/196 [==============================] - 10s 51ms/step - loss: 0.2682 - accuracy: 0.8954 - val_loss: 0.2738 - val_accuracy: 0.8858\n",
            "Epoch 3/4\n",
            "196/196 [==============================] - 10s 51ms/step - loss: 0.1688 - accuracy: 0.9401 - val_loss: 0.2734 - val_accuracy: 0.8908\n",
            "Epoch 4/4\n",
            "196/196 [==============================] - 10s 51ms/step - loss: 0.1158 - accuracy: 0.9612 - val_loss: 0.2855 - val_accuracy: 0.8918\n"
          ],
          "name": "stdout"
        },
        {
          "output_type": "execute_result",
          "data": {
            "text/plain": [
              "<tensorflow.python.keras.callbacks.History at 0x7ff9abe54828>"
            ]
          },
          "metadata": {
            "tags": []
          },
          "execution_count": 9
        }
      ]
    },
    {
      "cell_type": "markdown",
      "metadata": {
        "collapsed": true,
        "id": "HNOc-P0rZ26p"
      },
      "source": [
        "#### 평가"
      ]
    },
    {
      "cell_type": "code",
      "metadata": {
        "id": "i61pwDKBZ26p"
      },
      "source": [
        "model.load_weights(output_dir+\"/weights.02.hdf5\") "
      ],
      "execution_count": 10,
      "outputs": []
    },
    {
      "cell_type": "code",
      "metadata": {
        "id": "Z7m7gkB-Z26p"
      },
      "source": [
        "y_hat = model.predict(x_valid)"
      ],
      "execution_count": 11,
      "outputs": []
    },
    {
      "cell_type": "code",
      "metadata": {
        "id": "rznxemPUZ26p",
        "outputId": "c3f79549-fc16-48a4-84d5-6b30ddd0b25c",
        "colab": {
          "base_uri": "https://localhost:8080/",
          "height": 265
        }
      },
      "source": [
        "plt.hist(y_hat)\n",
        "_ = plt.axvline(x=0.5, color='orange')"
      ],
      "execution_count": 12,
      "outputs": [
        {
          "output_type": "display_data",
          "data": {
            "image/png": "[encoded data removed]",
            "text/plain": [
              "<Figure size 432x288 with 1 Axes>"
            ]
          },
          "metadata": {
            "tags": [],
            "needs_background": "light"
          }
        }
      ]
    },
    {
      "cell_type": "code",
      "metadata": {
        "id": "icJwtOmaZ26p",
        "outputId": "04316aba-50d6-4795-b92b-8774fd970c23",
        "colab": {
          "base_uri": "https://localhost:8080/",
          "height": 35
        }
      },
      "source": [
        "\"{:0.2f}\".format(roc_auc_score(y_valid, y_hat)*100.0)"
      ],
      "execution_count": 13,
      "outputs": [
        {
          "output_type": "execute_result",
          "data": {
            "application/vnd.google.colaboratory.intrinsic+json": {
              "type": "string"
            },
            "text/plain": [
              "'96.03'"
            ]
          },
          "metadata": {
            "tags": []
          },
          "execution_count": 13
        }
      ]
    }
  ]
}