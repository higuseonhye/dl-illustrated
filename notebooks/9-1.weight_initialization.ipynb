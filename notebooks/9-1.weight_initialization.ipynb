{
  "nbformat": 4,
  "nbformat_minor": 0,
  "metadata": {
    "kernelspec": {
      "display_name": "TensorFlow 2.3 on Python 3.6 (CUDA 10.1)",
      "language": "python",
      "name": "python3"
    },
    "language_info": {
      "codemirror_mode": {
        "name": "ipython",
        "version": 3
      },
      "file_extension": ".py",
      "mimetype": "text/x-python",
      "name": "python",
      "nbconvert_exporter": "python",
      "pygments_lexer": "ipython3",
      "version": "3.6.9"
    },
    "colab": {
      "name": "9-1.weight_initialization.ipynb",
      "provenance": []
    },
    "accelerator": "GPU"
  },
  "cells": [
    {
      "cell_type": "markdown",
      "metadata": {
        "id": "0cwi1yTfzXOE"
      },
      "source": [
        "# 가중치 초기화"
      ]
    },
    {
      "cell_type": "markdown",
      "metadata": {
        "id": "e6UbOPmAzXOL"
      },
      "source": [
        "이 노트북에서는 가중치 초기화가 층의 출력에 어떤 영향을 미치는지 알아 봅니다."
      ]
    },
    {
      "cell_type": "markdown",
      "metadata": {
        "id": "MgdZpxD0zXOM"
      },
      "source": [
        "[![Open In Colab](https://colab.research.google.com/assets/colab-badge.svg)](https://colab.research.google.com/github/rickiepark/dl-illustrated/blob/master/notebooks/9-1.weight_initialization.ipynb)"
      ]
    },
    {
      "cell_type": "markdown",
      "metadata": {
        "id": "lYtDagbOzXOM"
      },
      "source": [
        "#### 라이브러리를 적재합니다."
      ]
    },
    {
      "cell_type": "code",
      "metadata": {
        "id": "E3h3NczrzXOM"
      },
      "source": [
        "import numpy as np\n",
        "import matplotlib.pyplot as plt\n",
        "\n",
        "from tensorflow.keras import Sequential\n",
        "from tensorflow.keras.layers import Dense, Activation\n",
        "from tensorflow.keras.initializers import Zeros, RandomNormal, glorot_normal, glorot_uniform"
      ],
      "execution_count": 1,
      "outputs": []
    },
    {
      "cell_type": "markdown",
      "metadata": {
        "id": "8ieDVCRpzXON"
      },
      "source": [
        "#### 뉴런의 개수를 지정합니다."
      ]
    },
    {
      "cell_type": "code",
      "metadata": {
        "id": "P1v3ZBUhzXON"
      },
      "source": [
        "n_input = 784\n",
        "n_dense = 256"
      ],
      "execution_count": 2,
      "outputs": []
    },
    {
      "cell_type": "markdown",
      "metadata": {
        "id": "uvSpE-mlzXON"
      },
      "source": [
        "#### 절편의 초깃값을 지정합니다."
      ]
    },
    {
      "cell_type": "code",
      "metadata": {
        "id": "PHzeN5tezXON"
      },
      "source": [
        "b_init = Zeros()"
      ],
      "execution_count": 3,
      "outputs": []
    },
    {
      "cell_type": "markdown",
      "metadata": {
        "id": "SR_B3hupzXOO"
      },
      "source": [
        "#### 가중치 초기화를 선택합니다."
      ]
    },
    {
      "cell_type": "code",
      "metadata": {
        "id": "PPA9GguezXOO"
      },
      "source": [
        "w_init = RandomNormal(stddev=1.0)\n",
        "# w_init = glorot_normal()\n",
        "# w_init = glorot_uniform()"
      ],
      "execution_count": 4,
      "outputs": []
    },
    {
      "cell_type": "markdown",
      "metadata": {
        "id": "RpDUl7hazXOO"
      },
      "source": [
        "#### 신경망을 만듭니다."
      ]
    },
    {
      "cell_type": "code",
      "metadata": {
        "id": "e7voAI6dzXOO"
      },
      "source": [
        "model = Sequential()\n",
        "model.add(Dense(n_dense, \n",
        "                input_dim=n_input,\n",
        "                kernel_initializer=w_init,\n",
        "                bias_initializer=b_init))\n",
        "model.add(Activation('sigmoid'))\n",
        "# model.add(Activation('tanh'))\n",
        "# model.add(Activation('relu'))"
      ],
      "execution_count": 5,
      "outputs": []
    },
    {
      "cell_type": "markdown",
      "metadata": {
        "id": "xHSsM8QKzXOP"
      },
      "source": [
        "#### 랜덤한 *x* 값을 생성합니다."
      ]
    },
    {
      "cell_type": "code",
      "metadata": {
        "id": "VOXC5EtBzXOP"
      },
      "source": [
        "x = np.random.random((1,n_input))"
      ],
      "execution_count": 6,
      "outputs": []
    },
    {
      "cell_type": "markdown",
      "metadata": {
        "id": "ucgRuwWGzXOP"
      },
      "source": [
        "#### 신경망의 정방향 계산을 수행합니다."
      ]
    },
    {
      "cell_type": "code",
      "metadata": {
        "id": "ddTN1W_AzXOP"
      },
      "source": [
        "a = model.predict(x)"
      ],
      "execution_count": 7,
      "outputs": []
    },
    {
      "cell_type": "code",
      "metadata": {
        "id": "XgoTL6gGzXOQ",
        "colab": {
          "base_uri": "https://localhost:8080/"
        },
        "outputId": "2c6c519e-cbd4-49b0-eeaf-6e3002bcb9db"
      },
      "source": [
        "a"
      ],
      "execution_count": 8,
      "outputs": [
        {
          "output_type": "execute_result",
          "data": {
            "text/plain": [
              "array([[9.97022331e-01, 1.00000000e+00, 3.04701010e-04, 9.99999881e-01,\n",
              "        1.44982641e-05, 8.54674634e-03, 9.97434199e-01, 1.01945510e-07,\n",
              "        9.99999642e-01, 9.75458682e-01, 7.20733404e-01, 1.00000000e+00,\n",
              "        1.00000000e+00, 9.99993086e-01, 9.99994278e-01, 9.99989271e-01,\n",
              "        8.83904040e-01, 9.99999166e-01, 4.17141523e-03, 1.85967982e-03,\n",
              "        7.72963582e-10, 5.78144416e-02, 1.00000000e+00, 1.98354201e-07,\n",
              "        1.13750009e-09, 1.00000000e+00, 2.16795271e-14, 1.00000000e+00,\n",
              "        8.65842503e-06, 6.16439998e-01, 9.98912215e-01, 5.37347794e-03,\n",
              "        2.69366973e-10, 9.99009848e-01, 9.99968410e-01, 4.73444238e-02,\n",
              "        2.95139309e-02, 9.97594893e-01, 9.99999881e-01, 1.00000000e+00,\n",
              "        9.89705145e-01, 1.19730853e-01, 5.60757224e-14, 2.95800953e-11,\n",
              "        9.99999523e-01, 9.55298063e-11, 9.99993443e-01, 1.90563185e-07,\n",
              "        9.94496405e-01, 1.00000000e+00, 9.99996424e-01, 9.32075363e-06,\n",
              "        4.36265953e-02, 1.00224825e-05, 1.03199511e-06, 9.99999881e-01,\n",
              "        1.39825119e-07, 7.18090405e-06, 2.16805329e-09, 2.26457212e-02,\n",
              "        7.50895093e-12, 9.99999881e-01, 8.80236924e-02, 2.66173445e-02,\n",
              "        8.43611138e-04, 5.22347450e-01, 7.99705744e-01, 2.99336808e-03,\n",
              "        2.68414762e-04, 9.71126258e-01, 9.97051120e-01, 9.99995112e-01,\n",
              "        9.99787629e-01, 8.35712194e-01, 2.93029159e-01, 4.31029475e-05,\n",
              "        1.00000000e+00, 1.00000000e+00, 1.00000000e+00, 1.00000000e+00,\n",
              "        9.79098797e-01, 9.04828135e-04, 9.97971833e-01, 5.34810781e-01,\n",
              "        4.56114576e-05, 9.99999762e-01, 2.21194190e-04, 1.00000000e+00,\n",
              "        2.96479762e-01, 1.35917708e-01, 9.99996662e-01, 9.99997973e-01,\n",
              "        9.67288256e-01, 2.64423173e-02, 7.83482730e-01, 1.00000000e+00,\n",
              "        6.38347908e-09, 2.38021448e-06, 1.00000000e+00, 6.87681393e-07,\n",
              "        8.35377634e-01, 2.89441377e-04, 2.65740347e-03, 1.00000000e+00,\n",
              "        9.23618376e-01, 1.00000000e+00, 1.86914179e-10, 3.24199464e-05,\n",
              "        1.01192012e-01, 1.00000000e+00, 9.67700005e-01, 9.99995589e-01,\n",
              "        9.53557285e-12, 9.99830008e-01, 4.18159068e-01, 4.34102985e-04,\n",
              "        4.75317094e-04, 6.48836255e-01, 5.92785239e-01, 8.82929027e-01,\n",
              "        9.99991894e-01, 5.94046175e-01, 6.39413556e-05, 1.19070522e-02,\n",
              "        5.11152030e-06, 2.08429947e-06, 2.13798909e-13, 9.20076029e-11,\n",
              "        3.50128785e-02, 1.00000000e+00, 9.99999166e-01, 1.62510139e-09,\n",
              "        3.08120107e-05, 9.99902368e-01, 9.85832453e-01, 9.99144435e-01,\n",
              "        5.64446032e-01, 1.00000000e+00, 9.99144077e-01, 6.05013462e-09,\n",
              "        9.88839328e-01, 9.52639580e-01, 1.08733933e-09, 1.57031012e-04,\n",
              "        1.00000000e+00, 4.69468819e-09, 9.99968529e-01, 1.16701649e-07,\n",
              "        1.00000000e+00, 8.57855566e-03, 2.44422481e-05, 1.53493929e-05,\n",
              "        9.99996305e-01, 1.00000000e+00, 1.00000000e+00, 9.99995232e-01,\n",
              "        1.00000000e+00, 9.50261918e-12, 1.00000000e+00, 1.00000000e+00,\n",
              "        9.99999523e-01, 2.48656488e-06, 1.00000000e+00, 9.99996185e-01,\n",
              "        9.92218852e-01, 1.20118813e-08, 9.99991536e-01, 3.86526011e-09,\n",
              "        9.99859333e-01, 3.13314980e-14, 9.99940515e-01, 2.93561310e-01,\n",
              "        2.82741562e-02, 6.40396962e-08, 2.74609556e-05, 1.00000000e+00,\n",
              "        2.52792400e-08, 9.99999285e-01, 5.41053712e-03, 9.99746025e-01,\n",
              "        8.44863296e-01, 9.12328630e-07, 9.44883883e-01, 2.16604332e-10,\n",
              "        9.99997854e-01, 1.18894351e-15, 5.62298775e-01, 9.99831796e-01,\n",
              "        1.56157538e-01, 8.22086632e-03, 9.99915600e-01, 1.00000000e+00,\n",
              "        6.25100918e-04, 3.30532640e-02, 5.87179780e-01, 3.50417366e-07,\n",
              "        1.12563681e-19, 3.49305060e-06, 1.96020864e-02, 9.84055281e-01,\n",
              "        9.99999762e-01, 2.26359159e-01, 9.98521268e-01, 9.99995828e-01,\n",
              "        1.38233179e-06, 1.28933087e-01, 1.00000000e+00, 9.99980211e-01,\n",
              "        1.00000000e+00, 4.08381134e-10, 5.51778998e-04, 1.00000000e+00,\n",
              "        9.99919891e-01, 6.12144300e-04, 4.34221999e-11, 1.11106836e-11,\n",
              "        7.33006597e-01, 1.00000000e+00, 4.31554496e-01, 7.73986936e-01,\n",
              "        9.98210669e-01, 1.00000000e+00, 1.01933691e-10, 2.58667387e-06,\n",
              "        6.11470909e-08, 9.99998927e-01, 9.97781456e-01, 5.09319901e-01,\n",
              "        1.00000000e+00, 1.00000000e+00, 6.15518170e-09, 9.98735726e-01,\n",
              "        9.95856225e-01, 8.21547955e-03, 1.00000000e+00, 1.00000000e+00,\n",
              "        1.56178663e-04, 1.00000000e+00, 1.00000000e+00, 9.51455772e-01,\n",
              "        8.61144508e-06, 5.25158107e-01, 1.00000000e+00, 9.99999166e-01,\n",
              "        9.99995828e-01, 9.99925375e-01, 9.99945998e-01, 2.26238171e-06,\n",
              "        9.96080577e-01, 9.65861138e-03, 9.99969244e-01, 3.15998186e-05,\n",
              "        1.46489910e-07, 9.78068411e-01, 9.82632753e-10, 1.18652437e-07]],\n",
              "      dtype=float32)"
            ]
          },
          "metadata": {
            "tags": []
          },
          "execution_count": 8
        }
      ]
    },
    {
      "cell_type": "code",
      "metadata": {
        "id": "8PW4WCkczXOR",
        "colab": {
          "base_uri": "https://localhost:8080/",
          "height": 265
        },
        "outputId": "1f302d92-314a-4ed1-878b-a18d8b6a3baf"
      },
      "source": [
        "_ = plt.hist(np.transpose(a))"
      ],
      "execution_count": 9,
      "outputs": [
        {
          "output_type": "display_data",
          "data": {
            "image/png": "[encoded data removed]",
            "text/plain": [
              "<Figure size 432x288 with 1 Axes>"
            ]
          },
          "metadata": {
            "tags": [],
            "needs_background": "light"
          }
        }
      ]
    }
  ]
}