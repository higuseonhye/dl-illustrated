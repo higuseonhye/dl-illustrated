{
 "cells": [
  {
   "cell_type": "markdown",
   "metadata": {},
   "source": [
    "# 가중치 초기화"
   ]
  },
  {
   "cell_type": "markdown",
   "metadata": {},
   "source": [
    "이 노트북에서는 가중치 초기화가 층의 출력에 어떤 영향을 미치는지 알아 봅니다."
   ]
  },
  {
   "cell_type": "markdown",
   "metadata": {},
   "source": [
    "[![Open In Colab](https://colab.research.google.com/assets/colab-badge.svg)](https://colab.research.google.com/github/rickiepark/dl-illustrated/blob/master/notebooks/9-1.weight_initialization.ipynb)"
   ]
  },
  {
   "cell_type": "markdown",
   "metadata": {},
   "source": [
    "#### 라이브러리를 적재합니다."
   ]
  },
  {
   "cell_type": "code",
   "execution_count": 1,
   "metadata": {},
   "outputs": [],
   "source": [
    "import numpy as np\n",
    "import matplotlib.pyplot as plt\n",
    "\n",
    "from tensorflow.keras import Sequential\n",
    "from tensorflow.keras.layers import Dense, Activation\n",
    "from tensorflow.keras.initializers import Zeros, RandomNormal, glorot_normal, glorot_uniform"
   ]
  },
  {
   "cell_type": "markdown",
   "metadata": {},
   "source": [
    "#### 뉴런의 개수를 지정합니다."
   ]
  },
  {
   "cell_type": "code",
   "execution_count": 2,
   "metadata": {},
   "outputs": [],
   "source": [
    "n_input = 784\n",
    "n_dense = 256"
   ]
  },
  {
   "cell_type": "markdown",
   "metadata": {},
   "source": [
    "#### 절편의 초깃값을 지정합니다."
   ]
  },
  {
   "cell_type": "code",
   "execution_count": 3,
   "metadata": {},
   "outputs": [],
   "source": [
    "b_init = Zeros()"
   ]
  },
  {
   "cell_type": "markdown",
   "metadata": {},
   "source": [
    "#### 가중치 초기화를 선택합니다."
   ]
  },
  {
   "cell_type": "code",
   "execution_count": 4,
   "metadata": {},
   "outputs": [],
   "source": [
    "w_init = RandomNormal(stddev=1.0)\n",
    "# w_init = glorot_normal()\n",
    "# w_init = glorot_uniform()"
   ]
  },
  {
   "cell_type": "markdown",
   "metadata": {},
   "source": [
    "#### 신경망을 만듭니다."
   ]
  },
  {
   "cell_type": "code",
   "execution_count": 5,
   "metadata": {},
   "outputs": [],
   "source": [
    "model = Sequential()\n",
    "model.add(Dense(n_dense, \n",
    "                input_dim=n_input,\n",
    "                kernel_initializer=w_init,\n",
    "                bias_initializer=b_init))\n",
    "model.add(Activation('sigmoid'))\n",
    "# model.add(Activation('tanh'))\n",
    "# model.add(Activation('relu'))"
   ]
  },
  {
   "cell_type": "markdown",
   "metadata": {},
   "source": [
    "#### 랜덤한 *x* 값을 생성합니다."
   ]
  },
  {
   "cell_type": "code",
   "execution_count": 6,
   "metadata": {},
   "outputs": [],
   "source": [
    "x = np.random.random((1,n_input))"
   ]
  },
  {
   "cell_type": "markdown",
   "metadata": {},
   "source": [
    "#### 신경망의 정방향 계산을 수행합니다."
   ]
  },
  {
   "cell_type": "code",
   "execution_count": 7,
   "metadata": {},
   "outputs": [],
   "source": [
    "a = model.predict(x)"
   ]
  },
  {
   "cell_type": "code",
   "execution_count": 8,
   "metadata": {},
   "outputs": [
    {
     "data": {
      "text/plain": [
       "array([[1.71775730e-15, 4.42856276e-07, 9.99247849e-01, 9.99941230e-01,\n",
       "        1.49524578e-06, 1.95749053e-07, 5.17865956e-01, 9.99991775e-01,\n",
       "        2.44642018e-09, 2.72115006e-08, 1.00000000e+00, 4.72944975e-01,\n",
       "        4.13705175e-06, 8.93802717e-05, 1.56917702e-06, 9.99995589e-01,\n",
       "        9.98587132e-01, 4.05950777e-05, 6.62870869e-09, 4.18396354e-07,\n",
       "        1.20620139e-17, 4.58020866e-01, 8.03553630e-05, 9.99999762e-01,\n",
       "        1.34289468e-04, 5.91438729e-05, 2.80525908e-03, 9.87914681e-01,\n",
       "        9.98439252e-01, 5.12320399e-02, 9.83873546e-01, 1.00000000e+00,\n",
       "        1.30651623e-08, 9.99997973e-01, 9.99999881e-01, 9.87668335e-01,\n",
       "        9.94207263e-01, 1.01294981e-08, 8.43951566e-05, 1.00000000e+00,\n",
       "        5.36496736e-10, 3.05925579e-15, 9.99633431e-01, 1.39776228e-06,\n",
       "        2.86049873e-09, 1.10738665e-01, 1.00000000e+00, 1.17226247e-15,\n",
       "        3.06993641e-14, 9.73229762e-04, 6.79737050e-03, 6.55492187e-01,\n",
       "        6.18806212e-07, 1.00000000e+00, 2.42615650e-12, 9.99999881e-01,\n",
       "        9.99415040e-01, 1.00000000e+00, 3.75071049e-01, 4.76397527e-03,\n",
       "        9.99999881e-01, 9.89820957e-01, 3.50528777e-01, 3.07132001e-03,\n",
       "        4.76400752e-10, 9.99999881e-01, 1.00000000e+00, 6.69178307e-01,\n",
       "        4.03867598e-05, 1.19594581e-01, 1.91480899e-06, 1.00000000e+00,\n",
       "        7.43542146e-03, 9.91784096e-01, 9.81294869e-15, 4.91625108e-02,\n",
       "        1.37955547e-04, 1.00000000e+00, 1.00000000e+00, 1.00000000e+00,\n",
       "        9.99999046e-01, 1.00000000e+00, 9.99491692e-01, 3.01688706e-04,\n",
       "        2.64710426e-01, 1.29127529e-05, 2.50655390e-08, 9.99999762e-01,\n",
       "        9.99982595e-01, 1.00000000e+00, 9.99997139e-01, 5.96181024e-04,\n",
       "        1.00000000e+00, 9.98565376e-01, 3.66120800e-10, 9.11353272e-05,\n",
       "        4.56821509e-02, 1.86566656e-04, 9.99960065e-01, 1.00000000e+00,\n",
       "        9.83706266e-02, 1.00000000e+00, 1.55253787e-07, 9.95276093e-01,\n",
       "        9.99917746e-01, 9.99999642e-01, 2.82424246e-03, 1.00000000e+00,\n",
       "        1.00000000e+00, 1.00000000e+00, 9.44623470e-01, 1.80274714e-02,\n",
       "        8.54146420e-10, 7.96277225e-01, 1.00000000e+00, 9.84193385e-01,\n",
       "        1.78760834e-04, 1.00000000e+00, 1.43900723e-03, 9.65216756e-01,\n",
       "        9.99999285e-01, 3.49927395e-05, 2.12274063e-06, 3.48517304e-08,\n",
       "        2.36411601e-09, 6.38549041e-04, 1.00000000e+00, 9.99999642e-01,\n",
       "        9.99364913e-01, 1.00000000e+00, 1.72705323e-01, 9.30158854e-01,\n",
       "        1.10178200e-09, 1.30435452e-01, 9.99076724e-01, 9.11528914e-05,\n",
       "        1.27979438e-03, 9.99948502e-01, 2.95646191e-01, 9.88824546e-01,\n",
       "        5.01823472e-03, 1.00000000e+00, 1.69021820e-13, 3.19824107e-06,\n",
       "        1.34343803e-09, 9.99999762e-01, 9.99869347e-01, 9.99999523e-01,\n",
       "        1.00000000e+00, 1.00000000e+00, 9.88467276e-01, 1.00000000e+00,\n",
       "        9.99991059e-01, 9.87074494e-01, 5.18238465e-08, 9.28692400e-01,\n",
       "        9.99999642e-01, 8.08381736e-01, 9.96644139e-01, 3.48153263e-01,\n",
       "        7.79657380e-11, 6.24971165e-07, 9.99999166e-01, 9.99993563e-01,\n",
       "        4.59734490e-03, 1.00000000e+00, 2.00297365e-16, 9.97142136e-01,\n",
       "        1.00000000e+00, 8.29698265e-01, 2.42418619e-08, 1.00000000e+00,\n",
       "        6.05951107e-13, 7.46319413e-01, 1.00000000e+00, 1.75717622e-02,\n",
       "        1.88356149e-03, 1.00000000e+00, 8.07403994e-04, 5.49004726e-05,\n",
       "        3.45988286e-04, 9.96939659e-01, 9.35012758e-01, 9.93847430e-01,\n",
       "        1.00000000e+00, 1.37531102e-01, 1.22245163e-01, 5.82620859e-01,\n",
       "        1.29129261e-01, 9.99981403e-01, 5.17383916e-04, 4.64994931e-10,\n",
       "        3.25615198e-04, 1.00000000e+00, 1.00000000e+00, 9.99996066e-01,\n",
       "        9.98526692e-01, 9.69350571e-04, 9.99996305e-01, 9.99761283e-01,\n",
       "        9.96591449e-01, 9.99952674e-01, 9.04325187e-01, 1.00000000e+00,\n",
       "        2.91990201e-08, 1.00000000e+00, 9.99999046e-01, 9.86666381e-01,\n",
       "        5.16909680e-08, 9.98097122e-01, 9.99999046e-01, 3.18041898e-15,\n",
       "        1.00000000e+00, 1.00000000e+00, 7.08035601e-04, 9.99543071e-01,\n",
       "        4.07369364e-12, 2.80560698e-07, 5.99460204e-11, 3.07721981e-09,\n",
       "        9.27196816e-03, 9.99991655e-01, 6.57901764e-01, 1.00000000e+00,\n",
       "        6.04579568e-01, 3.63702215e-02, 8.21784139e-01, 8.72672796e-01,\n",
       "        6.91427147e-08, 3.39571677e-08, 3.30912554e-11, 9.84531462e-01,\n",
       "        9.99510527e-01, 1.00000000e+00, 1.08984133e-09, 9.99992728e-01,\n",
       "        9.78260696e-01, 9.99874353e-01, 8.55627477e-01, 4.34563304e-07,\n",
       "        9.99988914e-01, 9.99793231e-01, 9.92265999e-01, 1.09431730e-05,\n",
       "        9.99995828e-01, 1.00000000e+00, 6.30752339e-08, 6.04050409e-04,\n",
       "        2.93574095e-01, 9.96013999e-01, 8.40874203e-03, 4.39497671e-06,\n",
       "        9.99195278e-01, 7.98347235e-01, 3.59756740e-08, 9.64625478e-01]],\n",
       "      dtype=float32)"
      ]
     },
     "execution_count": 8,
     "metadata": {},
     "output_type": "execute_result"
    }
   ],
   "source": [
    "a"
   ]
  },
  {
   "cell_type": "code",
   "execution_count": 9,
   "metadata": {},
   "outputs": [
    {
     "data": {
      "image/png": "[encoded data removed]",
      "text/plain": [
       "<Figure size 432x288 with 1 Axes>"
      ]
     },
     "metadata": {
      "needs_background": "light"
     },
     "output_type": "display_data"
    }
   ],
   "source": [
    "_ = plt.hist(np.transpose(a))"
   ]
  }
 ],
 "metadata": {
  "kernelspec": {
   "display_name": "TensorFlow 2.3 on Python 3.6 (CUDA 10.1)",
   "language": "python",
   "name": "python3"
  },
  "language_info": {
   "codemirror_mode": {
    "name": "ipython",
    "version": 3
   },
   "file_extension": ".py",
   "mimetype": "text/x-python",
   "name": "python",
   "nbconvert_exporter": "python",
   "pygments_lexer": "ipython3",
   "version": "3.6.9"
  }
 },
 "nbformat": 4,
 "nbformat_minor": 2
}
