{
  "nbformat": 4,
  "nbformat_minor": 0,
  "metadata": {
    "kernelspec": {
      "display_name": "TensorFlow 2.3 on Python 3.6 (CUDA 10.1)",
      "language": "python",
      "name": "python3"
    },
    "language_info": {
      "codemirror_mode": {
        "name": "ipython",
        "version": 3
      },
      "file_extension": ".py",
      "mimetype": "text/x-python",
      "name": "python",
      "nbconvert_exporter": "python",
      "pygments_lexer": "ipython3",
      "version": "3.6.9"
    },
    "colab": {
      "name": "9-1.weight_initialization.ipynb",
      "provenance": []
    },
    "accelerator": "GPU"
  },
  "cells": [
    {
      "cell_type": "markdown",
      "metadata": {
        "id": "0cwi1yTfzXOE"
      },
      "source": [
        "# 가중치 초기화"
      ]
    },
    {
      "cell_type": "markdown",
      "metadata": {
        "id": "e6UbOPmAzXOL"
      },
      "source": [
        "이 노트북에서는 가중치 초기화가 층의 출력에 어떤 영향을 미치는지 알아 봅니다."
      ]
    },
    {
      "cell_type": "markdown",
      "metadata": {
        "id": "MgdZpxD0zXOM"
      },
      "source": [
        "[![Open In Colab](https://colab.research.google.com/assets/colab-badge.svg)](https://colab.research.google.com/github/rickiepark/dl-illustrated/blob/master/notebooks/9-1.weight_initialization.ipynb)"
      ]
    },
    {
      "cell_type": "markdown",
      "metadata": {
        "id": "lYtDagbOzXOM"
      },
      "source": [
        "#### 라이브러리를 적재합니다."
      ]
    },
    {
      "cell_type": "code",
      "metadata": {
        "id": "E3h3NczrzXOM"
      },
      "source": [
        "import numpy as np\n",
        "import matplotlib.pyplot as plt\n",
        "\n",
        "from tensorflow.keras import Sequential\n",
        "from tensorflow.keras.layers import Dense, Activation\n",
        "from tensorflow.keras.initializers import Zeros, RandomNormal, glorot_normal, glorot_uniform"
      ],
      "execution_count": 1,
      "outputs": []
    },
    {
      "cell_type": "markdown",
      "metadata": {
        "id": "8ieDVCRpzXON"
      },
      "source": [
        "#### 뉴런의 개수를 지정합니다."
      ]
    },
    {
      "cell_type": "code",
      "metadata": {
        "id": "P1v3ZBUhzXON"
      },
      "source": [
        "n_input = 784\n",
        "n_dense = 256"
      ],
      "execution_count": 2,
      "outputs": []
    },
    {
      "cell_type": "markdown",
      "metadata": {
        "id": "uvSpE-mlzXON"
      },
      "source": [
        "#### 절편의 초깃값을 지정합니다."
      ]
    },
    {
      "cell_type": "code",
      "metadata": {
        "id": "PHzeN5tezXON"
      },
      "source": [
        "b_init = Zeros()"
      ],
      "execution_count": 3,
      "outputs": []
    },
    {
      "cell_type": "markdown",
      "metadata": {
        "id": "SR_B3hupzXOO"
      },
      "source": [
        "#### 가중치 초기화를 선택합니다."
      ]
    },
    {
      "cell_type": "code",
      "metadata": {
        "id": "PPA9GguezXOO"
      },
      "source": [
        "w_init = RandomNormal(stddev=1.0)\n",
        "# w_init = glorot_normal()\n",
        "# w_init = glorot_uniform()"
      ],
      "execution_count": 4,
      "outputs": []
    },
    {
      "cell_type": "markdown",
      "metadata": {
        "id": "RpDUl7hazXOO"
      },
      "source": [
        "#### 신경망을 만듭니다."
      ]
    },
    {
      "cell_type": "code",
      "metadata": {
        "id": "e7voAI6dzXOO"
      },
      "source": [
        "model = Sequential()\n",
        "model.add(Dense(n_dense, \n",
        "                input_dim=n_input,\n",
        "                kernel_initializer=w_init,\n",
        "                bias_initializer=b_init))\n",
        "model.add(Activation('sigmoid'))\n",
        "# model.add(Activation('tanh'))\n",
        "# model.add(Activation('relu'))"
      ],
      "execution_count": 5,
      "outputs": []
    },
    {
      "cell_type": "markdown",
      "metadata": {
        "id": "xHSsM8QKzXOP"
      },
      "source": [
        "#### 랜덤한 *x* 값을 생성합니다."
      ]
    },
    {
      "cell_type": "code",
      "metadata": {
        "id": "VOXC5EtBzXOP"
      },
      "source": [
        "x = np.random.random((1,n_input))"
      ],
      "execution_count": 6,
      "outputs": []
    },
    {
      "cell_type": "markdown",
      "metadata": {
        "id": "ucgRuwWGzXOP"
      },
      "source": [
        "#### 신경망의 정방향 계산을 수행합니다."
      ]
    },
    {
      "cell_type": "code",
      "metadata": {
        "id": "ddTN1W_AzXOP"
      },
      "source": [
        "a = model.predict(x)"
      ],
      "execution_count": 7,
      "outputs": []
    },
    {
      "cell_type": "code",
      "metadata": {
        "id": "XgoTL6gGzXOQ",
        "outputId": "92e229fc-9d33-4aae-b85c-72d8e1579ba0",
        "colab": {
          "base_uri": "https://localhost:8080/"
        }
      },
      "source": [
        "a"
      ],
      "execution_count": 8,
      "outputs": [
        {
          "output_type": "execute_result",
          "data": {
            "text/plain": [
              "array([[2.2480043e-02, 1.8574189e-12, 9.9225595e-08, 9.9999619e-01,\n",
              "        6.7142014e-07, 9.9996758e-01, 1.0000000e+00, 9.9998057e-01,\n",
              "        1.0000000e+00, 9.9086881e-01, 2.0090245e-02, 9.9999905e-01,\n",
              "        3.1634140e-01, 9.9999988e-01, 4.7967589e-04, 9.6104358e-04,\n",
              "        4.9563515e-04, 1.0845226e-01, 3.9574071e-03, 1.0000000e+00,\n",
              "        9.9999106e-01, 4.1134772e-03, 3.1473899e-12, 1.0000000e+00,\n",
              "        1.0000000e+00, 8.4211370e-06, 6.6772264e-01, 9.9999368e-01,\n",
              "        1.0000000e+00, 3.0804345e-11, 2.0517173e-04, 3.8269602e-05,\n",
              "        9.9369323e-01, 9.9998355e-01, 3.3082742e-06, 4.8412267e-06,\n",
              "        1.8206064e-06, 3.5872588e-10, 1.0000000e+00, 6.0346276e-05,\n",
              "        9.9999869e-01, 9.9985540e-01, 3.4411750e-03, 1.6839819e-13,\n",
              "        9.9921370e-01, 4.1731578e-01, 3.4101650e-08, 6.2615860e-01,\n",
              "        1.0000000e+00, 8.7789279e-01, 9.9827528e-01, 1.0000000e+00,\n",
              "        1.5596437e-01, 9.9958366e-01, 9.9994481e-01, 5.4918746e-05,\n",
              "        1.5172027e-07, 1.0000000e+00, 1.0000000e+00, 9.9999964e-01,\n",
              "        9.9999976e-01, 1.0000000e+00, 2.5337256e-02, 3.4549454e-01,\n",
              "        9.9929523e-01, 9.2015624e-01, 8.6535612e-05, 4.3631735e-07,\n",
              "        9.9715924e-01, 1.0000000e+00, 9.3250718e-14, 3.9514639e-08,\n",
              "        4.3839878e-01, 1.0000000e+00, 1.0000000e+00, 1.0000000e+00,\n",
              "        2.2735132e-07, 1.5568710e-02, 1.0000000e+00, 1.0000000e+00,\n",
              "        3.1203934e-04, 4.9188840e-09, 1.0000000e+00, 1.4266905e-06,\n",
              "        3.6084699e-10, 4.7975000e-06, 2.3276059e-02, 9.8564595e-01,\n",
              "        7.5559132e-09, 9.6538281e-01, 8.5276656e-07, 1.4546489e-05,\n",
              "        1.0115215e-07, 1.9651550e-05, 9.9984944e-01, 1.0000000e+00,\n",
              "        6.0022140e-01, 3.3051447e-07, 1.0000000e+00, 3.7075900e-09,\n",
              "        1.0991813e-09, 4.8719882e-03, 1.0000000e+00, 2.7658427e-07,\n",
              "        9.9966180e-01, 9.9999988e-01, 1.8605102e-09, 1.3527946e-03,\n",
              "        2.6809281e-17, 8.7893065e-03, 9.9999988e-01, 6.5973927e-03,\n",
              "        9.9955279e-01, 9.9943107e-01, 1.6167544e-01, 1.3153828e-03,\n",
              "        8.3706456e-01, 1.0307837e-07, 9.8720169e-01, 9.9945074e-01,\n",
              "        6.0406680e-09, 5.3935754e-09, 9.5703143e-01, 1.3119993e-13,\n",
              "        9.9997056e-01, 9.9721766e-01, 3.5962395e-03, 9.9999964e-01,\n",
              "        1.0000000e+00, 1.1268092e-02, 6.1374377e-03, 9.6001500e-01,\n",
              "        4.3747351e-03, 5.8567029e-13, 2.0218396e-08, 7.8793935e-15,\n",
              "        9.9999774e-01, 4.6658315e-02, 9.9991119e-01, 1.0000000e+00,\n",
              "        9.9535310e-01, 2.9531057e-04, 1.0000000e+00, 4.5858222e-05,\n",
              "        1.0000000e+00, 3.7509531e-06, 9.9995327e-01, 1.2895156e-03,\n",
              "        1.2349947e-04, 5.1093233e-01, 1.1177127e-11, 1.7932574e-03,\n",
              "        1.4542197e-12, 9.9596679e-01, 1.0000000e+00, 9.9962962e-01,\n",
              "        9.9399662e-01, 1.7860035e-05, 5.1074270e-02, 6.8074596e-01,\n",
              "        1.0000000e+00, 2.3872505e-18, 3.2229323e-08, 9.9376982e-01,\n",
              "        5.9789149e-05, 9.9943966e-01, 1.0000000e+00, 9.9569607e-01,\n",
              "        1.6438274e-02, 1.0326840e-01, 1.0000000e+00, 9.3219606e-03,\n",
              "        1.0000000e+00, 1.0000000e+00, 1.0000000e+00, 2.3054363e-15,\n",
              "        9.7311842e-01, 1.0000000e+00, 3.7963279e-02, 9.9999988e-01,\n",
              "        7.7666037e-08, 9.9969709e-01, 6.5011824e-07, 9.9989653e-01,\n",
              "        8.9957368e-01, 1.1448355e-05, 5.0767262e-06, 6.3064344e-02,\n",
              "        1.7460587e-02, 6.3728027e-15, 1.0000000e+00, 7.1777380e-03,\n",
              "        9.9998844e-01, 1.0000000e+00, 1.0026937e-06, 7.7579230e-01,\n",
              "        1.4921316e-07, 3.1130310e-06, 2.3310538e-03, 5.2647483e-08,\n",
              "        3.4500036e-10, 2.2316239e-05, 1.0000000e+00, 1.0000000e+00,\n",
              "        1.9723283e-01, 1.9506290e-07, 1.3985688e-07, 1.1360025e-04,\n",
              "        9.9965847e-01, 1.8689730e-07, 9.9999762e-01, 9.5889814e-02,\n",
              "        1.0622882e-02, 2.0115947e-17, 1.3198382e-06, 1.0000000e+00,\n",
              "        5.8270672e-08, 1.0000000e+00, 7.2950393e-01, 1.1982306e-05,\n",
              "        1.9102118e-09, 9.9999750e-01, 7.0090913e-08, 7.5320619e-01,\n",
              "        5.3643878e-03, 1.0000000e+00, 2.1575042e-05, 1.7243701e-04,\n",
              "        5.2891005e-07, 3.7687618e-01, 3.0021768e-04, 9.9784482e-01,\n",
              "        9.2842937e-01, 1.0000000e+00, 9.9999988e-01, 9.5831591e-01,\n",
              "        3.2312519e-04, 7.8691709e-10, 9.9999988e-01, 8.9860165e-01,\n",
              "        4.0666794e-14, 9.9714619e-01, 1.0000000e+00, 9.9763596e-01,\n",
              "        9.5479029e-01, 9.8060328e-04, 1.9479197e-04, 1.0000000e+00,\n",
              "        9.9999619e-01, 9.9998772e-01, 9.1118398e-17, 9.9636698e-01,\n",
              "        9.9974710e-01, 7.3556192e-05, 9.5738556e-05, 9.9949682e-01]],\n",
              "      dtype=float32)"
            ]
          },
          "metadata": {
            "tags": []
          },
          "execution_count": 8
        }
      ]
    },
    {
      "cell_type": "code",
      "metadata": {
        "id": "8PW4WCkczXOR",
        "outputId": "ec8d9002-eb07-4144-8f9a-0f5426d412d0",
        "colab": {
          "base_uri": "https://localhost:8080/",
          "height": 286
        }
      },
      "source": [
        "_ = plt.hist(np.transpose(a))"
      ],
      "execution_count": 9,
      "outputs": [
        {
          "output_type": "display_data",
          "data": {
            "image/png": "[encoded data removed]",
            "text/plain": [
              "<Figure size 432x288 with 1 Axes>"
            ]
          },
          "metadata": {
            "tags": [],
            "needs_background": "light"
          }
        }
      ]
    }
  ]
}