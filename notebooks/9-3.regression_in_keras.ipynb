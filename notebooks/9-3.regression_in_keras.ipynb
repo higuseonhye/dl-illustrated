{
 "cells": [
  {
   "cell_type": "markdown",
   "metadata": {},
   "source": [
    "# 케라스로 만드는 회귀 예제\n",
    "\n",
    "매사추세츠 보스턴 지역의 주택 가격 예측하기"
   ]
  },
  {
   "cell_type": "markdown",
   "metadata": {},
   "source": [
    "[![Open In Colab](https://colab.research.google.com/assets/colab-badge.svg)](https://colab.research.google.com/github/rickiepark/dl-illustrated/blob/master/notebooks/9-3.regression_in_keras.ipynb)"
   ]
  },
  {
   "cell_type": "markdown",
   "metadata": {},
   "source": [
    "#### 라이브러리를 적재합니다."
   ]
  },
  {
   "cell_type": "code",
   "execution_count": 1,
   "metadata": {},
   "outputs": [],
   "source": [
    "import numpy as np\n",
    "from tensorflow.keras.datasets import boston_housing\n",
    "from tensorflow.keras.models import Sequential\n",
    "from tensorflow.keras.layers import Dense, Dropout \n",
    "from tensorflow.keras.layers import BatchNormalization "
   ]
  },
  {
   "cell_type": "markdown",
   "metadata": {},
   "source": [
    "#### 데이터를 적재합니다."
   ]
  },
  {
   "cell_type": "code",
   "execution_count": 2,
   "metadata": {},
   "outputs": [
    {
     "name": "stdout",
     "output_type": "stream",
     "text": [
      "Downloading data from https://storage.googleapis.com/tensorflow/tf-keras-datasets/boston_housing.npz\n",
      "57344/57026 [==============================] - 0s 1us/step\n"
     ]
    }
   ],
   "source": [
    "(X_train, y_train), (X_valid, y_valid) = boston_housing.load_data()"
   ]
  },
  {
   "cell_type": "code",
   "execution_count": 3,
   "metadata": {},
   "outputs": [
    {
     "data": {
      "text/plain": [
       "(404, 13)"
      ]
     },
     "execution_count": 3,
     "metadata": {},
     "output_type": "execute_result"
    }
   ],
   "source": [
    "X_train.shape"
   ]
  },
  {
   "cell_type": "code",
   "execution_count": 4,
   "metadata": {},
   "outputs": [
    {
     "data": {
      "text/plain": [
       "(102, 13)"
      ]
     },
     "execution_count": 4,
     "metadata": {},
     "output_type": "execute_result"
    }
   ],
   "source": [
    "X_valid.shape"
   ]
  },
  {
   "cell_type": "code",
   "execution_count": 5,
   "metadata": {},
   "outputs": [
    {
     "data": {
      "text/plain": [
       "array([  1.23247,   0.     ,   8.14   ,   0.     ,   0.538  ,   6.142  ,\n",
       "        91.7    ,   3.9769 ,   4.     , 307.     ,  21.     , 396.9    ,\n",
       "        18.72   ])"
      ]
     },
     "execution_count": 5,
     "metadata": {},
     "output_type": "execute_result"
    }
   ],
   "source": [
    "X_train[0]"
   ]
  },
  {
   "cell_type": "code",
   "execution_count": 6,
   "metadata": {},
   "outputs": [
    {
     "data": {
      "text/plain": [
       "15.2"
      ]
     },
     "execution_count": 6,
     "metadata": {},
     "output_type": "execute_result"
    }
   ],
   "source": [
    "y_train[0]"
   ]
  },
  {
   "cell_type": "markdown",
   "metadata": {},
   "source": [
    "#### 신경망을 만듭니다."
   ]
  },
  {
   "cell_type": "code",
   "execution_count": 7,
   "metadata": {},
   "outputs": [],
   "source": [
    "model = Sequential()\n",
    "\n",
    "model.add(Dense(32, input_dim=13, activation='relu'))\n",
    "model.add(BatchNormalization())\n",
    "\n",
    "model.add(Dense(16, activation='relu'))\n",
    "model.add(BatchNormalization())\n",
    "model.add(Dropout(0.2))\n",
    "\n",
    "model.add(Dense(1, activation='linear'))"
   ]
  },
  {
   "cell_type": "code",
   "execution_count": 8,
   "metadata": {},
   "outputs": [
    {
     "name": "stdout",
     "output_type": "stream",
     "text": [
      "Model: \"sequential\"\n",
      "_________________________________________________________________\n",
      "Layer (type)                 Output Shape              Param #   \n",
      "=================================================================\n",
      "dense (Dense)                (None, 32)                448       \n",
      "_________________________________________________________________\n",
      "batch_normalization (BatchNo (None, 32)                128       \n",
      "_________________________________________________________________\n",
      "dense_1 (Dense)              (None, 16)                528       \n",
      "_________________________________________________________________\n",
      "batch_normalization_1 (Batch (None, 16)                64        \n",
      "_________________________________________________________________\n",
      "dropout (Dropout)            (None, 16)                0         \n",
      "_________________________________________________________________\n",
      "dense_2 (Dense)              (None, 1)                 17        \n",
      "=================================================================\n",
      "Total params: 1,185\n",
      "Trainable params: 1,089\n",
      "Non-trainable params: 96\n",
      "_________________________________________________________________\n"
     ]
    }
   ],
   "source": [
    "model.summary()"
   ]
  },
  {
   "cell_type": "markdown",
   "metadata": {},
   "source": [
    "#### 모델을 설정합니다."
   ]
  },
  {
   "cell_type": "code",
   "execution_count": 9,
   "metadata": {},
   "outputs": [],
   "source": [
    "model.compile(loss='mean_squared_error', optimizer='adam')"
   ]
  },
  {
   "cell_type": "markdown",
   "metadata": {},
   "source": [
    "#### 훈련!"
   ]
  },
  {
   "cell_type": "code",
   "execution_count": 10,
   "metadata": {},
   "outputs": [
    {
     "name": "stdout",
     "output_type": "stream",
     "text": [
      "Epoch 1/32\n",
      "51/51 [==============================] - 0s 9ms/step - loss: 578.5865 - val_loss: 584.1526\n",
      "Epoch 2/32\n",
      "51/51 [==============================] - 0s 5ms/step - loss: 555.7333 - val_loss: 603.5523\n",
      "Epoch 3/32\n",
      "51/51 [==============================] - 0s 5ms/step - loss: 536.1230 - val_loss: 587.3911\n",
      "Epoch 4/32\n",
      "51/51 [==============================] - 0s 5ms/step - loss: 513.9040 - val_loss: 550.7568\n",
      "Epoch 5/32\n",
      "51/51 [==============================] - 0s 5ms/step - loss: 491.8347 - val_loss: 509.6873\n",
      "Epoch 6/32\n",
      "51/51 [==============================] - 0s 5ms/step - loss: 463.0529 - val_loss: 503.6936\n",
      "Epoch 7/32\n",
      "51/51 [==============================] - 0s 5ms/step - loss: 430.7337 - val_loss: 506.1152\n",
      "Epoch 8/32\n",
      "51/51 [==============================] - 0s 5ms/step - loss: 393.7485 - val_loss: 512.3662\n",
      "Epoch 9/32\n",
      "51/51 [==============================] - 0s 5ms/step - loss: 356.5347 - val_loss: 473.5388\n",
      "Epoch 10/32\n",
      "51/51 [==============================] - 0s 5ms/step - loss: 311.7860 - val_loss: 584.6794\n",
      "Epoch 11/32\n",
      "51/51 [==============================] - 0s 5ms/step - loss: 275.3909 - val_loss: 418.9510\n",
      "Epoch 12/32\n",
      "51/51 [==============================] - 0s 5ms/step - loss: 228.5978 - val_loss: 346.2662\n",
      "Epoch 13/32\n",
      "51/51 [==============================] - 0s 5ms/step - loss: 196.8580 - val_loss: 270.2797\n",
      "Epoch 14/32\n",
      "51/51 [==============================] - 0s 5ms/step - loss: 168.4899 - val_loss: 341.2472\n",
      "Epoch 15/32\n",
      "51/51 [==============================] - 0s 5ms/step - loss: 139.1868 - val_loss: 277.7303\n",
      "Epoch 16/32\n",
      "51/51 [==============================] - 0s 5ms/step - loss: 116.7356 - val_loss: 247.6822\n",
      "Epoch 17/32\n",
      "51/51 [==============================] - 0s 5ms/step - loss: 100.6020 - val_loss: 290.4512\n",
      "Epoch 18/32\n",
      "51/51 [==============================] - 0s 5ms/step - loss: 79.5624 - val_loss: 395.2794\n",
      "Epoch 19/32\n",
      "51/51 [==============================] - 0s 5ms/step - loss: 73.9886 - val_loss: 389.2333\n",
      "Epoch 20/32\n",
      "51/51 [==============================] - 0s 5ms/step - loss: 62.7327 - val_loss: 490.3249\n",
      "Epoch 21/32\n",
      "51/51 [==============================] - 0s 5ms/step - loss: 57.7448 - val_loss: 393.3927\n",
      "Epoch 22/32\n",
      "51/51 [==============================] - 0s 5ms/step - loss: 51.9371 - val_loss: 369.4689\n",
      "Epoch 23/32\n",
      "51/51 [==============================] - 0s 5ms/step - loss: 45.8274 - val_loss: 348.5559\n",
      "Epoch 24/32\n",
      "51/51 [==============================] - 0s 5ms/step - loss: 43.6604 - val_loss: 307.3227\n",
      "Epoch 25/32\n",
      "51/51 [==============================] - 0s 5ms/step - loss: 43.7131 - val_loss: 307.1915\n",
      "Epoch 26/32\n",
      "51/51 [==============================] - 0s 5ms/step - loss: 47.4022 - val_loss: 288.3433\n",
      "Epoch 27/32\n",
      "51/51 [==============================] - 0s 5ms/step - loss: 47.5023 - val_loss: 324.0499\n",
      "Epoch 28/32\n",
      "51/51 [==============================] - 0s 5ms/step - loss: 44.6216 - val_loss: 306.1902\n",
      "Epoch 29/32\n",
      "51/51 [==============================] - 0s 5ms/step - loss: 39.2956 - val_loss: 334.3380\n",
      "Epoch 30/32\n",
      "51/51 [==============================] - 0s 5ms/step - loss: 45.3168 - val_loss: 326.9959\n",
      "Epoch 31/32\n",
      "51/51 [==============================] - 0s 5ms/step - loss: 46.6344 - val_loss: 312.8854\n",
      "Epoch 32/32\n",
      "51/51 [==============================] - 0s 5ms/step - loss: 40.7719 - val_loss: 297.9871\n"
     ]
    },
    {
     "data": {
      "text/plain": [
       "<tensorflow.python.keras.callbacks.History at 0x7f8af59f8748>"
      ]
     },
     "execution_count": 10,
     "metadata": {},
     "output_type": "execute_result"
    }
   ],
   "source": [
    "model.fit(X_train, y_train, \n",
    "          batch_size=8, epochs=32, verbose=1, \n",
    "          validation_data=(X_valid, y_valid))"
   ]
  },
  {
   "cell_type": "code",
   "execution_count": 11,
   "metadata": {},
   "outputs": [
    {
     "data": {
      "text/plain": [
       "array([  9.32909,   0.     ,  18.1    ,   0.     ,   0.713  ,   6.185  ,\n",
       "        98.7    ,   2.2616 ,  24.     , 666.     ,  20.2    , 396.9    ,\n",
       "        18.13   ])"
      ]
     },
     "execution_count": 11,
     "metadata": {},
     "output_type": "execute_result"
    }
   ],
   "source": [
    "X_valid[42]"
   ]
  },
  {
   "cell_type": "code",
   "execution_count": 12,
   "metadata": {},
   "outputs": [
    {
     "data": {
      "text/plain": [
       "14.1"
      ]
     },
     "execution_count": 12,
     "metadata": {},
     "output_type": "execute_result"
    }
   ],
   "source": [
    "y_valid[42]"
   ]
  },
  {
   "cell_type": "code",
   "execution_count": 13,
   "metadata": {},
   "outputs": [
    {
     "data": {
      "text/plain": [
       "array([[14.378879]], dtype=float32)"
      ]
     },
     "execution_count": 13,
     "metadata": {},
     "output_type": "execute_result"
    }
   ],
   "source": [
    "model.predict(np.reshape(X_valid[42], [1, 13]))"
   ]
  }
 ],
 "metadata": {
  "kernelspec": {
   "display_name": "TensorFlow 2.3 on Python 3.6 (CUDA 10.1)",
   "language": "python",
   "name": "python3"
  },
  "language_info": {
   "codemirror_mode": {
    "name": "ipython",
    "version": 3
   },
   "file_extension": ".py",
   "mimetype": "text/x-python",
   "name": "python",
   "nbconvert_exporter": "python",
   "pygments_lexer": "ipython3",
   "version": "3.6.9"
  }
 },
 "nbformat": 4,
 "nbformat_minor": 2
}
