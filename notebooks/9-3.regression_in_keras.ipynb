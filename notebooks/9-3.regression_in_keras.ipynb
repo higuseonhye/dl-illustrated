{
  "nbformat": 4,
  "nbformat_minor": 0,
  "metadata": {
    "kernelspec": {
      "display_name": "TensorFlow 2.3 on Python 3.6 (CUDA 10.1)",
      "language": "python",
      "name": "python3"
    },
    "language_info": {
      "codemirror_mode": {
        "name": "ipython",
        "version": 3
      },
      "file_extension": ".py",
      "mimetype": "text/x-python",
      "name": "python",
      "nbconvert_exporter": "python",
      "pygments_lexer": "ipython3",
      "version": "3.6.9"
    },
    "colab": {
      "name": "9-3.regression_in_keras.ipynb",
      "provenance": []
    },
    "accelerator": "GPU"
  },
  "cells": [
    {
      "cell_type": "markdown",
      "metadata": {
        "id": "UpXTEaeLzrnO"
      },
      "source": [
        "# 케라스로 만드는 회귀 예제\n",
        "\n",
        "매사추세츠 보스턴 지역의 주택 가격 예측하기"
      ]
    },
    {
      "cell_type": "markdown",
      "metadata": {
        "id": "VN3WDCrAzrnW"
      },
      "source": [
        "[![Open In Colab](https://colab.research.google.com/assets/colab-badge.svg)](https://colab.research.google.com/github/rickiepark/dl-illustrated/blob/master/notebooks/9-3.regression_in_keras.ipynb)"
      ]
    },
    {
      "cell_type": "markdown",
      "metadata": {
        "id": "uFI37QNkzrnW"
      },
      "source": [
        "#### 라이브러리를 적재합니다."
      ]
    },
    {
      "cell_type": "code",
      "metadata": {
        "id": "qBzBQb-szrnW"
      },
      "source": [
        "import numpy as np\n",
        "from tensorflow.keras.datasets import boston_housing\n",
        "from tensorflow.keras.models import Sequential\n",
        "from tensorflow.keras.layers import Dense, Dropout \n",
        "from tensorflow.keras.layers import BatchNormalization "
      ],
      "execution_count": 1,
      "outputs": []
    },
    {
      "cell_type": "markdown",
      "metadata": {
        "id": "5AZDseSwzrnX"
      },
      "source": [
        "#### 데이터를 적재합니다."
      ]
    },
    {
      "cell_type": "code",
      "metadata": {
        "id": "DZZvCNg3zrnX",
        "outputId": "30a870e8-bb10-473f-dcd8-136de87e0d88",
        "colab": {
          "base_uri": "https://localhost:8080/"
        }
      },
      "source": [
        "(X_train, y_train), (X_valid, y_valid) = boston_housing.load_data()"
      ],
      "execution_count": 2,
      "outputs": [
        {
          "output_type": "stream",
          "text": [
            "Downloading data from https://storage.googleapis.com/tensorflow/tf-keras-datasets/boston_housing.npz\n",
            "57344/57026 [==============================] - 0s 0us/step\n"
          ],
          "name": "stdout"
        }
      ]
    },
    {
      "cell_type": "code",
      "metadata": {
        "id": "tvr-XETbzrnX",
        "outputId": "7e3e34c1-83dc-4dc8-ae75-c1f5fee2101d",
        "colab": {
          "base_uri": "https://localhost:8080/"
        }
      },
      "source": [
        "X_train.shape"
      ],
      "execution_count": 3,
      "outputs": [
        {
          "output_type": "execute_result",
          "data": {
            "text/plain": [
              "(404, 13)"
            ]
          },
          "metadata": {
            "tags": []
          },
          "execution_count": 3
        }
      ]
    },
    {
      "cell_type": "code",
      "metadata": {
        "id": "snbtcHYozrnY",
        "outputId": "567b72a6-7ecb-4143-81e5-723ff2da41b5",
        "colab": {
          "base_uri": "https://localhost:8080/"
        }
      },
      "source": [
        "X_valid.shape"
      ],
      "execution_count": 4,
      "outputs": [
        {
          "output_type": "execute_result",
          "data": {
            "text/plain": [
              "(102, 13)"
            ]
          },
          "metadata": {
            "tags": []
          },
          "execution_count": 4
        }
      ]
    },
    {
      "cell_type": "code",
      "metadata": {
        "id": "JwaxiBmlzrnY",
        "outputId": "e94e1129-f9d7-4a8e-95fa-0eba0eda1c8a",
        "colab": {
          "base_uri": "https://localhost:8080/"
        }
      },
      "source": [
        "X_train[0]"
      ],
      "execution_count": 5,
      "outputs": [
        {
          "output_type": "execute_result",
          "data": {
            "text/plain": [
              "array([  1.23247,   0.     ,   8.14   ,   0.     ,   0.538  ,   6.142  ,\n",
              "        91.7    ,   3.9769 ,   4.     , 307.     ,  21.     , 396.9    ,\n",
              "        18.72   ])"
            ]
          },
          "metadata": {
            "tags": []
          },
          "execution_count": 5
        }
      ]
    },
    {
      "cell_type": "code",
      "metadata": {
        "id": "d95L3aOezrnZ",
        "outputId": "d4afc98c-fb1b-4143-a137-32fd557883bb",
        "colab": {
          "base_uri": "https://localhost:8080/"
        }
      },
      "source": [
        "y_train[0]"
      ],
      "execution_count": 6,
      "outputs": [
        {
          "output_type": "execute_result",
          "data": {
            "text/plain": [
              "15.2"
            ]
          },
          "metadata": {
            "tags": []
          },
          "execution_count": 6
        }
      ]
    },
    {
      "cell_type": "markdown",
      "metadata": {
        "id": "e73SbGiKzrnZ"
      },
      "source": [
        "#### 신경망을 만듭니다."
      ]
    },
    {
      "cell_type": "code",
      "metadata": {
        "id": "trObx-ftzrnZ"
      },
      "source": [
        "model = Sequential()\n",
        "\n",
        "model.add(Dense(32, input_dim=13, activation='relu'))\n",
        "model.add(BatchNormalization())\n",
        "\n",
        "model.add(Dense(16, activation='relu'))\n",
        "model.add(BatchNormalization())\n",
        "model.add(Dropout(0.2))\n",
        "\n",
        "model.add(Dense(1, activation='linear'))"
      ],
      "execution_count": 7,
      "outputs": []
    },
    {
      "cell_type": "code",
      "metadata": {
        "id": "HabREuUkzrna",
        "outputId": "1591a53f-729d-4412-da20-013fba6103c1",
        "colab": {
          "base_uri": "https://localhost:8080/"
        }
      },
      "source": [
        "model.summary()"
      ],
      "execution_count": 8,
      "outputs": [
        {
          "output_type": "stream",
          "text": [
            "Model: \"sequential\"\n",
            "_________________________________________________________________\n",
            "Layer (type)                 Output Shape              Param #   \n",
            "=================================================================\n",
            "dense (Dense)                (None, 32)                448       \n",
            "_________________________________________________________________\n",
            "batch_normalization (BatchNo (None, 32)                128       \n",
            "_________________________________________________________________\n",
            "dense_1 (Dense)              (None, 16)                528       \n",
            "_________________________________________________________________\n",
            "batch_normalization_1 (Batch (None, 16)                64        \n",
            "_________________________________________________________________\n",
            "dropout (Dropout)            (None, 16)                0         \n",
            "_________________________________________________________________\n",
            "dense_2 (Dense)              (None, 1)                 17        \n",
            "=================================================================\n",
            "Total params: 1,185\n",
            "Trainable params: 1,089\n",
            "Non-trainable params: 96\n",
            "_________________________________________________________________\n"
          ],
          "name": "stdout"
        }
      ]
    },
    {
      "cell_type": "markdown",
      "metadata": {
        "id": "6FF2nyQ6zrna"
      },
      "source": [
        "#### 모델을 설정합니다."
      ]
    },
    {
      "cell_type": "code",
      "metadata": {
        "id": "Tm5zaQifzrna"
      },
      "source": [
        "model.compile(loss='mean_squared_error', optimizer='adam')"
      ],
      "execution_count": 9,
      "outputs": []
    },
    {
      "cell_type": "markdown",
      "metadata": {
        "id": "CCebUVgXzrna"
      },
      "source": [
        "#### 훈련!"
      ]
    },
    {
      "cell_type": "code",
      "metadata": {
        "id": "LyjT4M-czrnb",
        "outputId": "7954340c-0541-42d2-847d-672dca5f77a6",
        "colab": {
          "base_uri": "https://localhost:8080/"
        }
      },
      "source": [
        "model.fit(X_train, y_train, \n",
        "          batch_size=8, epochs=32, verbose=1, \n",
        "          validation_data=(X_valid, y_valid))"
      ],
      "execution_count": 10,
      "outputs": [
        {
          "output_type": "stream",
          "text": [
            "Epoch 1/32\n",
            "51/51 [==============================] - 3s 9ms/step - loss: 558.3180 - val_loss: 699.8416\n",
            "Epoch 2/32\n",
            "51/51 [==============================] - 0s 3ms/step - loss: 612.4030 - val_loss: 645.0358\n",
            "Epoch 3/32\n",
            "51/51 [==============================] - 0s 3ms/step - loss: 566.0649 - val_loss: 602.0720\n",
            "Epoch 4/32\n",
            "51/51 [==============================] - 0s 3ms/step - loss: 518.8130 - val_loss: 569.3940\n",
            "Epoch 5/32\n",
            "51/51 [==============================] - 0s 4ms/step - loss: 536.8539 - val_loss: 542.1461\n",
            "Epoch 6/32\n",
            "51/51 [==============================] - 0s 3ms/step - loss: 456.3808 - val_loss: 461.2923\n",
            "Epoch 7/32\n",
            "51/51 [==============================] - 0s 4ms/step - loss: 417.9323 - val_loss: 401.2823\n",
            "Epoch 8/32\n",
            "51/51 [==============================] - 0s 4ms/step - loss: 386.9893 - val_loss: 322.3392\n",
            "Epoch 9/32\n",
            "51/51 [==============================] - 0s 4ms/step - loss: 416.3226 - val_loss: 271.6992\n",
            "Epoch 10/32\n",
            "51/51 [==============================] - 0s 4ms/step - loss: 319.9924 - val_loss: 228.6396\n",
            "Epoch 11/32\n",
            "51/51 [==============================] - 0s 4ms/step - loss: 266.8524 - val_loss: 193.7634\n",
            "Epoch 12/32\n",
            "51/51 [==============================] - 0s 4ms/step - loss: 233.7501 - val_loss: 148.9635\n",
            "Epoch 13/32\n",
            "51/51 [==============================] - 0s 4ms/step - loss: 205.8381 - val_loss: 135.3859\n",
            "Epoch 14/32\n",
            "51/51 [==============================] - 0s 4ms/step - loss: 188.2575 - val_loss: 190.0825\n",
            "Epoch 15/32\n",
            "51/51 [==============================] - 0s 4ms/step - loss: 135.1257 - val_loss: 186.8994\n",
            "Epoch 16/32\n",
            "51/51 [==============================] - 0s 4ms/step - loss: 135.7762 - val_loss: 151.3252\n",
            "Epoch 17/32\n",
            "51/51 [==============================] - 0s 4ms/step - loss: 97.3250 - val_loss: 110.3822\n",
            "Epoch 18/32\n",
            "51/51 [==============================] - 0s 4ms/step - loss: 85.6849 - val_loss: 84.1130\n",
            "Epoch 19/32\n",
            "51/51 [==============================] - 0s 4ms/step - loss: 81.7524 - val_loss: 53.4317\n",
            "Epoch 20/32\n",
            "51/51 [==============================] - 0s 5ms/step - loss: 67.1951 - val_loss: 41.4920\n",
            "Epoch 21/32\n",
            "51/51 [==============================] - 0s 4ms/step - loss: 52.8226 - val_loss: 36.9675\n",
            "Epoch 22/32\n",
            "51/51 [==============================] - 0s 4ms/step - loss: 67.3359 - val_loss: 37.9588\n",
            "Epoch 23/32\n",
            "51/51 [==============================] - 0s 4ms/step - loss: 47.5553 - val_loss: 31.1289\n",
            "Epoch 24/32\n",
            "51/51 [==============================] - 0s 4ms/step - loss: 53.7093 - val_loss: 29.7866\n",
            "Epoch 25/32\n",
            "51/51 [==============================] - 0s 4ms/step - loss: 44.0817 - val_loss: 26.4992\n",
            "Epoch 26/32\n",
            "51/51 [==============================] - 0s 4ms/step - loss: 47.3684 - val_loss: 38.3611\n",
            "Epoch 27/32\n",
            "51/51 [==============================] - 0s 4ms/step - loss: 54.7772 - val_loss: 27.8718\n",
            "Epoch 28/32\n",
            "51/51 [==============================] - 0s 4ms/step - loss: 55.1926 - val_loss: 35.6173\n",
            "Epoch 29/32\n",
            "51/51 [==============================] - 0s 4ms/step - loss: 40.4979 - val_loss: 20.2755\n",
            "Epoch 30/32\n",
            "51/51 [==============================] - 0s 5ms/step - loss: 53.5225 - val_loss: 25.1286\n",
            "Epoch 31/32\n",
            "51/51 [==============================] - 0s 4ms/step - loss: 46.2028 - val_loss: 26.6341\n",
            "Epoch 32/32\n",
            "51/51 [==============================] - 0s 4ms/step - loss: 46.0830 - val_loss: 50.8318\n"
          ],
          "name": "stdout"
        },
        {
          "output_type": "execute_result",
          "data": {
            "text/plain": [
              "<tensorflow.python.keras.callbacks.History at 0x7fc7d754e9b0>"
            ]
          },
          "metadata": {
            "tags": []
          },
          "execution_count": 10
        }
      ]
    },
    {
      "cell_type": "code",
      "metadata": {
        "id": "rJkI2p1Dzrnb",
        "outputId": "c9628532-c4db-40cd-97c3-a5a7b04480cd",
        "colab": {
          "base_uri": "https://localhost:8080/"
        }
      },
      "source": [
        "X_valid[42]"
      ],
      "execution_count": 11,
      "outputs": [
        {
          "output_type": "execute_result",
          "data": {
            "text/plain": [
              "array([  9.32909,   0.     ,  18.1    ,   0.     ,   0.713  ,   6.185  ,\n",
              "        98.7    ,   2.2616 ,  24.     , 666.     ,  20.2    , 396.9    ,\n",
              "        18.13   ])"
            ]
          },
          "metadata": {
            "tags": []
          },
          "execution_count": 11
        }
      ]
    },
    {
      "cell_type": "code",
      "metadata": {
        "id": "DxL1_WQqzrnc",
        "outputId": "7cf57d04-6fc8-4353-cef3-95c5edfb8698",
        "colab": {
          "base_uri": "https://localhost:8080/"
        }
      },
      "source": [
        "y_valid[42]"
      ],
      "execution_count": 12,
      "outputs": [
        {
          "output_type": "execute_result",
          "data": {
            "text/plain": [
              "14.1"
            ]
          },
          "metadata": {
            "tags": []
          },
          "execution_count": 12
        }
      ]
    },
    {
      "cell_type": "code",
      "metadata": {
        "id": "TCY9v_ejzrnc",
        "outputId": "1673ec2a-3d0d-4754-aa91-ec6cb1b11bf2",
        "colab": {
          "base_uri": "https://localhost:8080/"
        }
      },
      "source": [
        "model.predict(np.reshape(X_valid[42], [1, 13]))"
      ],
      "execution_count": 13,
      "outputs": [
        {
          "output_type": "execute_result",
          "data": {
            "text/plain": [
              "array([[22.953802]], dtype=float32)"
            ]
          },
          "metadata": {
            "tags": []
          },
          "execution_count": 13
        }
      ]
    }
  ]
}