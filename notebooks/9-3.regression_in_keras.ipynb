{
 "cells": [
  {
   "cell_type": "markdown",
   "metadata": {},
   "source": [
    "# 케라스로 만드는 회귀 예제\n",
    "\n",
    "매사추세츠 보스턴 지역의 주택 가격 예측하기"
   ]
  },
  {
   "cell_type": "markdown",
   "metadata": {},
   "source": [
    "[![Open In Colab](https://colab.research.google.com/assets/colab-badge.svg)](https://colab.research.google.com/github/rickiepark/dl-illustrated/blob/master/notebooks/9-3.regression_in_keras.ipynb)"
   ]
  },
  {
   "cell_type": "markdown",
   "metadata": {},
   "source": [
    "#### 라이브러리를 적재합니다."
   ]
  },
  {
   "cell_type": "code",
   "execution_count": 1,
   "metadata": {},
   "outputs": [],
   "source": [
    "import numpy as np\n",
    "from tensorflow.keras.datasets import boston_housing\n",
    "from tensorflow.keras.models import Sequential\n",
    "from tensorflow.keras.layers import Dense, Dropout \n",
    "from tensorflow.keras.layers import BatchNormalization "
   ]
  },
  {
   "cell_type": "markdown",
   "metadata": {},
   "source": [
    "#### 데이터를 적재합니다."
   ]
  },
  {
   "cell_type": "code",
   "execution_count": 2,
   "metadata": {},
   "outputs": [],
   "source": [
    "(X_train, y_train), (X_valid, y_valid) = boston_housing.load_data()"
   ]
  },
  {
   "cell_type": "code",
   "execution_count": 3,
   "metadata": {},
   "outputs": [
    {
     "data": {
      "text/plain": [
       "(404, 13)"
      ]
     },
     "execution_count": 3,
     "metadata": {},
     "output_type": "execute_result"
    }
   ],
   "source": [
    "X_train.shape"
   ]
  },
  {
   "cell_type": "code",
   "execution_count": 4,
   "metadata": {},
   "outputs": [
    {
     "data": {
      "text/plain": [
       "(102, 13)"
      ]
     },
     "execution_count": 4,
     "metadata": {},
     "output_type": "execute_result"
    }
   ],
   "source": [
    "X_valid.shape"
   ]
  },
  {
   "cell_type": "code",
   "execution_count": 5,
   "metadata": {},
   "outputs": [
    {
     "data": {
      "text/plain": [
       "array([  1.23247,   0.     ,   8.14   ,   0.     ,   0.538  ,   6.142  ,\n",
       "        91.7    ,   3.9769 ,   4.     , 307.     ,  21.     , 396.9    ,\n",
       "        18.72   ])"
      ]
     },
     "execution_count": 5,
     "metadata": {},
     "output_type": "execute_result"
    }
   ],
   "source": [
    "X_train[0]"
   ]
  },
  {
   "cell_type": "code",
   "execution_count": 6,
   "metadata": {},
   "outputs": [
    {
     "data": {
      "text/plain": [
       "15.2"
      ]
     },
     "execution_count": 6,
     "metadata": {},
     "output_type": "execute_result"
    }
   ],
   "source": [
    "y_train[0]"
   ]
  },
  {
   "cell_type": "markdown",
   "metadata": {},
   "source": [
    "#### 신경망을 만듭니다."
   ]
  },
  {
   "cell_type": "code",
   "execution_count": 7,
   "metadata": {},
   "outputs": [],
   "source": [
    "model = Sequential()\n",
    "\n",
    "model.add(Dense(32, input_dim=13, activation='relu'))\n",
    "model.add(BatchNormalization())\n",
    "\n",
    "model.add(Dense(16, activation='relu'))\n",
    "model.add(BatchNormalization())\n",
    "model.add(Dropout(0.2))\n",
    "\n",
    "model.add(Dense(1, activation='linear'))"
   ]
  },
  {
   "cell_type": "code",
   "execution_count": 8,
   "metadata": {},
   "outputs": [
    {
     "name": "stdout",
     "output_type": "stream",
     "text": [
      "Model: \"sequential\"\n",
      "_________________________________________________________________\n",
      "Layer (type)                 Output Shape              Param #   \n",
      "=================================================================\n",
      "dense (Dense)                (None, 32)                448       \n",
      "_________________________________________________________________\n",
      "batch_normalization (BatchNo (None, 32)                128       \n",
      "_________________________________________________________________\n",
      "dense_1 (Dense)              (None, 16)                528       \n",
      "_________________________________________________________________\n",
      "batch_normalization_1 (Batch (None, 16)                64        \n",
      "_________________________________________________________________\n",
      "dropout (Dropout)            (None, 16)                0         \n",
      "_________________________________________________________________\n",
      "dense_2 (Dense)              (None, 1)                 17        \n",
      "=================================================================\n",
      "Total params: 1,185\n",
      "Trainable params: 1,089\n",
      "Non-trainable params: 96\n",
      "_________________________________________________________________\n"
     ]
    }
   ],
   "source": [
    "model.summary()"
   ]
  },
  {
   "cell_type": "markdown",
   "metadata": {},
   "source": [
    "#### 모델을 설정합니다."
   ]
  },
  {
   "cell_type": "code",
   "execution_count": 9,
   "metadata": {},
   "outputs": [],
   "source": [
    "model.compile(loss='mean_squared_error', optimizer='adam')"
   ]
  },
  {
   "cell_type": "markdown",
   "metadata": {},
   "source": [
    "#### 훈련!"
   ]
  },
  {
   "cell_type": "code",
   "execution_count": 10,
   "metadata": {},
   "outputs": [
    {
     "name": "stdout",
     "output_type": "stream",
     "text": [
      "Epoch 1/32\n",
      "51/51 [==============================] - 1s 19ms/step - loss: 575.7672 - val_loss: 804.3597\n",
      "Epoch 2/32\n",
      "51/51 [==============================] - 1s 14ms/step - loss: 556.2568 - val_loss: 667.4539\n",
      "Epoch 3/32\n",
      "51/51 [==============================] - 1s 14ms/step - loss: 536.7560 - val_loss: 610.6698\n",
      "Epoch 4/32\n",
      "51/51 [==============================] - 1s 14ms/step - loss: 516.7564 - val_loss: 613.5386\n",
      "Epoch 5/32\n",
      "51/51 [==============================] - 1s 14ms/step - loss: 489.1502 - val_loss: 587.6154\n",
      "Epoch 6/32\n",
      "51/51 [==============================] - 1s 14ms/step - loss: 455.9194 - val_loss: 539.9129\n",
      "Epoch 7/32\n",
      "51/51 [==============================] - 1s 14ms/step - loss: 422.9941 - val_loss: 572.6350\n",
      "Epoch 8/32\n",
      "51/51 [==============================] - 1s 13ms/step - loss: 390.4268 - val_loss: 296.6247\n",
      "Epoch 9/32\n",
      "51/51 [==============================] - 1s 14ms/step - loss: 338.7296 - val_loss: 381.4360\n",
      "Epoch 10/32\n",
      "51/51 [==============================] - 1s 14ms/step - loss: 304.4326 - val_loss: 467.4197\n",
      "Epoch 11/32\n",
      "51/51 [==============================] - 1s 14ms/step - loss: 264.7694 - val_loss: 413.3951\n",
      "Epoch 12/32\n",
      "51/51 [==============================] - 1s 14ms/step - loss: 228.9062 - val_loss: 300.4042\n",
      "Epoch 13/32\n",
      "51/51 [==============================] - 1s 14ms/step - loss: 194.1401 - val_loss: 256.6642\n",
      "Epoch 14/32\n",
      "51/51 [==============================] - 1s 14ms/step - loss: 163.5169 - val_loss: 237.2388\n",
      "Epoch 15/32\n",
      "51/51 [==============================] - 1s 14ms/step - loss: 132.3425 - val_loss: 199.2117\n",
      "Epoch 16/32\n",
      "51/51 [==============================] - 1s 14ms/step - loss: 111.5447 - val_loss: 119.0927\n",
      "Epoch 17/32\n",
      "51/51 [==============================] - 1s 14ms/step - loss: 99.9350 - val_loss: 110.9391\n",
      "Epoch 18/32\n",
      "51/51 [==============================] - 1s 14ms/step - loss: 79.5972 - val_loss: 124.4678\n",
      "Epoch 19/32\n",
      "51/51 [==============================] - 1s 14ms/step - loss: 72.0850 - val_loss: 84.9925\n",
      "Epoch 20/32\n",
      "51/51 [==============================] - 1s 14ms/step - loss: 63.2495 - val_loss: 70.1354\n",
      "Epoch 21/32\n",
      "51/51 [==============================] - 1s 14ms/step - loss: 61.7403 - val_loss: 81.3903\n",
      "Epoch 22/32\n",
      "51/51 [==============================] - 1s 14ms/step - loss: 55.9644 - val_loss: 71.0722\n",
      "Epoch 23/32\n",
      "51/51 [==============================] - 1s 14ms/step - loss: 53.6230 - val_loss: 89.5204\n",
      "Epoch 24/32\n",
      "51/51 [==============================] - 1s 14ms/step - loss: 45.5849 - val_loss: 118.4230\n",
      "Epoch 25/32\n",
      "51/51 [==============================] - 1s 14ms/step - loss: 47.4514 - val_loss: 163.4745\n",
      "Epoch 26/32\n",
      "51/51 [==============================] - 1s 14ms/step - loss: 45.0683 - val_loss: 199.0650\n",
      "Epoch 27/32\n",
      "51/51 [==============================] - 1s 14ms/step - loss: 41.0886 - val_loss: 267.6751\n",
      "Epoch 28/32\n",
      "51/51 [==============================] - 1s 14ms/step - loss: 47.3602 - val_loss: 361.0072\n",
      "Epoch 29/32\n",
      "51/51 [==============================] - 1s 14ms/step - loss: 49.9876 - val_loss: 377.9714\n",
      "Epoch 30/32\n",
      "51/51 [==============================] - 1s 14ms/step - loss: 45.7580 - val_loss: 384.7798\n",
      "Epoch 31/32\n",
      "51/51 [==============================] - 1s 14ms/step - loss: 43.6357 - val_loss: 420.1506\n",
      "Epoch 32/32\n",
      "51/51 [==============================] - 1s 14ms/step - loss: 48.9122 - val_loss: 427.0699\n"
     ]
    },
    {
     "data": {
      "text/plain": [
       "<tensorflow.python.keras.callbacks.History at 0x7f0538513b38>"
      ]
     },
     "execution_count": 10,
     "metadata": {},
     "output_type": "execute_result"
    }
   ],
   "source": [
    "model.fit(X_train, y_train, \n",
    "          batch_size=8, epochs=32, verbose=1, \n",
    "          validation_data=(X_valid, y_valid))"
   ]
  },
  {
   "cell_type": "code",
   "execution_count": 11,
   "metadata": {},
   "outputs": [
    {
     "data": {
      "text/plain": [
       "array([  9.32909,   0.     ,  18.1    ,   0.     ,   0.713  ,   6.185  ,\n",
       "        98.7    ,   2.2616 ,  24.     , 666.     ,  20.2    , 396.9    ,\n",
       "        18.13   ])"
      ]
     },
     "execution_count": 11,
     "metadata": {},
     "output_type": "execute_result"
    }
   ],
   "source": [
    "X_valid[42]"
   ]
  },
  {
   "cell_type": "code",
   "execution_count": 12,
   "metadata": {},
   "outputs": [
    {
     "data": {
      "text/plain": [
       "14.1"
      ]
     },
     "execution_count": 12,
     "metadata": {},
     "output_type": "execute_result"
    }
   ],
   "source": [
    "y_valid[42]"
   ]
  },
  {
   "cell_type": "code",
   "execution_count": 13,
   "metadata": {},
   "outputs": [
    {
     "data": {
      "text/plain": [
       "array([[13.972415]], dtype=float32)"
      ]
     },
     "execution_count": 13,
     "metadata": {},
     "output_type": "execute_result"
    }
   ],
   "source": [
    "model.predict(np.reshape(X_valid[42], [1, 13]))"
   ]
  }
 ],
 "metadata": {
  "kernelspec": {
   "display_name": "TensorFlow 2.3 on Python 3.6 (CUDA 10.1)",
   "language": "python",
   "name": "python3"
  },
  "language_info": {
   "codemirror_mode": {
    "name": "ipython",
    "version": 3
   },
   "file_extension": ".py",
   "mimetype": "text/x-python",
   "name": "python",
   "nbconvert_exporter": "python",
   "pygments_lexer": "ipython3",
   "version": "3.6.9"
  }
 },
 "nbformat": 4,
 "nbformat_minor": 2
}
