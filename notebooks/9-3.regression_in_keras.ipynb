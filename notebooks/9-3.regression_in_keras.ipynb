{
  "nbformat": 4,
  "nbformat_minor": 0,
  "metadata": {
    "kernelspec": {
      "display_name": "TensorFlow 2.3 on Python 3.6 (CUDA 10.1)",
      "language": "python",
      "name": "python3"
    },
    "language_info": {
      "codemirror_mode": {
        "name": "ipython",
        "version": 3
      },
      "file_extension": ".py",
      "mimetype": "text/x-python",
      "name": "python",
      "nbconvert_exporter": "python",
      "pygments_lexer": "ipython3",
      "version": "3.6.9"
    },
    "colab": {
      "name": "9-3.regression_in_keras.ipynb",
      "provenance": []
    },
    "accelerator": "GPU"
  },
  "cells": [
    {
      "cell_type": "markdown",
      "metadata": {
        "id": "UpXTEaeLzrnO"
      },
      "source": [
        "# 케라스로 만드는 회귀 예제\n",
        "\n",
        "매사추세츠 보스턴 지역의 주택 가격 예측하기"
      ]
    },
    {
      "cell_type": "markdown",
      "metadata": {
        "id": "VN3WDCrAzrnW"
      },
      "source": [
        "[![Open In Colab](https://colab.research.google.com/assets/colab-badge.svg)](https://colab.research.google.com/github/rickiepark/dl-illustrated/blob/master/notebooks/9-3.regression_in_keras.ipynb)"
      ]
    },
    {
      "cell_type": "markdown",
      "metadata": {
        "id": "uFI37QNkzrnW"
      },
      "source": [
        "#### 라이브러리를 적재합니다."
      ]
    },
    {
      "cell_type": "code",
      "metadata": {
        "id": "qBzBQb-szrnW"
      },
      "source": [
        "import numpy as np\n",
        "from tensorflow.keras.datasets import boston_housing\n",
        "from tensorflow.keras.models import Sequential\n",
        "from tensorflow.keras.layers import Dense, Dropout \n",
        "from tensorflow.keras.layers import BatchNormalization "
      ],
      "execution_count": 1,
      "outputs": []
    },
    {
      "cell_type": "markdown",
      "metadata": {
        "id": "5AZDseSwzrnX"
      },
      "source": [
        "#### 데이터를 적재합니다."
      ]
    },
    {
      "cell_type": "code",
      "metadata": {
        "id": "DZZvCNg3zrnX",
        "colab": {
          "base_uri": "https://localhost:8080/"
        },
        "outputId": "62d70ad5-ac11-4281-8da8-5d2de39f70eb"
      },
      "source": [
        "(X_train, y_train), (X_valid, y_valid) = boston_housing.load_data()"
      ],
      "execution_count": 2,
      "outputs": [
        {
          "output_type": "stream",
          "text": [
            "Downloading data from https://storage.googleapis.com/tensorflow/tf-keras-datasets/boston_housing.npz\n",
            "57344/57026 [==============================] - 0s 0us/step\n"
          ],
          "name": "stdout"
        }
      ]
    },
    {
      "cell_type": "code",
      "metadata": {
        "id": "tvr-XETbzrnX",
        "colab": {
          "base_uri": "https://localhost:8080/"
        },
        "outputId": "6bbc9949-2635-4281-f1c6-0afde7bf17fb"
      },
      "source": [
        "X_train.shape"
      ],
      "execution_count": 3,
      "outputs": [
        {
          "output_type": "execute_result",
          "data": {
            "text/plain": [
              "(404, 13)"
            ]
          },
          "metadata": {
            "tags": []
          },
          "execution_count": 3
        }
      ]
    },
    {
      "cell_type": "code",
      "metadata": {
        "id": "snbtcHYozrnY",
        "colab": {
          "base_uri": "https://localhost:8080/"
        },
        "outputId": "b4f49981-ee88-4e58-bf0f-8c9a14c2569b"
      },
      "source": [
        "X_valid.shape"
      ],
      "execution_count": 4,
      "outputs": [
        {
          "output_type": "execute_result",
          "data": {
            "text/plain": [
              "(102, 13)"
            ]
          },
          "metadata": {
            "tags": []
          },
          "execution_count": 4
        }
      ]
    },
    {
      "cell_type": "code",
      "metadata": {
        "id": "JwaxiBmlzrnY",
        "colab": {
          "base_uri": "https://localhost:8080/"
        },
        "outputId": "d469d0a8-4a73-4f4b-bed3-64c8f1a83b14"
      },
      "source": [
        "X_train[0]"
      ],
      "execution_count": 5,
      "outputs": [
        {
          "output_type": "execute_result",
          "data": {
            "text/plain": [
              "array([  1.23247,   0.     ,   8.14   ,   0.     ,   0.538  ,   6.142  ,\n",
              "        91.7    ,   3.9769 ,   4.     , 307.     ,  21.     , 396.9    ,\n",
              "        18.72   ])"
            ]
          },
          "metadata": {
            "tags": []
          },
          "execution_count": 5
        }
      ]
    },
    {
      "cell_type": "code",
      "metadata": {
        "id": "d95L3aOezrnZ",
        "colab": {
          "base_uri": "https://localhost:8080/"
        },
        "outputId": "ae01955f-f262-4573-f339-4c311da126b0"
      },
      "source": [
        "y_train[0]"
      ],
      "execution_count": 6,
      "outputs": [
        {
          "output_type": "execute_result",
          "data": {
            "text/plain": [
              "15.2"
            ]
          },
          "metadata": {
            "tags": []
          },
          "execution_count": 6
        }
      ]
    },
    {
      "cell_type": "markdown",
      "metadata": {
        "id": "e73SbGiKzrnZ"
      },
      "source": [
        "#### 신경망을 만듭니다."
      ]
    },
    {
      "cell_type": "code",
      "metadata": {
        "id": "trObx-ftzrnZ"
      },
      "source": [
        "model = Sequential()\n",
        "\n",
        "model.add(Dense(32, input_dim=13, activation='relu'))\n",
        "model.add(BatchNormalization())\n",
        "\n",
        "model.add(Dense(16, activation='relu'))\n",
        "model.add(BatchNormalization())\n",
        "model.add(Dropout(0.2))\n",
        "\n",
        "model.add(Dense(1, activation='linear'))"
      ],
      "execution_count": 7,
      "outputs": []
    },
    {
      "cell_type": "code",
      "metadata": {
        "id": "HabREuUkzrna",
        "colab": {
          "base_uri": "https://localhost:8080/"
        },
        "outputId": "70cb6bce-878a-41a6-e692-57f89061514d"
      },
      "source": [
        "model.summary()"
      ],
      "execution_count": 8,
      "outputs": [
        {
          "output_type": "stream",
          "text": [
            "Model: \"sequential\"\n",
            "_________________________________________________________________\n",
            "Layer (type)                 Output Shape              Param #   \n",
            "=================================================================\n",
            "dense (Dense)                (None, 32)                448       \n",
            "_________________________________________________________________\n",
            "batch_normalization (BatchNo (None, 32)                128       \n",
            "_________________________________________________________________\n",
            "dense_1 (Dense)              (None, 16)                528       \n",
            "_________________________________________________________________\n",
            "batch_normalization_1 (Batch (None, 16)                64        \n",
            "_________________________________________________________________\n",
            "dropout (Dropout)            (None, 16)                0         \n",
            "_________________________________________________________________\n",
            "dense_2 (Dense)              (None, 1)                 17        \n",
            "=================================================================\n",
            "Total params: 1,185\n",
            "Trainable params: 1,089\n",
            "Non-trainable params: 96\n",
            "_________________________________________________________________\n"
          ],
          "name": "stdout"
        }
      ]
    },
    {
      "cell_type": "markdown",
      "metadata": {
        "id": "6FF2nyQ6zrna"
      },
      "source": [
        "#### 모델을 설정합니다."
      ]
    },
    {
      "cell_type": "code",
      "metadata": {
        "id": "Tm5zaQifzrna"
      },
      "source": [
        "model.compile(loss='mean_squared_error', optimizer='adam')"
      ],
      "execution_count": 9,
      "outputs": []
    },
    {
      "cell_type": "markdown",
      "metadata": {
        "id": "CCebUVgXzrna"
      },
      "source": [
        "#### 훈련!"
      ]
    },
    {
      "cell_type": "code",
      "metadata": {
        "id": "LyjT4M-czrnb",
        "colab": {
          "base_uri": "https://localhost:8080/"
        },
        "outputId": "9281c6a1-301c-4e3d-a6a0-ebdde9fd5e12"
      },
      "source": [
        "model.fit(X_train, y_train, \n",
        "          batch_size=8, epochs=32, verbose=1, \n",
        "          validation_data=(X_valid, y_valid))"
      ],
      "execution_count": 10,
      "outputs": [
        {
          "output_type": "stream",
          "text": [
            "Epoch 1/32\n",
            "51/51 [==============================] - 3s 6ms/step - loss: 574.0930 - val_loss: 743.5331\n",
            "Epoch 2/32\n",
            "51/51 [==============================] - 0s 3ms/step - loss: 556.6170 - val_loss: 640.6118\n",
            "Epoch 3/32\n",
            "51/51 [==============================] - 0s 3ms/step - loss: 540.8904 - val_loss: 555.8631\n",
            "Epoch 4/32\n",
            "51/51 [==============================] - 0s 3ms/step - loss: 521.0344 - val_loss: 526.3068\n",
            "Epoch 5/32\n",
            "51/51 [==============================] - 0s 3ms/step - loss: 498.7632 - val_loss: 488.0741\n",
            "Epoch 6/32\n",
            "51/51 [==============================] - 0s 3ms/step - loss: 469.0973 - val_loss: 452.2953\n",
            "Epoch 7/32\n",
            "51/51 [==============================] - 0s 3ms/step - loss: 439.9694 - val_loss: 412.3038\n",
            "Epoch 8/32\n",
            "51/51 [==============================] - 0s 3ms/step - loss: 408.8445 - val_loss: 364.0467\n",
            "Epoch 9/32\n",
            "51/51 [==============================] - 0s 3ms/step - loss: 366.1017 - val_loss: 359.6360\n",
            "Epoch 10/32\n",
            "51/51 [==============================] - 0s 3ms/step - loss: 324.7559 - val_loss: 356.3714\n",
            "Epoch 11/32\n",
            "51/51 [==============================] - 0s 3ms/step - loss: 284.3469 - val_loss: 363.1163\n",
            "Epoch 12/32\n",
            "51/51 [==============================] - 0s 3ms/step - loss: 239.0005 - val_loss: 420.7466\n",
            "Epoch 13/32\n",
            "51/51 [==============================] - 0s 3ms/step - loss: 204.8780 - val_loss: 399.9207\n",
            "Epoch 14/32\n",
            "51/51 [==============================] - 0s 3ms/step - loss: 166.2900 - val_loss: 376.5479\n",
            "Epoch 15/32\n",
            "51/51 [==============================] - 0s 3ms/step - loss: 142.7788 - val_loss: 396.9011\n",
            "Epoch 16/32\n",
            "51/51 [==============================] - 0s 3ms/step - loss: 126.7467 - val_loss: 270.4064\n",
            "Epoch 17/32\n",
            "51/51 [==============================] - 0s 3ms/step - loss: 107.7889 - val_loss: 180.5355\n",
            "Epoch 18/32\n",
            "51/51 [==============================] - 0s 3ms/step - loss: 90.6924 - val_loss: 154.4148\n",
            "Epoch 19/32\n",
            "51/51 [==============================] - 0s 3ms/step - loss: 81.5903 - val_loss: 109.4332\n",
            "Epoch 20/32\n",
            "51/51 [==============================] - 0s 3ms/step - loss: 67.4599 - val_loss: 83.1859\n",
            "Epoch 21/32\n",
            "51/51 [==============================] - 0s 3ms/step - loss: 57.9546 - val_loss: 38.1591\n",
            "Epoch 22/32\n",
            "51/51 [==============================] - 0s 3ms/step - loss: 50.1833 - val_loss: 48.4848\n",
            "Epoch 23/32\n",
            "51/51 [==============================] - 0s 3ms/step - loss: 50.6170 - val_loss: 72.9628\n",
            "Epoch 24/32\n",
            "51/51 [==============================] - 0s 3ms/step - loss: 54.7042 - val_loss: 45.8078\n",
            "Epoch 25/32\n",
            "51/51 [==============================] - 0s 3ms/step - loss: 48.4494 - val_loss: 48.2126\n",
            "Epoch 26/32\n",
            "51/51 [==============================] - 0s 3ms/step - loss: 46.1896 - val_loss: 49.2805\n",
            "Epoch 27/32\n",
            "51/51 [==============================] - 0s 3ms/step - loss: 48.0083 - val_loss: 48.1362\n",
            "Epoch 28/32\n",
            "51/51 [==============================] - 0s 3ms/step - loss: 38.9209 - val_loss: 99.3654\n",
            "Epoch 29/32\n",
            "51/51 [==============================] - 0s 3ms/step - loss: 52.2437 - val_loss: 31.4174\n",
            "Epoch 30/32\n",
            "51/51 [==============================] - 0s 3ms/step - loss: 42.7776 - val_loss: 45.0838\n",
            "Epoch 31/32\n",
            "51/51 [==============================] - 0s 3ms/step - loss: 42.1824 - val_loss: 35.8909\n",
            "Epoch 32/32\n",
            "51/51 [==============================] - 0s 3ms/step - loss: 42.1983 - val_loss: 55.3640\n"
          ],
          "name": "stdout"
        },
        {
          "output_type": "execute_result",
          "data": {
            "text/plain": [
              "<tensorflow.python.keras.callbacks.History at 0x7f43257b6e90>"
            ]
          },
          "metadata": {
            "tags": []
          },
          "execution_count": 10
        }
      ]
    },
    {
      "cell_type": "code",
      "metadata": {
        "id": "rJkI2p1Dzrnb",
        "colab": {
          "base_uri": "https://localhost:8080/"
        },
        "outputId": "bfa4a347-5351-47b7-83c0-588cb6ffa184"
      },
      "source": [
        "X_valid[42]"
      ],
      "execution_count": 11,
      "outputs": [
        {
          "output_type": "execute_result",
          "data": {
            "text/plain": [
              "array([  9.32909,   0.     ,  18.1    ,   0.     ,   0.713  ,   6.185  ,\n",
              "        98.7    ,   2.2616 ,  24.     , 666.     ,  20.2    , 396.9    ,\n",
              "        18.13   ])"
            ]
          },
          "metadata": {
            "tags": []
          },
          "execution_count": 11
        }
      ]
    },
    {
      "cell_type": "code",
      "metadata": {
        "id": "DxL1_WQqzrnc",
        "colab": {
          "base_uri": "https://localhost:8080/"
        },
        "outputId": "3ff3f9cc-885e-45bd-b596-2ff824ea20b2"
      },
      "source": [
        "y_valid[42]"
      ],
      "execution_count": 12,
      "outputs": [
        {
          "output_type": "execute_result",
          "data": {
            "text/plain": [
              "14.1"
            ]
          },
          "metadata": {
            "tags": []
          },
          "execution_count": 12
        }
      ]
    },
    {
      "cell_type": "code",
      "metadata": {
        "id": "TCY9v_ejzrnc",
        "colab": {
          "base_uri": "https://localhost:8080/"
        },
        "outputId": "ee21bc7d-f07c-40b4-ba28-e5ec7a5e5130"
      },
      "source": [
        "model.predict(np.reshape(X_valid[42], [1, 13]))"
      ],
      "execution_count": 13,
      "outputs": [
        {
          "output_type": "execute_result",
          "data": {
            "text/plain": [
              "array([[13.212045]], dtype=float32)"
            ]
          },
          "metadata": {
            "tags": []
          },
          "execution_count": 13
        }
      ]
    }
  ]
}