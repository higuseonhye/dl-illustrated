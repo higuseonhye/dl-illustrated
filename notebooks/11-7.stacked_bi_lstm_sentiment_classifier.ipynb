{
  "nbformat": 4,
  "nbformat_minor": 0,
  "metadata": {
    "kernelspec": {
      "display_name": "TensorFlow 2.3 on Python 3.6 (CUDA 10.1)",
      "language": "python",
      "name": "python3"
    },
    "language_info": {
      "codemirror_mode": {
        "name": "ipython",
        "version": 3
      },
      "file_extension": ".py",
      "mimetype": "text/x-python",
      "name": "python",
      "nbconvert_exporter": "python",
      "pygments_lexer": "ipython3",
      "version": "3.6.9"
    },
    "colab": {
      "name": "11-7.stacked_bi_lstm_sentiment_classifier.ipynb",
      "provenance": []
    },
    "accelerator": "GPU"
  },
  "cells": [
    {
      "cell_type": "markdown",
      "metadata": {
        "id": "gFZPTq-jB5M8"
      },
      "source": [
        "# 적층 양방향 LSTM 감성 분류기"
      ]
    },
    {
      "cell_type": "markdown",
      "metadata": {
        "id": "vVrrV-nwB5NA"
      },
      "source": [
        "이 노트북에서 *적층* 양방향 LSTM을 사용해 감성에 따라 IMDB 영화 리뷰를 분류합니다."
      ]
    },
    {
      "cell_type": "markdown",
      "metadata": {
        "id": "lEBdfCPwB5NA"
      },
      "source": [
        "[![Open In Colab](https://colab.research.google.com/assets/colab-badge.svg)](https://colab.research.google.com/github/rickiepark/dl-illustrated/blob/master/notebooks/11-7.stacked_bi_lstm_sentiment_classifier.ipynb)"
      ]
    },
    {
      "cell_type": "markdown",
      "metadata": {
        "id": "EdwQKCR2B5NA"
      },
      "source": [
        "#### 라이브러리 적재"
      ]
    },
    {
      "cell_type": "code",
      "metadata": {
        "id": "msyZFCQdB5NB"
      },
      "source": [
        "from tensorflow import keras\n",
        "from tensorflow.keras.datasets import imdb\n",
        "from tensorflow.keras.preprocessing.sequence import pad_sequences\n",
        "from tensorflow.keras.models import Sequential\n",
        "from tensorflow.keras.layers import Dense, Dropout, Embedding, SpatialDropout1D, LSTM\n",
        "from tensorflow.keras.layers import Bidirectional \n",
        "from tensorflow.keras.callbacks import ModelCheckpoint\n",
        "import os\n",
        "from sklearn.metrics import roc_auc_score \n",
        "import matplotlib.pyplot as plt \n",
        "%matplotlib inline"
      ],
      "execution_count": 1,
      "outputs": []
    },
    {
      "cell_type": "markdown",
      "metadata": {
        "id": "pVFZm5mUB5NB"
      },
      "source": [
        "#### 하이퍼파라미터 설정"
      ]
    },
    {
      "cell_type": "code",
      "metadata": {
        "id": "b01xF481B5NB"
      },
      "source": [
        "# 출력 디렉토리\n",
        "output_dir = 'model_output/stackedLSTM'\n",
        "\n",
        "# 훈련\n",
        "epochs = 4\n",
        "batch_size = 128\n",
        "\n",
        "# 벡터 공간 임베딩\n",
        "n_dim = 64 \n",
        "n_unique_words = 10000 \n",
        "max_review_length = 200 \n",
        "pad_type = trunc_type = 'pre'\n",
        "drop_embed = 0.2 \n",
        "\n",
        "# LSTM 층 구조\n",
        "n_lstm_1 = 64 # 줄임\n",
        "n_lstm_2 = 64 # new!\n",
        "drop_lstm = 0.2"
      ],
      "execution_count": 2,
      "outputs": []
    },
    {
      "cell_type": "markdown",
      "metadata": {
        "id": "aknD-Z7xB5NB"
      },
      "source": [
        "#### 데이터 적재"
      ]
    },
    {
      "cell_type": "code",
      "metadata": {
        "id": "IpWjiaryB5NC",
        "colab": {
          "base_uri": "https://localhost:8080/"
        },
        "outputId": "0a364f45-9443-4dca-e54b-1b8f5623bb86"
      },
      "source": [
        "(x_train, y_train), (x_valid, y_valid) = imdb.load_data(num_words=n_unique_words) # n_words_to_skip 삭제"
      ],
      "execution_count": 3,
      "outputs": [
        {
          "output_type": "stream",
          "text": [
            "Downloading data from https://storage.googleapis.com/tensorflow/tf-keras-datasets/imdb.npz\n",
            "17465344/17464789 [==============================] - 0s 0us/step\n"
          ],
          "name": "stdout"
        },
        {
          "output_type": "stream",
          "text": [
            "<string>:6: VisibleDeprecationWarning: Creating an ndarray from ragged nested sequences (which is a list-or-tuple of lists-or-tuples-or ndarrays with different lengths or shapes) is deprecated. If you meant to do this, you must specify 'dtype=object' when creating the ndarray\n",
            "/usr/local/lib/python3.7/dist-packages/tensorflow/python/keras/datasets/imdb.py:155: VisibleDeprecationWarning: Creating an ndarray from ragged nested sequences (which is a list-or-tuple of lists-or-tuples-or ndarrays with different lengths or shapes) is deprecated. If you meant to do this, you must specify 'dtype=object' when creating the ndarray\n",
            "  x_train, y_train = np.array(xs[:idx]), np.array(labels[:idx])\n",
            "/usr/local/lib/python3.7/dist-packages/tensorflow/python/keras/datasets/imdb.py:156: VisibleDeprecationWarning: Creating an ndarray from ragged nested sequences (which is a list-or-tuple of lists-or-tuples-or ndarrays with different lengths or shapes) is deprecated. If you meant to do this, you must specify 'dtype=object' when creating the ndarray\n",
            "  x_test, y_test = np.array(xs[idx:]), np.array(labels[idx:])\n"
          ],
          "name": "stderr"
        }
      ]
    },
    {
      "cell_type": "markdown",
      "metadata": {
        "id": "mv63kiv5B5NC"
      },
      "source": [
        "#### 데이터 전처리"
      ]
    },
    {
      "cell_type": "code",
      "metadata": {
        "id": "OgonJNTbB5NC"
      },
      "source": [
        "x_train = pad_sequences(x_train, maxlen=max_review_length, padding=pad_type, truncating=trunc_type, value=0)\n",
        "x_valid = pad_sequences(x_valid, maxlen=max_review_length, padding=pad_type, truncating=trunc_type, value=0)"
      ],
      "execution_count": 4,
      "outputs": []
    },
    {
      "cell_type": "markdown",
      "metadata": {
        "collapsed": true,
        "id": "Hcaw0Q3ZB5NC"
      },
      "source": [
        "#### 신경망 만들기"
      ]
    },
    {
      "cell_type": "code",
      "metadata": {
        "id": "6j1skJeTB5NC"
      },
      "source": [
        "model = Sequential()\n",
        "model.add(Embedding(n_unique_words, n_dim, input_length=max_review_length)) \n",
        "model.add(SpatialDropout1D(drop_embed))\n",
        "model.add(Bidirectional(LSTM(n_lstm_1, dropout=drop_lstm, \n",
        "                             return_sequences=True))) \n",
        "model.add(Bidirectional(LSTM(n_lstm_2, dropout=drop_lstm)))\n",
        "model.add(Dense(1, activation='sigmoid'))"
      ],
      "execution_count": 5,
      "outputs": []
    },
    {
      "cell_type": "code",
      "metadata": {
        "id": "vDHjAKLoB5ND",
        "colab": {
          "base_uri": "https://localhost:8080/"
        },
        "outputId": "e6bc2c15-7cda-46a0-8ffe-dcd5e5a37f7b"
      },
      "source": [
        "# 양 방향으로 역전파되기 때문에 LSTM 층의 파라미터가 두 배가 됩니다.\n",
        "model.summary() "
      ],
      "execution_count": 6,
      "outputs": [
        {
          "output_type": "stream",
          "text": [
            "Model: \"sequential\"\n",
            "_________________________________________________________________\n",
            "Layer (type)                 Output Shape              Param #   \n",
            "=================================================================\n",
            "embedding (Embedding)        (None, 200, 64)           640000    \n",
            "_________________________________________________________________\n",
            "spatial_dropout1d (SpatialDr (None, 200, 64)           0         \n",
            "_________________________________________________________________\n",
            "bidirectional (Bidirectional (None, 200, 128)          66048     \n",
            "_________________________________________________________________\n",
            "bidirectional_1 (Bidirection (None, 128)               98816     \n",
            "_________________________________________________________________\n",
            "dense (Dense)                (None, 1)                 129       \n",
            "=================================================================\n",
            "Total params: 804,993\n",
            "Trainable params: 804,993\n",
            "Non-trainable params: 0\n",
            "_________________________________________________________________\n"
          ],
          "name": "stdout"
        }
      ]
    },
    {
      "cell_type": "markdown",
      "metadata": {
        "id": "gyRcUn74B5ND"
      },
      "source": [
        "#### 모델 설정"
      ]
    },
    {
      "cell_type": "code",
      "metadata": {
        "id": "6VNcI0NgB5ND"
      },
      "source": [
        "model.compile(loss='binary_crossentropy', optimizer='adam', metrics=['accuracy'])"
      ],
      "execution_count": 7,
      "outputs": []
    },
    {
      "cell_type": "code",
      "metadata": {
        "id": "3L1-XFRyB5NE"
      },
      "source": [
        "modelcheckpoint = ModelCheckpoint(filepath=output_dir+\"/weights.{epoch:02d}.hdf5\")\n",
        "if not os.path.exists(output_dir):\n",
        "    os.makedirs(output_dir)"
      ],
      "execution_count": 8,
      "outputs": []
    },
    {
      "cell_type": "markdown",
      "metadata": {
        "id": "dYJhACI-B5NE"
      },
      "source": [
        "#### 훈련!"
      ]
    },
    {
      "cell_type": "code",
      "metadata": {
        "id": "RJAhv7MzB5NE",
        "colab": {
          "base_uri": "https://localhost:8080/"
        },
        "outputId": "81085775-bf08-43ac-fad7-b4bd88de29dc"
      },
      "source": [
        "model.fit(x_train, y_train, batch_size=batch_size, epochs=epochs, verbose=1, validation_data=(x_valid, y_valid), callbacks=[modelcheckpoint])"
      ],
      "execution_count": 9,
      "outputs": [
        {
          "output_type": "stream",
          "text": [
            "Epoch 1/4\n",
            "196/196 [==============================] - 70s 300ms/step - loss: 0.4527 - accuracy: 0.7798 - val_loss: 0.3111 - val_accuracy: 0.8699\n",
            "Epoch 2/4\n",
            "196/196 [==============================] - 56s 287ms/step - loss: 0.2424 - accuracy: 0.9045 - val_loss: 0.3590 - val_accuracy: 0.8527\n",
            "Epoch 3/4\n",
            "196/196 [==============================] - 57s 290ms/step - loss: 0.1842 - accuracy: 0.9315 - val_loss: 0.3317 - val_accuracy: 0.8716\n",
            "Epoch 4/4\n",
            "196/196 [==============================] - 56s 285ms/step - loss: 0.1386 - accuracy: 0.9502 - val_loss: 0.5116 - val_accuracy: 0.8439\n"
          ],
          "name": "stdout"
        },
        {
          "output_type": "execute_result",
          "data": {
            "text/plain": [
              "<tensorflow.python.keras.callbacks.History at 0x7f21cdb07a10>"
            ]
          },
          "metadata": {
            "tags": []
          },
          "execution_count": 9
        }
      ]
    },
    {
      "cell_type": "markdown",
      "metadata": {
        "collapsed": true,
        "id": "eb9PtAmzB5NE"
      },
      "source": [
        "#### 평가"
      ]
    },
    {
      "cell_type": "code",
      "metadata": {
        "id": "3ctJSHylB5NE"
      },
      "source": [
        "model.load_weights(output_dir+\"/weights.02.hdf5\") "
      ],
      "execution_count": 10,
      "outputs": []
    },
    {
      "cell_type": "code",
      "metadata": {
        "id": "kKghjYSJB5NF"
      },
      "source": [
        "y_hat = model.predict(x_valid)"
      ],
      "execution_count": 11,
      "outputs": []
    },
    {
      "cell_type": "code",
      "metadata": {
        "id": "4k8wSGdKB5NF",
        "colab": {
          "base_uri": "https://localhost:8080/",
          "height": 265
        },
        "outputId": "75483eee-2c9b-440a-cccf-36d874862ffa"
      },
      "source": [
        "plt.hist(y_hat)\n",
        "_ = plt.axvline(x=0.5, color='orange')"
      ],
      "execution_count": 12,
      "outputs": [
        {
          "output_type": "display_data",
          "data": {
            "image/png": "[encoded data removed]",
            "text/plain": [
              "<Figure size 432x288 with 1 Axes>"
            ]
          },
          "metadata": {
            "tags": [],
            "needs_background": "light"
          }
        }
      ]
    },
    {
      "cell_type": "code",
      "metadata": {
        "id": "X3miUGLjB5NF",
        "colab": {
          "base_uri": "https://localhost:8080/",
          "height": 35
        },
        "outputId": "7da5fb9f-f77f-45a6-db99-4066910aea9b"
      },
      "source": [
        "\"{:0.2f}\".format(roc_auc_score(y_valid, y_hat)*100.0)"
      ],
      "execution_count": 13,
      "outputs": [
        {
          "output_type": "execute_result",
          "data": {
            "application/vnd.google.colaboratory.intrinsic+json": {
              "type": "string"
            },
            "text/plain": [
              "'94.69'"
            ]
          },
          "metadata": {
            "tags": []
          },
          "execution_count": 13
        }
      ]
    }
  ]
}