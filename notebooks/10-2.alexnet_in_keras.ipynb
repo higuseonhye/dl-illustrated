{
  "nbformat": 4,
  "nbformat_minor": 0,
  "metadata": {
    "kernelspec": {
      "display_name": "TensorFlow 2.3 on Python 3.6 (CUDA 10.1)",
      "language": "python",
      "name": "python3"
    },
    "language_info": {
      "codemirror_mode": {
        "name": "ipython",
        "version": 3
      },
      "file_extension": ".py",
      "mimetype": "text/x-python",
      "name": "python",
      "nbconvert_exporter": "python",
      "pygments_lexer": "ipython3",
      "version": "3.6.9"
    },
    "colab": {
      "name": "10-2.alexnet_in_keras.ipynb",
      "provenance": []
    },
    "accelerator": "GPU"
  },
  "cells": [
    {
      "cell_type": "markdown",
      "metadata": {
        "id": "b8YXil1YQCCP"
      },
      "source": [
        "# 케라스로 AlexNet 만들기"
      ]
    },
    {
      "cell_type": "markdown",
      "metadata": {
        "id": "1oBWkfZBQCCT"
      },
      "source": [
        "이 노트북에서 [AlexNet](https://papers.nips.cc/paper/4824-imagenet-classification-with-deep-convolutional-neural-networks)과 비슷한 심층 합성곱 신경망으로 [Oxford Flowers](http://www.robots.ox.ac.uk/~vgg/data/flowers/17/) 데이터셋의 꽃을 17개의 카테고리로 분류하겠습니다."
      ]
    },
    {
      "cell_type": "markdown",
      "metadata": {
        "id": "dIeVe_hPQCCT"
      },
      "source": [
        "[![Open In Colab](https://colab.research.google.com/assets/colab-badge.svg)](https://colab.research.google.com/github/rickiepark/dl-illustrated/blob/master/notebooks/10-2.alexnet_in_keras.ipynb)"
      ]
    },
    {
      "cell_type": "markdown",
      "metadata": {
        "id": "XyGDF8-kQCCU"
      },
      "source": [
        "#### 라이브러리를 적재합니다."
      ]
    },
    {
      "cell_type": "code",
      "metadata": {
        "id": "zNMKKpyhQCCU"
      },
      "source": [
        "from tensorflow import keras\n",
        "from tensorflow.keras.models import Sequential\n",
        "from tensorflow.keras.layers import Dense, Dropout, Flatten, Conv2D, MaxPooling2D\n",
        "from tensorflow.keras.layers import BatchNormalization"
      ],
      "execution_count": null,
      "outputs": []
    },
    {
      "cell_type": "markdown",
      "metadata": {
        "id": "GLXZFYT7QCCU"
      },
      "source": [
        "#### 데이터를 적재하고 전처리합니다."
      ]
    },
    {
      "cell_type": "markdown",
      "metadata": {
        "id": "JAGhSpKvQCCU"
      },
      "source": [
        "원서 노트북은 tflearn을 사용해 oxflower17 데이터셋을 다운로드합니다. 이 라이브러리는 텐서플로 2와 호환되지 않습니다. 여기에서는 사전에 tflearn으로 다운받은 데이터를 다운로드하여 사용합니다.\n",
        "\n",
        "이 데이터셋에 대한 자세한 내용은 http://www.robots.ox.ac.uk/~vgg/data/flowers/17/ 을 참고하세요."
      ]
    },
    {
      "cell_type": "code",
      "metadata": {
        "id": "TMi_JHiaQCCV",
        "colab": {
          "base_uri": "https://localhost:8080/"
        },
        "outputId": "85c36cb5-6015-46f7-85bc-ca583f538f97"
      },
      "source": [
        "!rm oxflower17*\n",
        "!wget https://bit.ly/36QytdH -O oxflower17.npz"
      ],
      "execution_count": null,
      "outputs": [
        {
          "output_type": "stream",
          "text": [
            "rm: cannot remove 'oxflower17*': No such file or directory\n",
            "--2021-02-01 15:40:25--  https://bit.ly/31IvwtD\n",
            "Resolving bit.ly (bit.ly)... 67.199.248.11, 67.199.248.10\n",
            "Connecting to bit.ly (bit.ly)|67.199.248.11|:443... connected.\n",
            "HTTP request sent, awaiting response... 301 Moved Permanently\n",
            "Location: https://onedrive.live.com/download?cid=822579D69D2DC3B5&resid=822579D69D2DC3B5!597497&authkey=AGGo9IgYC0QZfXo [following]\n",
            "--2021-02-01 15:40:25--  https://onedrive.live.com/download?cid=822579D69D2DC3B5&resid=822579D69D2DC3B5!597497&authkey=AGGo9IgYC0QZfXo\n",
            "Resolving onedrive.live.com (onedrive.live.com)... 13.107.42.13\n",
            "Connecting to onedrive.live.com (onedrive.live.com)|13.107.42.13|:443... connected.\n",
            "HTTP request sent, awaiting response... 302 Found\n",
            "Location: https://evtwow.bl.files.1drv.com/y4mj6Q18QJugmPu4IyZM_bNTnaH6izWk_AI1kCIBS6QBpEg3m0m9RrFhbHGSHL7rOWZ491KhaXuB7gP3DSXh5eOWt2xNgUk7kcNyzhYIqhiOu3XiukEKWY1RxFqmFNbXsqnccyxPI_YKjALX3b2qxZ5so9LeW39Atyi_EvwuTjDj0fj7h6L3J1JwDFBVXUQcvoXYW4_wy_htpogQocLCErOKg/oxflower17.npz?download&psid=1 [following]\n",
            "--2021-02-01 15:40:26--  https://evtwow.bl.files.1drv.com/y4mj6Q18QJugmPu4IyZM_bNTnaH6izWk_AI1kCIBS6QBpEg3m0m9RrFhbHGSHL7rOWZ491KhaXuB7gP3DSXh5eOWt2xNgUk7kcNyzhYIqhiOu3XiukEKWY1RxFqmFNbXsqnccyxPI_YKjALX3b2qxZ5so9LeW39Atyi_EvwuTjDj0fj7h6L3J1JwDFBVXUQcvoXYW4_wy_htpogQocLCErOKg/oxflower17.npz?download&psid=1\n",
            "Resolving evtwow.bl.files.1drv.com (evtwow.bl.files.1drv.com)... 13.107.42.12\n",
            "Connecting to evtwow.bl.files.1drv.com (evtwow.bl.files.1drv.com)|13.107.42.12|:443... connected.\n",
            "HTTP request sent, awaiting response... 200 OK\n",
            "Length: 252415092 (241M) [application/zip]\n",
            "Saving to: ‘oxflower17.npz’\n",
            "\n",
            "oxflower17.npz      100%[===================>] 240.72M  18.9MB/s    in 12s     \n",
            "\n",
            "2021-02-01 15:40:39 (19.4 MB/s) - ‘oxflower17.npz’ saved [252415092/252415092]\n",
            "\n"
          ],
          "name": "stdout"
        }
      ]
    },
    {
      "cell_type": "code",
      "metadata": {
        "id": "iJmvncZCQCCV"
      },
      "source": [
        "import numpy as np\n",
        "\n",
        "data = np.load('oxflower17.npz')\n",
        "X = data['X']\n",
        "Y = data['Y']"
      ],
      "execution_count": null,
      "outputs": []
    },
    {
      "cell_type": "code",
      "metadata": {
        "id": "d_Xy4VLPQCCW",
        "colab": {
          "base_uri": "https://localhost:8080/"
        },
        "outputId": "9ae341ce-1311-4aac-d79b-0d72404c1c4c"
      },
      "source": [
        "X.shape, Y.shape"
      ],
      "execution_count": null,
      "outputs": [
        {
          "output_type": "execute_result",
          "data": {
            "text/plain": [
              "((1360, 224, 224, 3), (1360, 17))"
            ]
          },
          "metadata": {
            "tags": []
          },
          "execution_count": 4
        }
      ]
    },
    {
      "cell_type": "markdown",
      "metadata": {
        "id": "BYAvW3sNQCCW"
      },
      "source": [
        "#### 신경망 모델을 만듭니다."
      ]
    },
    {
      "cell_type": "code",
      "metadata": {
        "id": "8IXx-jQLQCCW"
      },
      "source": [
        "model = Sequential()\n",
        "\n",
        "model.add(Conv2D(96, kernel_size=(11, 11), strides=(4, 4), activation='relu', input_shape=(224, 224, 3)))\n",
        "model.add(MaxPooling2D(pool_size=(3, 3), strides=(2, 2)))\n",
        "model.add(BatchNormalization())\n",
        "\n",
        "model.add(Conv2D(256, kernel_size=(5, 5), activation='relu'))\n",
        "model.add(MaxPooling2D(pool_size=(3, 3), strides=(2, 2)))\n",
        "model.add(BatchNormalization())\n",
        "\n",
        "model.add(Conv2D(256, kernel_size=(3, 3), activation='relu'))\n",
        "model.add(Conv2D(384, kernel_size=(3, 3), activation='relu'))\n",
        "model.add(Conv2D(384, kernel_size=(3, 3), activation='relu'))\n",
        "model.add(MaxPooling2D(pool_size=(3, 3), strides=(2, 2)))\n",
        "model.add(BatchNormalization())\n",
        "\n",
        "model.add(Flatten())\n",
        "model.add(Dense(4096, activation='tanh'))\n",
        "model.add(Dropout(0.5))\n",
        "model.add(Dense(4096, activation='tanh'))\n",
        "model.add(Dropout(0.5))\n",
        "\n",
        "model.add(Dense(17, activation='softmax'))"
      ],
      "execution_count": null,
      "outputs": []
    },
    {
      "cell_type": "code",
      "metadata": {
        "id": "PDoU5NTkQCCW",
        "colab": {
          "base_uri": "https://localhost:8080/"
        },
        "outputId": "bd1621be-7a69-4913-b479-1f13425a7b09"
      },
      "source": [
        "model.summary()"
      ],
      "execution_count": null,
      "outputs": [
        {
          "output_type": "stream",
          "text": [
            "Model: \"sequential\"\n",
            "_________________________________________________________________\n",
            "Layer (type)                 Output Shape              Param #   \n",
            "=================================================================\n",
            "conv2d (Conv2D)              (None, 54, 54, 96)        34944     \n",
            "_________________________________________________________________\n",
            "max_pooling2d (MaxPooling2D) (None, 26, 26, 96)        0         \n",
            "_________________________________________________________________\n",
            "batch_normalization (BatchNo (None, 26, 26, 96)        384       \n",
            "_________________________________________________________________\n",
            "conv2d_1 (Conv2D)            (None, 22, 22, 256)       614656    \n",
            "_________________________________________________________________\n",
            "max_pooling2d_1 (MaxPooling2 (None, 10, 10, 256)       0         \n",
            "_________________________________________________________________\n",
            "batch_normalization_1 (Batch (None, 10, 10, 256)       1024      \n",
            "_________________________________________________________________\n",
            "conv2d_2 (Conv2D)            (None, 8, 8, 256)         590080    \n",
            "_________________________________________________________________\n",
            "conv2d_3 (Conv2D)            (None, 6, 6, 384)         885120    \n",
            "_________________________________________________________________\n",
            "conv2d_4 (Conv2D)            (None, 4, 4, 384)         1327488   \n",
            "_________________________________________________________________\n",
            "max_pooling2d_2 (MaxPooling2 (None, 1, 1, 384)         0         \n",
            "_________________________________________________________________\n",
            "batch_normalization_2 (Batch (None, 1, 1, 384)         1536      \n",
            "_________________________________________________________________\n",
            "flatten (Flatten)            (None, 384)               0         \n",
            "_________________________________________________________________\n",
            "dense (Dense)                (None, 4096)              1576960   \n",
            "_________________________________________________________________\n",
            "dropout (Dropout)            (None, 4096)              0         \n",
            "_________________________________________________________________\n",
            "dense_1 (Dense)              (None, 4096)              16781312  \n",
            "_________________________________________________________________\n",
            "dropout_1 (Dropout)          (None, 4096)              0         \n",
            "_________________________________________________________________\n",
            "dense_2 (Dense)              (None, 17)                69649     \n",
            "=================================================================\n",
            "Total params: 21,883,153\n",
            "Trainable params: 21,881,681\n",
            "Non-trainable params: 1,472\n",
            "_________________________________________________________________\n"
          ],
          "name": "stdout"
        }
      ]
    },
    {
      "cell_type": "markdown",
      "metadata": {
        "id": "EYiTN_TPQCCX"
      },
      "source": [
        "#### 모델을 설정합니다."
      ]
    },
    {
      "cell_type": "code",
      "metadata": {
        "id": "CgrBXoewQCCX"
      },
      "source": [
        "model.compile(loss='categorical_crossentropy', optimizer='adam', metrics=['accuracy'])"
      ],
      "execution_count": null,
      "outputs": []
    },
    {
      "cell_type": "markdown",
      "metadata": {
        "id": "tBHoQvoHQCCX"
      },
      "source": [
        "#### 훈련!"
      ]
    },
    {
      "cell_type": "code",
      "metadata": {
        "id": "Ak5Yfoi1QCCX",
        "colab": {
          "base_uri": "https://localhost:8080/"
        },
        "outputId": "4d7108ef-d798-46de-985b-22022649c41e"
      },
      "source": [
        "model.fit(X, Y, batch_size=64, epochs=100, verbose=1, validation_split=0.1, shuffle=True)"
      ],
      "execution_count": null,
      "outputs": [
        {
          "output_type": "stream",
          "text": [
            "Epoch 1/100\n",
            "20/20 [==============================] - 9s 78ms/step - loss: 4.6429 - accuracy: 0.1772 - val_loss: 6.9113 - val_accuracy: 0.0662\n",
            "Epoch 2/100\n",
            "20/20 [==============================] - 1s 50ms/step - loss: 3.2046 - accuracy: 0.2823 - val_loss: 3.8402 - val_accuracy: 0.1838\n",
            "Epoch 3/100\n",
            "20/20 [==============================] - 1s 50ms/step - loss: 2.3982 - accuracy: 0.3301 - val_loss: 5.0392 - val_accuracy: 0.1250\n",
            "Epoch 4/100\n",
            "20/20 [==============================] - 1s 50ms/step - loss: 2.4482 - accuracy: 0.3819 - val_loss: 4.1104 - val_accuracy: 0.2279\n",
            "Epoch 5/100\n",
            "20/20 [==============================] - 1s 51ms/step - loss: 2.2152 - accuracy: 0.4310 - val_loss: 4.6752 - val_accuracy: 0.2206\n",
            "Epoch 6/100\n",
            "20/20 [==============================] - 1s 50ms/step - loss: 2.2077 - accuracy: 0.4286 - val_loss: 4.6224 - val_accuracy: 0.2279\n",
            "Epoch 7/100\n",
            "20/20 [==============================] - 1s 51ms/step - loss: 1.9991 - accuracy: 0.4783 - val_loss: 3.2980 - val_accuracy: 0.3015\n",
            "Epoch 8/100\n",
            "20/20 [==============================] - 1s 51ms/step - loss: 1.8836 - accuracy: 0.4758 - val_loss: 4.4707 - val_accuracy: 0.2721\n",
            "Epoch 9/100\n",
            "20/20 [==============================] - 1s 50ms/step - loss: 2.0022 - accuracy: 0.4745 - val_loss: 6.2244 - val_accuracy: 0.2059\n",
            "Epoch 10/100\n",
            "20/20 [==============================] - 1s 50ms/step - loss: 1.7743 - accuracy: 0.5284 - val_loss: 4.5157 - val_accuracy: 0.2574\n",
            "Epoch 11/100\n",
            "20/20 [==============================] - 1s 50ms/step - loss: 1.8367 - accuracy: 0.5051 - val_loss: 3.1568 - val_accuracy: 0.3750\n",
            "Epoch 12/100\n",
            "20/20 [==============================] - 1s 52ms/step - loss: 1.9101 - accuracy: 0.4916 - val_loss: 2.5058 - val_accuracy: 0.3971\n",
            "Epoch 13/100\n",
            "20/20 [==============================] - 1s 52ms/step - loss: 1.7524 - accuracy: 0.5305 - val_loss: 2.6367 - val_accuracy: 0.3824\n",
            "Epoch 14/100\n",
            "20/20 [==============================] - 1s 51ms/step - loss: 1.6340 - accuracy: 0.5884 - val_loss: 3.8476 - val_accuracy: 0.3382\n",
            "Epoch 15/100\n",
            "20/20 [==============================] - 1s 51ms/step - loss: 1.7423 - accuracy: 0.5187 - val_loss: 2.8836 - val_accuracy: 0.4412\n",
            "Epoch 16/100\n",
            "20/20 [==============================] - 1s 50ms/step - loss: 1.4916 - accuracy: 0.5700 - val_loss: 5.7071 - val_accuracy: 0.3382\n",
            "Epoch 17/100\n",
            "20/20 [==============================] - 1s 49ms/step - loss: 1.2675 - accuracy: 0.6554 - val_loss: 3.1568 - val_accuracy: 0.4118\n",
            "Epoch 18/100\n",
            "20/20 [==============================] - 1s 51ms/step - loss: 1.1675 - accuracy: 0.6507 - val_loss: 4.5942 - val_accuracy: 0.4191\n",
            "Epoch 19/100\n",
            "20/20 [==============================] - 1s 50ms/step - loss: 1.3940 - accuracy: 0.6306 - val_loss: 2.8359 - val_accuracy: 0.4706\n",
            "Epoch 20/100\n",
            "20/20 [==============================] - 1s 49ms/step - loss: 1.2050 - accuracy: 0.6855 - val_loss: 2.7855 - val_accuracy: 0.5515\n",
            "Epoch 21/100\n",
            "20/20 [==============================] - 1s 51ms/step - loss: 1.1311 - accuracy: 0.6832 - val_loss: 3.0645 - val_accuracy: 0.4853\n",
            "Epoch 22/100\n",
            "20/20 [==============================] - 1s 52ms/step - loss: 1.2334 - accuracy: 0.6764 - val_loss: 3.5505 - val_accuracy: 0.4706\n",
            "Epoch 23/100\n",
            "20/20 [==============================] - 1s 52ms/step - loss: 1.0275 - accuracy: 0.7142 - val_loss: 3.0626 - val_accuracy: 0.4706\n",
            "Epoch 24/100\n",
            "20/20 [==============================] - 1s 50ms/step - loss: 0.9573 - accuracy: 0.7388 - val_loss: 2.9081 - val_accuracy: 0.5221\n",
            "Epoch 25/100\n",
            "20/20 [==============================] - 1s 51ms/step - loss: 0.7289 - accuracy: 0.7712 - val_loss: 2.2599 - val_accuracy: 0.5809\n",
            "Epoch 26/100\n",
            "20/20 [==============================] - 1s 52ms/step - loss: 0.8660 - accuracy: 0.7556 - val_loss: 2.5860 - val_accuracy: 0.5809\n",
            "Epoch 27/100\n",
            "20/20 [==============================] - 1s 52ms/step - loss: 0.7782 - accuracy: 0.7686 - val_loss: 4.9205 - val_accuracy: 0.3676\n",
            "Epoch 28/100\n",
            "20/20 [==============================] - 1s 51ms/step - loss: 0.7287 - accuracy: 0.7853 - val_loss: 2.6654 - val_accuracy: 0.5368\n",
            "Epoch 29/100\n",
            "20/20 [==============================] - 1s 52ms/step - loss: 0.6768 - accuracy: 0.7977 - val_loss: 3.3202 - val_accuracy: 0.5294\n",
            "Epoch 30/100\n",
            "20/20 [==============================] - 1s 52ms/step - loss: 0.7499 - accuracy: 0.7763 - val_loss: 2.9776 - val_accuracy: 0.5368\n",
            "Epoch 31/100\n",
            "20/20 [==============================] - 1s 50ms/step - loss: 1.0794 - accuracy: 0.7134 - val_loss: 4.4612 - val_accuracy: 0.4559\n",
            "Epoch 32/100\n",
            "20/20 [==============================] - 1s 51ms/step - loss: 0.7277 - accuracy: 0.7920 - val_loss: 3.6071 - val_accuracy: 0.4632\n",
            "Epoch 33/100\n",
            "20/20 [==============================] - 1s 55ms/step - loss: 0.6720 - accuracy: 0.8274 - val_loss: 5.9109 - val_accuracy: 0.3309\n",
            "Epoch 34/100\n",
            "20/20 [==============================] - 1s 53ms/step - loss: 0.5504 - accuracy: 0.8461 - val_loss: 4.8567 - val_accuracy: 0.4338\n",
            "Epoch 35/100\n",
            "20/20 [==============================] - 1s 51ms/step - loss: 0.6322 - accuracy: 0.8097 - val_loss: 5.7461 - val_accuracy: 0.4485\n",
            "Epoch 36/100\n",
            "20/20 [==============================] - 1s 51ms/step - loss: 1.0962 - accuracy: 0.7786 - val_loss: 4.8283 - val_accuracy: 0.4338\n",
            "Epoch 37/100\n",
            "20/20 [==============================] - 1s 52ms/step - loss: 0.7069 - accuracy: 0.7959 - val_loss: 3.1211 - val_accuracy: 0.5441\n",
            "Epoch 38/100\n",
            "20/20 [==============================] - 1s 53ms/step - loss: 0.5671 - accuracy: 0.8275 - val_loss: 3.0753 - val_accuracy: 0.5809\n",
            "Epoch 39/100\n",
            "20/20 [==============================] - 1s 52ms/step - loss: 0.7584 - accuracy: 0.8193 - val_loss: 3.6496 - val_accuracy: 0.4412\n",
            "Epoch 40/100\n",
            "20/20 [==============================] - 1s 53ms/step - loss: 0.7445 - accuracy: 0.8087 - val_loss: 4.3113 - val_accuracy: 0.5000\n",
            "Epoch 41/100\n",
            "20/20 [==============================] - 1s 52ms/step - loss: 0.6313 - accuracy: 0.8254 - val_loss: 3.3609 - val_accuracy: 0.5515\n",
            "Epoch 42/100\n",
            "20/20 [==============================] - 1s 52ms/step - loss: 1.3299 - accuracy: 0.7039 - val_loss: 5.8714 - val_accuracy: 0.4118\n",
            "Epoch 43/100\n",
            "20/20 [==============================] - 1s 52ms/step - loss: 1.2052 - accuracy: 0.7081 - val_loss: 6.4298 - val_accuracy: 0.3382\n",
            "Epoch 44/100\n",
            "20/20 [==============================] - 1s 52ms/step - loss: 0.8349 - accuracy: 0.7821 - val_loss: 3.2248 - val_accuracy: 0.5368\n",
            "Epoch 45/100\n",
            "20/20 [==============================] - 1s 52ms/step - loss: 0.6766 - accuracy: 0.8154 - val_loss: 2.9413 - val_accuracy: 0.5735\n",
            "Epoch 46/100\n",
            "20/20 [==============================] - 1s 52ms/step - loss: 0.8999 - accuracy: 0.7800 - val_loss: 5.3587 - val_accuracy: 0.3529\n",
            "Epoch 47/100\n",
            "20/20 [==============================] - 1s 51ms/step - loss: 0.7444 - accuracy: 0.7849 - val_loss: 3.3938 - val_accuracy: 0.5147\n",
            "Epoch 48/100\n",
            "20/20 [==============================] - 1s 51ms/step - loss: 0.5099 - accuracy: 0.8597 - val_loss: 3.2823 - val_accuracy: 0.5882\n",
            "Epoch 49/100\n",
            "20/20 [==============================] - 1s 52ms/step - loss: 0.6309 - accuracy: 0.8320 - val_loss: 3.0612 - val_accuracy: 0.6471\n",
            "Epoch 50/100\n",
            "20/20 [==============================] - 1s 53ms/step - loss: 0.4649 - accuracy: 0.8590 - val_loss: 3.9522 - val_accuracy: 0.5441\n",
            "Epoch 51/100\n",
            "20/20 [==============================] - 1s 51ms/step - loss: 0.5488 - accuracy: 0.8589 - val_loss: 3.7538 - val_accuracy: 0.5662\n",
            "Epoch 52/100\n",
            "20/20 [==============================] - 1s 52ms/step - loss: 0.4251 - accuracy: 0.8835 - val_loss: 2.6496 - val_accuracy: 0.6544\n",
            "Epoch 53/100\n",
            "20/20 [==============================] - 1s 52ms/step - loss: 0.2903 - accuracy: 0.9169 - val_loss: 2.7501 - val_accuracy: 0.6618\n",
            "Epoch 54/100\n",
            "20/20 [==============================] - 1s 53ms/step - loss: 0.4575 - accuracy: 0.8965 - val_loss: 3.5671 - val_accuracy: 0.6324\n",
            "Epoch 55/100\n",
            "20/20 [==============================] - 1s 51ms/step - loss: 0.2682 - accuracy: 0.9198 - val_loss: 2.7003 - val_accuracy: 0.6765\n",
            "Epoch 56/100\n",
            "20/20 [==============================] - 1s 52ms/step - loss: 0.2174 - accuracy: 0.9196 - val_loss: 3.3102 - val_accuracy: 0.6029\n",
            "Epoch 57/100\n",
            "20/20 [==============================] - 1s 51ms/step - loss: 0.4567 - accuracy: 0.8849 - val_loss: 5.5328 - val_accuracy: 0.4632\n",
            "Epoch 58/100\n",
            "20/20 [==============================] - 1s 52ms/step - loss: 1.0789 - accuracy: 0.7738 - val_loss: 3.0945 - val_accuracy: 0.5515\n",
            "Epoch 59/100\n",
            "20/20 [==============================] - 1s 52ms/step - loss: 0.5780 - accuracy: 0.8461 - val_loss: 4.2850 - val_accuracy: 0.4926\n",
            "Epoch 60/100\n",
            "20/20 [==============================] - 1s 53ms/step - loss: 0.4107 - accuracy: 0.8884 - val_loss: 4.2642 - val_accuracy: 0.4853\n",
            "Epoch 61/100\n",
            "20/20 [==============================] - 1s 51ms/step - loss: 0.2438 - accuracy: 0.9170 - val_loss: 2.4405 - val_accuracy: 0.6691\n",
            "Epoch 62/100\n",
            "20/20 [==============================] - 1s 52ms/step - loss: 0.1929 - accuracy: 0.9441 - val_loss: 2.9831 - val_accuracy: 0.6912\n",
            "Epoch 63/100\n",
            "20/20 [==============================] - 1s 52ms/step - loss: 0.1585 - accuracy: 0.9387 - val_loss: 3.8142 - val_accuracy: 0.5956\n",
            "Epoch 64/100\n",
            "20/20 [==============================] - 1s 52ms/step - loss: 0.2168 - accuracy: 0.9435 - val_loss: 3.9020 - val_accuracy: 0.5735\n",
            "Epoch 65/100\n",
            "20/20 [==============================] - 1s 51ms/step - loss: 0.1878 - accuracy: 0.9484 - val_loss: 3.6544 - val_accuracy: 0.6029\n",
            "Epoch 66/100\n",
            "20/20 [==============================] - 1s 52ms/step - loss: 0.5521 - accuracy: 0.9019 - val_loss: 4.1064 - val_accuracy: 0.5294\n",
            "Epoch 67/100\n",
            "20/20 [==============================] - 1s 51ms/step - loss: 0.4251 - accuracy: 0.8947 - val_loss: 3.4000 - val_accuracy: 0.5956\n",
            "Epoch 68/100\n",
            "20/20 [==============================] - 1s 52ms/step - loss: 0.3610 - accuracy: 0.8991 - val_loss: 3.0546 - val_accuracy: 0.6324\n",
            "Epoch 69/100\n",
            "20/20 [==============================] - 1s 52ms/step - loss: 0.2694 - accuracy: 0.9378 - val_loss: 3.6128 - val_accuracy: 0.6544\n",
            "Epoch 70/100\n",
            "20/20 [==============================] - 1s 51ms/step - loss: 0.1124 - accuracy: 0.9633 - val_loss: 2.7719 - val_accuracy: 0.7132\n",
            "Epoch 71/100\n",
            "20/20 [==============================] - 1s 51ms/step - loss: 0.1700 - accuracy: 0.9529 - val_loss: 3.3141 - val_accuracy: 0.6912\n",
            "Epoch 72/100\n",
            "20/20 [==============================] - 1s 53ms/step - loss: 0.1228 - accuracy: 0.9611 - val_loss: 3.3079 - val_accuracy: 0.6838\n",
            "Epoch 73/100\n",
            "20/20 [==============================] - 1s 51ms/step - loss: 0.1909 - accuracy: 0.9535 - val_loss: 4.6782 - val_accuracy: 0.5662\n",
            "Epoch 74/100\n",
            "20/20 [==============================] - 1s 53ms/step - loss: 0.3665 - accuracy: 0.9193 - val_loss: 6.2701 - val_accuracy: 0.4779\n",
            "Epoch 75/100\n",
            "20/20 [==============================] - 1s 55ms/step - loss: 0.1703 - accuracy: 0.9522 - val_loss: 4.0180 - val_accuracy: 0.5809\n",
            "Epoch 76/100\n",
            "20/20 [==============================] - 1s 52ms/step - loss: 0.1623 - accuracy: 0.9538 - val_loss: 4.4584 - val_accuracy: 0.5956\n",
            "Epoch 77/100\n",
            "20/20 [==============================] - 1s 51ms/step - loss: 0.1211 - accuracy: 0.9786 - val_loss: 3.2625 - val_accuracy: 0.6618\n",
            "Epoch 78/100\n",
            "20/20 [==============================] - 1s 51ms/step - loss: 0.0457 - accuracy: 0.9852 - val_loss: 2.9800 - val_accuracy: 0.6691\n",
            "Epoch 79/100\n",
            "20/20 [==============================] - 1s 52ms/step - loss: 0.2802 - accuracy: 0.9531 - val_loss: 3.1548 - val_accuracy: 0.6838\n",
            "Epoch 80/100\n",
            "20/20 [==============================] - 1s 52ms/step - loss: 0.1678 - accuracy: 0.9532 - val_loss: 3.5188 - val_accuracy: 0.6544\n",
            "Epoch 81/100\n",
            "20/20 [==============================] - 1s 52ms/step - loss: 0.3620 - accuracy: 0.9322 - val_loss: 6.0728 - val_accuracy: 0.4338\n",
            "Epoch 82/100\n",
            "20/20 [==============================] - 1s 52ms/step - loss: 0.6820 - accuracy: 0.8755 - val_loss: 3.5640 - val_accuracy: 0.5809\n",
            "Epoch 83/100\n",
            "20/20 [==============================] - 1s 51ms/step - loss: 0.4729 - accuracy: 0.8956 - val_loss: 3.7106 - val_accuracy: 0.5882\n",
            "Epoch 84/100\n",
            "20/20 [==============================] - 1s 52ms/step - loss: 0.3984 - accuracy: 0.9084 - val_loss: 3.6485 - val_accuracy: 0.6324\n",
            "Epoch 85/100\n",
            "20/20 [==============================] - 1s 51ms/step - loss: 0.1942 - accuracy: 0.9470 - val_loss: 4.6554 - val_accuracy: 0.5441\n",
            "Epoch 86/100\n",
            "20/20 [==============================] - 1s 52ms/step - loss: 0.0973 - accuracy: 0.9677 - val_loss: 3.3203 - val_accuracy: 0.6691\n",
            "Epoch 87/100\n",
            "20/20 [==============================] - 1s 52ms/step - loss: 0.0920 - accuracy: 0.9700 - val_loss: 2.9472 - val_accuracy: 0.6765\n",
            "Epoch 88/100\n",
            "20/20 [==============================] - 1s 51ms/step - loss: 0.1521 - accuracy: 0.9595 - val_loss: 2.9696 - val_accuracy: 0.6985\n",
            "Epoch 89/100\n",
            "20/20 [==============================] - 1s 53ms/step - loss: 0.2279 - accuracy: 0.9486 - val_loss: 3.7965 - val_accuracy: 0.6324\n",
            "Epoch 90/100\n",
            "20/20 [==============================] - 1s 52ms/step - loss: 0.2021 - accuracy: 0.9517 - val_loss: 3.2243 - val_accuracy: 0.6691\n",
            "Epoch 91/100\n",
            "20/20 [==============================] - 1s 52ms/step - loss: 0.1544 - accuracy: 0.9627 - val_loss: 3.6171 - val_accuracy: 0.6985\n",
            "Epoch 92/100\n",
            "20/20 [==============================] - 1s 52ms/step - loss: 0.2457 - accuracy: 0.9491 - val_loss: 4.3328 - val_accuracy: 0.6103\n",
            "Epoch 93/100\n",
            "20/20 [==============================] - 1s 51ms/step - loss: 0.1223 - accuracy: 0.9587 - val_loss: 3.0888 - val_accuracy: 0.7132\n",
            "Epoch 94/100\n",
            "20/20 [==============================] - 1s 52ms/step - loss: 0.1074 - accuracy: 0.9683 - val_loss: 3.4378 - val_accuracy: 0.6765\n",
            "Epoch 95/100\n",
            "20/20 [==============================] - 1s 52ms/step - loss: 0.4015 - accuracy: 0.9229 - val_loss: 4.6498 - val_accuracy: 0.5882\n",
            "Epoch 96/100\n",
            "20/20 [==============================] - 1s 53ms/step - loss: 0.5772 - accuracy: 0.8908 - val_loss: 4.6537 - val_accuracy: 0.5735\n",
            "Epoch 97/100\n",
            "20/20 [==============================] - 1s 50ms/step - loss: 0.4412 - accuracy: 0.8848 - val_loss: 6.5095 - val_accuracy: 0.4632\n",
            "Epoch 98/100\n",
            "20/20 [==============================] - 1s 52ms/step - loss: 0.1980 - accuracy: 0.9405 - val_loss: 3.0124 - val_accuracy: 0.6618\n",
            "Epoch 99/100\n",
            "20/20 [==============================] - 1s 52ms/step - loss: 0.2180 - accuracy: 0.9522 - val_loss: 3.4620 - val_accuracy: 0.6250\n",
            "Epoch 100/100\n",
            "20/20 [==============================] - 1s 51ms/step - loss: 0.2533 - accuracy: 0.9323 - val_loss: 5.3905 - val_accuracy: 0.5294\n"
          ],
          "name": "stdout"
        },
        {
          "output_type": "execute_result",
          "data": {
            "text/plain": [
              "<tensorflow.python.keras.callbacks.History at 0x7f0626ae38d0>"
            ]
          },
          "metadata": {
            "tags": []
          },
          "execution_count": 8
        }
      ]
    }
  ]
}