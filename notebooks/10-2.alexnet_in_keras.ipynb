{
  "nbformat": 4,
  "nbformat_minor": 0,
  "metadata": {
    "kernelspec": {
      "display_name": "TensorFlow 2.3 on Python 3.6 (CUDA 10.1)",
      "language": "python",
      "name": "python3"
    },
    "language_info": {
      "codemirror_mode": {
        "name": "ipython",
        "version": 3
      },
      "file_extension": ".py",
      "mimetype": "text/x-python",
      "name": "python",
      "nbconvert_exporter": "python",
      "pygments_lexer": "ipython3",
      "version": "3.6.9"
    },
    "colab": {
      "name": "10-2.alexnet_in_keras.ipynb",
      "provenance": []
    },
    "accelerator": "GPU"
  },
  "cells": [
    {
      "cell_type": "markdown",
      "metadata": {
        "id": "b8YXil1YQCCP"
      },
      "source": [
        "# 케라스로 AlexNet 만들기"
      ]
    },
    {
      "cell_type": "markdown",
      "metadata": {
        "id": "1oBWkfZBQCCT"
      },
      "source": [
        "이 노트북에서 [AlexNet](https://papers.nips.cc/paper/4824-imagenet-classification-with-deep-convolutional-neural-networks)과 비슷한 심층 합성곱 신경망으로 [Oxford Flowers](http://www.robots.ox.ac.uk/~vgg/data/flowers/17/) 데이터셋의 꽃을 17개의 카테고리로 분류하겠습니다."
      ]
    },
    {
      "cell_type": "markdown",
      "metadata": {
        "id": "dIeVe_hPQCCT"
      },
      "source": [
        "[![Open In Colab](https://colab.research.google.com/assets/colab-badge.svg)](https://colab.research.google.com/github/rickiepark/dl-illustrated/blob/master/notebooks/10-2.alexnet_in_keras.ipynb)"
      ]
    },
    {
      "cell_type": "markdown",
      "metadata": {
        "id": "XyGDF8-kQCCU"
      },
      "source": [
        "#### 라이브러리를 적재합니다."
      ]
    },
    {
      "cell_type": "code",
      "metadata": {
        "id": "zNMKKpyhQCCU"
      },
      "source": [
        "from tensorflow import keras\n",
        "from tensorflow.keras.models import Sequential\n",
        "from tensorflow.keras.layers import Dense, Dropout, Flatten, Conv2D, MaxPooling2D\n",
        "from tensorflow.keras.layers import BatchNormalization"
      ],
      "execution_count": 1,
      "outputs": []
    },
    {
      "cell_type": "markdown",
      "metadata": {
        "id": "GLXZFYT7QCCU"
      },
      "source": [
        "#### 데이터를 적재하고 전처리합니다."
      ]
    },
    {
      "cell_type": "markdown",
      "metadata": {
        "id": "JAGhSpKvQCCU"
      },
      "source": [
        "원서 노트북은 tflearn을 사용해 oxflower17 데이터셋을 다운로드합니다. 이 라이브러리는 텐서플로 2와 호환되지 않습니다. 여기에서는 사전에 tflearn으로 다운받은 데이터를 다운로드하여 사용합니다.\n",
        "\n",
        "이 데이터셋에 대한 자세한 내용은 http://www.robots.ox.ac.uk/~vgg/data/flowers/17/ 을 참고하세요."
      ]
    },
    {
      "cell_type": "code",
      "metadata": {
        "id": "TMi_JHiaQCCV",
        "colab": {
          "base_uri": "https://localhost:8080/"
        },
        "outputId": "c254bde3-4027-4ee9-e3a8-b2ada97de876"
      },
      "source": [
        "!rm oxflower17*\n",
        "!wget https://bit.ly/36QytdH -O oxflower17.npz"
      ],
      "execution_count": 2,
      "outputs": [
        {
          "output_type": "stream",
          "text": [
            "rm: cannot remove 'oxflower17*': No such file or directory\n",
            "--2021-05-31 22:05:06--  https://bit.ly/36QytdH\n",
            "Resolving bit.ly (bit.ly)... 67.199.248.11, 67.199.248.10\n",
            "Connecting to bit.ly (bit.ly)|67.199.248.11|:443... connected.\n",
            "HTTP request sent, awaiting response... 301 Moved Permanently\n",
            "Location: https://onedrive.live.com/download?cid=822579D69D2DC3B5&resid=822579D69D2DC3B5!597859&authkey=AGd0CpvKFkK8GtE [following]\n",
            "--2021-05-31 22:05:06--  https://onedrive.live.com/download?cid=822579D69D2DC3B5&resid=822579D69D2DC3B5!597859&authkey=AGd0CpvKFkK8GtE\n",
            "Resolving onedrive.live.com (onedrive.live.com)... 13.107.42.13\n",
            "Connecting to onedrive.live.com (onedrive.live.com)|13.107.42.13|:443... connected.\n",
            "HTTP request sent, awaiting response... 302 Found\n",
            "Location: https://57ucia.bl.files.1drv.com/y4mWJdXHcD-Ru6--IdNBzGNPRHarQx9sFLKfbfuc9_QTI5umlDKgBejOkbnj3FtWM052ZkRU6T6UUiM_vsSaxBokwh5iYGNmQ13ivZpjcABxKveLgGGxd4X3WAPWOdEqJnN8HhZMQFdyqH6aYXy91-0GQDaV_cMS1udrBnp5ev39rv-yD1YNcBDEP8tKhhSyI5d6oZiEbwC_0TaRjtvjsgbTg/oxflower17.npz?download&psid=1 [following]\n",
            "--2021-05-31 22:05:08--  https://57ucia.bl.files.1drv.com/y4mWJdXHcD-Ru6--IdNBzGNPRHarQx9sFLKfbfuc9_QTI5umlDKgBejOkbnj3FtWM052ZkRU6T6UUiM_vsSaxBokwh5iYGNmQ13ivZpjcABxKveLgGGxd4X3WAPWOdEqJnN8HhZMQFdyqH6aYXy91-0GQDaV_cMS1udrBnp5ev39rv-yD1YNcBDEP8tKhhSyI5d6oZiEbwC_0TaRjtvjsgbTg/oxflower17.npz?download&psid=1\n",
            "Resolving 57ucia.bl.files.1drv.com (57ucia.bl.files.1drv.com)... 13.107.42.12\n",
            "Connecting to 57ucia.bl.files.1drv.com (57ucia.bl.files.1drv.com)|13.107.42.12|:443... connected.\n",
            "HTTP request sent, awaiting response... 200 OK\n",
            "Length: 252415092 (241M) [application/zip]\n",
            "Saving to: ‘oxflower17.npz’\n",
            "\n",
            "oxflower17.npz      100%[===================>] 240.72M  31.0MB/s    in 8.6s    \n",
            "\n",
            "2021-05-31 22:05:18 (28.1 MB/s) - ‘oxflower17.npz’ saved [252415092/252415092]\n",
            "\n"
          ],
          "name": "stdout"
        }
      ]
    },
    {
      "cell_type": "code",
      "metadata": {
        "id": "iJmvncZCQCCV"
      },
      "source": [
        "import numpy as np\n",
        "\n",
        "data = np.load('oxflower17.npz')\n",
        "X = data['X']\n",
        "Y = data['Y']"
      ],
      "execution_count": 3,
      "outputs": []
    },
    {
      "cell_type": "code",
      "metadata": {
        "id": "d_Xy4VLPQCCW",
        "colab": {
          "base_uri": "https://localhost:8080/"
        },
        "outputId": "1bba2e84-69a8-4872-b296-5b2871404a45"
      },
      "source": [
        "X.shape, Y.shape"
      ],
      "execution_count": 4,
      "outputs": [
        {
          "output_type": "execute_result",
          "data": {
            "text/plain": [
              "((1360, 224, 224, 3), (1360, 17))"
            ]
          },
          "metadata": {
            "tags": []
          },
          "execution_count": 4
        }
      ]
    },
    {
      "cell_type": "markdown",
      "metadata": {
        "id": "BYAvW3sNQCCW"
      },
      "source": [
        "#### 신경망 모델을 만듭니다."
      ]
    },
    {
      "cell_type": "code",
      "metadata": {
        "id": "8IXx-jQLQCCW"
      },
      "source": [
        "model = Sequential()\n",
        "\n",
        "model.add(Conv2D(96, kernel_size=(11, 11), strides=(4, 4), activation='relu', input_shape=(224, 224, 3)))\n",
        "model.add(MaxPooling2D(pool_size=(3, 3), strides=(2, 2)))\n",
        "model.add(BatchNormalization())\n",
        "\n",
        "model.add(Conv2D(256, kernel_size=(5, 5), activation='relu'))\n",
        "model.add(MaxPooling2D(pool_size=(3, 3), strides=(2, 2)))\n",
        "model.add(BatchNormalization())\n",
        "\n",
        "model.add(Conv2D(256, kernel_size=(3, 3), activation='relu'))\n",
        "model.add(Conv2D(384, kernel_size=(3, 3), activation='relu'))\n",
        "model.add(Conv2D(384, kernel_size=(3, 3), activation='relu'))\n",
        "model.add(MaxPooling2D(pool_size=(3, 3), strides=(2, 2)))\n",
        "model.add(BatchNormalization())\n",
        "\n",
        "model.add(Flatten())\n",
        "model.add(Dense(4096, activation='tanh'))\n",
        "model.add(Dropout(0.5))\n",
        "model.add(Dense(4096, activation='tanh'))\n",
        "model.add(Dropout(0.5))\n",
        "\n",
        "model.add(Dense(17, activation='softmax'))"
      ],
      "execution_count": 5,
      "outputs": []
    },
    {
      "cell_type": "code",
      "metadata": {
        "id": "PDoU5NTkQCCW",
        "colab": {
          "base_uri": "https://localhost:8080/"
        },
        "outputId": "def30ead-9d0c-4283-81f9-c8cba79d2a08"
      },
      "source": [
        "model.summary()"
      ],
      "execution_count": 6,
      "outputs": [
        {
          "output_type": "stream",
          "text": [
            "Model: \"sequential\"\n",
            "_________________________________________________________________\n",
            "Layer (type)                 Output Shape              Param #   \n",
            "=================================================================\n",
            "conv2d (Conv2D)              (None, 54, 54, 96)        34944     \n",
            "_________________________________________________________________\n",
            "max_pooling2d (MaxPooling2D) (None, 26, 26, 96)        0         \n",
            "_________________________________________________________________\n",
            "batch_normalization (BatchNo (None, 26, 26, 96)        384       \n",
            "_________________________________________________________________\n",
            "conv2d_1 (Conv2D)            (None, 22, 22, 256)       614656    \n",
            "_________________________________________________________________\n",
            "max_pooling2d_1 (MaxPooling2 (None, 10, 10, 256)       0         \n",
            "_________________________________________________________________\n",
            "batch_normalization_1 (Batch (None, 10, 10, 256)       1024      \n",
            "_________________________________________________________________\n",
            "conv2d_2 (Conv2D)            (None, 8, 8, 256)         590080    \n",
            "_________________________________________________________________\n",
            "conv2d_3 (Conv2D)            (None, 6, 6, 384)         885120    \n",
            "_________________________________________________________________\n",
            "conv2d_4 (Conv2D)            (None, 4, 4, 384)         1327488   \n",
            "_________________________________________________________________\n",
            "max_pooling2d_2 (MaxPooling2 (None, 1, 1, 384)         0         \n",
            "_________________________________________________________________\n",
            "batch_normalization_2 (Batch (None, 1, 1, 384)         1536      \n",
            "_________________________________________________________________\n",
            "flatten (Flatten)            (None, 384)               0         \n",
            "_________________________________________________________________\n",
            "dense (Dense)                (None, 4096)              1576960   \n",
            "_________________________________________________________________\n",
            "dropout (Dropout)            (None, 4096)              0         \n",
            "_________________________________________________________________\n",
            "dense_1 (Dense)              (None, 4096)              16781312  \n",
            "_________________________________________________________________\n",
            "dropout_1 (Dropout)          (None, 4096)              0         \n",
            "_________________________________________________________________\n",
            "dense_2 (Dense)              (None, 17)                69649     \n",
            "=================================================================\n",
            "Total params: 21,883,153\n",
            "Trainable params: 21,881,681\n",
            "Non-trainable params: 1,472\n",
            "_________________________________________________________________\n"
          ],
          "name": "stdout"
        }
      ]
    },
    {
      "cell_type": "markdown",
      "metadata": {
        "id": "EYiTN_TPQCCX"
      },
      "source": [
        "#### 모델을 설정합니다."
      ]
    },
    {
      "cell_type": "code",
      "metadata": {
        "id": "CgrBXoewQCCX"
      },
      "source": [
        "model.compile(loss='categorical_crossentropy', optimizer='adam', metrics=['accuracy'])"
      ],
      "execution_count": 7,
      "outputs": []
    },
    {
      "cell_type": "markdown",
      "metadata": {
        "id": "tBHoQvoHQCCX"
      },
      "source": [
        "#### 훈련!"
      ]
    },
    {
      "cell_type": "code",
      "metadata": {
        "id": "Ak5Yfoi1QCCX",
        "colab": {
          "base_uri": "https://localhost:8080/"
        },
        "outputId": "97b1a5b9-3747-48e5-f8c6-5fdcc9c4369b"
      },
      "source": [
        "model.fit(X, Y, batch_size=64, epochs=100, verbose=1, validation_split=0.1, shuffle=True)"
      ],
      "execution_count": 8,
      "outputs": [
        {
          "output_type": "stream",
          "text": [
            "Epoch 1/100\n",
            "20/20 [==============================] - 34s 82ms/step - loss: 4.3711 - accuracy: 0.2377 - val_loss: 5.3950 - val_accuracy: 0.0662\n",
            "Epoch 2/100\n",
            "20/20 [==============================] - 1s 53ms/step - loss: 2.9533 - accuracy: 0.2917 - val_loss: 3.9308 - val_accuracy: 0.1765\n",
            "Epoch 3/100\n",
            "20/20 [==============================] - 1s 55ms/step - loss: 2.6045 - accuracy: 0.3342 - val_loss: 4.4104 - val_accuracy: 0.2059\n",
            "Epoch 4/100\n",
            "20/20 [==============================] - 1s 54ms/step - loss: 2.3314 - accuracy: 0.3995 - val_loss: 4.8603 - val_accuracy: 0.1471\n",
            "Epoch 5/100\n",
            "20/20 [==============================] - 1s 53ms/step - loss: 2.5124 - accuracy: 0.3938 - val_loss: 4.3758 - val_accuracy: 0.2206\n",
            "Epoch 6/100\n",
            "20/20 [==============================] - 1s 54ms/step - loss: 2.3126 - accuracy: 0.3922 - val_loss: 3.5246 - val_accuracy: 0.2426\n",
            "Epoch 7/100\n",
            "20/20 [==============================] - 1s 54ms/step - loss: 1.9993 - accuracy: 0.4526 - val_loss: 2.6355 - val_accuracy: 0.3309\n",
            "Epoch 8/100\n",
            "20/20 [==============================] - 1s 53ms/step - loss: 2.0209 - accuracy: 0.4649 - val_loss: 3.8738 - val_accuracy: 0.2868\n",
            "Epoch 9/100\n",
            "20/20 [==============================] - 1s 52ms/step - loss: 1.9590 - accuracy: 0.4877 - val_loss: 7.3982 - val_accuracy: 0.1691\n",
            "Epoch 10/100\n",
            "20/20 [==============================] - 1s 52ms/step - loss: 2.2318 - accuracy: 0.4493 - val_loss: 3.2559 - val_accuracy: 0.2794\n",
            "Epoch 11/100\n",
            "20/20 [==============================] - 1s 52ms/step - loss: 1.9592 - accuracy: 0.4551 - val_loss: 3.7001 - val_accuracy: 0.2721\n",
            "Epoch 12/100\n",
            "20/20 [==============================] - 1s 53ms/step - loss: 1.9582 - accuracy: 0.4828 - val_loss: 4.8897 - val_accuracy: 0.2868\n",
            "Epoch 13/100\n",
            "20/20 [==============================] - 1s 52ms/step - loss: 1.6545 - accuracy: 0.5580 - val_loss: 5.4033 - val_accuracy: 0.2500\n",
            "Epoch 14/100\n",
            "20/20 [==============================] - 1s 52ms/step - loss: 1.5180 - accuracy: 0.5735 - val_loss: 4.9132 - val_accuracy: 0.2353\n",
            "Epoch 15/100\n",
            "20/20 [==============================] - 1s 52ms/step - loss: 1.6108 - accuracy: 0.5613 - val_loss: 3.2684 - val_accuracy: 0.4191\n",
            "Epoch 16/100\n",
            "20/20 [==============================] - 1s 53ms/step - loss: 1.4792 - accuracy: 0.6046 - val_loss: 2.4981 - val_accuracy: 0.4926\n",
            "Epoch 17/100\n",
            "20/20 [==============================] - 1s 53ms/step - loss: 1.3444 - accuracy: 0.6168 - val_loss: 2.7591 - val_accuracy: 0.4412\n",
            "Epoch 18/100\n",
            "20/20 [==============================] - 1s 52ms/step - loss: 1.3241 - accuracy: 0.6021 - val_loss: 3.4953 - val_accuracy: 0.4118\n",
            "Epoch 19/100\n",
            "20/20 [==============================] - 1s 55ms/step - loss: 1.5934 - accuracy: 0.6029 - val_loss: 2.7542 - val_accuracy: 0.5221\n",
            "Epoch 20/100\n",
            "20/20 [==============================] - 1s 54ms/step - loss: 1.5918 - accuracy: 0.5735 - val_loss: 3.8936 - val_accuracy: 0.3382\n",
            "Epoch 21/100\n",
            "20/20 [==============================] - 1s 53ms/step - loss: 1.5752 - accuracy: 0.5670 - val_loss: 3.1359 - val_accuracy: 0.4485\n",
            "Epoch 22/100\n",
            "20/20 [==============================] - 1s 53ms/step - loss: 1.6156 - accuracy: 0.5605 - val_loss: 3.2022 - val_accuracy: 0.4265\n",
            "Epoch 23/100\n",
            "20/20 [==============================] - 1s 53ms/step - loss: 1.2978 - accuracy: 0.6405 - val_loss: 2.9842 - val_accuracy: 0.4853\n",
            "Epoch 24/100\n",
            "20/20 [==============================] - 1s 55ms/step - loss: 1.3011 - accuracy: 0.6381 - val_loss: 4.6530 - val_accuracy: 0.3750\n",
            "Epoch 25/100\n",
            "20/20 [==============================] - 1s 54ms/step - loss: 1.2939 - accuracy: 0.6593 - val_loss: 4.0036 - val_accuracy: 0.3162\n",
            "Epoch 26/100\n",
            "20/20 [==============================] - 1s 53ms/step - loss: 1.5344 - accuracy: 0.5997 - val_loss: 3.7484 - val_accuracy: 0.3750\n",
            "Epoch 27/100\n",
            "20/20 [==============================] - 1s 52ms/step - loss: 1.2771 - accuracy: 0.6552 - val_loss: 3.1005 - val_accuracy: 0.4265\n",
            "Epoch 28/100\n",
            "20/20 [==============================] - 1s 54ms/step - loss: 1.1631 - accuracy: 0.6724 - val_loss: 3.0833 - val_accuracy: 0.4706\n",
            "Epoch 29/100\n",
            "20/20 [==============================] - 1s 54ms/step - loss: 1.2908 - accuracy: 0.6667 - val_loss: 3.1788 - val_accuracy: 0.5368\n",
            "Epoch 30/100\n",
            "20/20 [==============================] - 1s 54ms/step - loss: 1.7193 - accuracy: 0.5776 - val_loss: 4.0232 - val_accuracy: 0.3456\n",
            "Epoch 31/100\n",
            "20/20 [==============================] - 1s 53ms/step - loss: 1.6647 - accuracy: 0.5727 - val_loss: 4.0488 - val_accuracy: 0.3382\n",
            "Epoch 32/100\n",
            "20/20 [==============================] - 1s 54ms/step - loss: 1.3361 - accuracy: 0.6422 - val_loss: 3.1627 - val_accuracy: 0.4559\n",
            "Epoch 33/100\n",
            "20/20 [==============================] - 1s 51ms/step - loss: 1.0795 - accuracy: 0.7124 - val_loss: 2.8673 - val_accuracy: 0.4706\n",
            "Epoch 34/100\n",
            "20/20 [==============================] - 1s 54ms/step - loss: 0.9018 - accuracy: 0.7124 - val_loss: 3.2247 - val_accuracy: 0.4485\n",
            "Epoch 35/100\n",
            "20/20 [==============================] - 1s 53ms/step - loss: 0.8511 - accuracy: 0.7541 - val_loss: 2.6507 - val_accuracy: 0.5368\n",
            "Epoch 36/100\n",
            "20/20 [==============================] - 1s 54ms/step - loss: 0.9581 - accuracy: 0.7353 - val_loss: 3.0650 - val_accuracy: 0.5368\n",
            "Epoch 37/100\n",
            "20/20 [==============================] - 1s 54ms/step - loss: 0.8927 - accuracy: 0.7492 - val_loss: 2.7155 - val_accuracy: 0.5294\n",
            "Epoch 38/100\n",
            "20/20 [==============================] - 1s 54ms/step - loss: 0.9551 - accuracy: 0.7345 - val_loss: 2.6114 - val_accuracy: 0.4853\n",
            "Epoch 39/100\n",
            "20/20 [==============================] - 1s 53ms/step - loss: 0.7939 - accuracy: 0.7851 - val_loss: 3.2923 - val_accuracy: 0.5074\n",
            "Epoch 40/100\n",
            "20/20 [==============================] - 1s 53ms/step - loss: 0.6547 - accuracy: 0.8129 - val_loss: 2.6491 - val_accuracy: 0.5662\n",
            "Epoch 41/100\n",
            "20/20 [==============================] - 1s 54ms/step - loss: 0.6805 - accuracy: 0.8047 - val_loss: 2.8289 - val_accuracy: 0.5147\n",
            "Epoch 42/100\n",
            "20/20 [==============================] - 1s 53ms/step - loss: 0.5390 - accuracy: 0.8301 - val_loss: 2.7032 - val_accuracy: 0.5882\n",
            "Epoch 43/100\n",
            "20/20 [==============================] - 1s 53ms/step - loss: 0.7234 - accuracy: 0.8170 - val_loss: 5.3262 - val_accuracy: 0.4338\n",
            "Epoch 44/100\n",
            "20/20 [==============================] - 1s 53ms/step - loss: 0.7683 - accuracy: 0.7941 - val_loss: 2.9333 - val_accuracy: 0.5956\n",
            "Epoch 45/100\n",
            "20/20 [==============================] - 1s 52ms/step - loss: 0.7238 - accuracy: 0.8047 - val_loss: 2.5269 - val_accuracy: 0.6176\n",
            "Epoch 46/100\n",
            "20/20 [==============================] - 1s 54ms/step - loss: 0.5976 - accuracy: 0.8382 - val_loss: 2.6730 - val_accuracy: 0.5956\n",
            "Epoch 47/100\n",
            "20/20 [==============================] - 1s 54ms/step - loss: 0.4815 - accuracy: 0.8636 - val_loss: 2.0928 - val_accuracy: 0.6544\n",
            "Epoch 48/100\n",
            "20/20 [==============================] - 1s 54ms/step - loss: 0.6278 - accuracy: 0.8268 - val_loss: 2.7453 - val_accuracy: 0.5956\n",
            "Epoch 49/100\n",
            "20/20 [==============================] - 1s 53ms/step - loss: 0.4037 - accuracy: 0.8864 - val_loss: 2.2723 - val_accuracy: 0.6176\n",
            "Epoch 50/100\n",
            "20/20 [==============================] - 1s 54ms/step - loss: 0.3977 - accuracy: 0.8807 - val_loss: 2.4836 - val_accuracy: 0.5956\n",
            "Epoch 51/100\n",
            "20/20 [==============================] - 1s 55ms/step - loss: 0.6038 - accuracy: 0.8448 - val_loss: 2.4843 - val_accuracy: 0.5809\n",
            "Epoch 52/100\n",
            "20/20 [==============================] - 1s 55ms/step - loss: 0.7780 - accuracy: 0.7974 - val_loss: 2.2781 - val_accuracy: 0.6029\n",
            "Epoch 53/100\n",
            "20/20 [==============================] - 1s 53ms/step - loss: 0.5212 - accuracy: 0.8505 - val_loss: 2.7855 - val_accuracy: 0.5956\n",
            "Epoch 54/100\n",
            "20/20 [==============================] - 1s 55ms/step - loss: 0.3604 - accuracy: 0.8913 - val_loss: 2.3630 - val_accuracy: 0.6176\n",
            "Epoch 55/100\n",
            "20/20 [==============================] - 1s 55ms/step - loss: 0.5319 - accuracy: 0.8570 - val_loss: 5.6454 - val_accuracy: 0.3676\n",
            "Epoch 56/100\n",
            "20/20 [==============================] - 1s 55ms/step - loss: 0.4103 - accuracy: 0.8775 - val_loss: 2.7987 - val_accuracy: 0.6176\n",
            "Epoch 57/100\n",
            "20/20 [==============================] - 1s 54ms/step - loss: 0.3732 - accuracy: 0.8922 - val_loss: 2.8750 - val_accuracy: 0.5956\n",
            "Epoch 58/100\n",
            "20/20 [==============================] - 1s 54ms/step - loss: 0.2275 - accuracy: 0.9257 - val_loss: 2.7534 - val_accuracy: 0.6250\n",
            "Epoch 59/100\n",
            "20/20 [==============================] - 1s 55ms/step - loss: 0.5328 - accuracy: 0.8627 - val_loss: 3.6564 - val_accuracy: 0.5515\n",
            "Epoch 60/100\n",
            "20/20 [==============================] - 1s 55ms/step - loss: 0.3098 - accuracy: 0.8987 - val_loss: 2.9069 - val_accuracy: 0.6471\n",
            "Epoch 61/100\n",
            "20/20 [==============================] - 1s 55ms/step - loss: 0.2613 - accuracy: 0.9199 - val_loss: 2.9263 - val_accuracy: 0.6397\n",
            "Epoch 62/100\n",
            "20/20 [==============================] - 1s 56ms/step - loss: 0.1809 - accuracy: 0.9453 - val_loss: 2.4327 - val_accuracy: 0.6397\n",
            "Epoch 63/100\n",
            "20/20 [==============================] - 1s 53ms/step - loss: 0.2287 - accuracy: 0.9338 - val_loss: 2.5079 - val_accuracy: 0.6618\n",
            "Epoch 64/100\n",
            "20/20 [==============================] - 1s 55ms/step - loss: 0.1810 - accuracy: 0.9461 - val_loss: 3.0518 - val_accuracy: 0.6029\n",
            "Epoch 65/100\n",
            "20/20 [==============================] - 1s 55ms/step - loss: 0.2041 - accuracy: 0.9322 - val_loss: 2.8757 - val_accuracy: 0.5956\n",
            "Epoch 66/100\n",
            "20/20 [==============================] - 1s 56ms/step - loss: 0.2558 - accuracy: 0.9297 - val_loss: 2.8413 - val_accuracy: 0.6471\n",
            "Epoch 67/100\n",
            "20/20 [==============================] - 1s 55ms/step - loss: 0.6134 - accuracy: 0.8660 - val_loss: 3.1122 - val_accuracy: 0.6103\n",
            "Epoch 68/100\n",
            "20/20 [==============================] - 1s 54ms/step - loss: 0.3188 - accuracy: 0.9028 - val_loss: 2.8818 - val_accuracy: 0.6176\n",
            "Epoch 69/100\n",
            "20/20 [==============================] - 1s 55ms/step - loss: 0.3986 - accuracy: 0.8979 - val_loss: 2.7225 - val_accuracy: 0.6324\n",
            "Epoch 70/100\n",
            "20/20 [==============================] - 1s 53ms/step - loss: 0.4757 - accuracy: 0.8799 - val_loss: 3.4835 - val_accuracy: 0.5809\n",
            "Epoch 71/100\n",
            "20/20 [==============================] - 1s 56ms/step - loss: 0.4936 - accuracy: 0.8775 - val_loss: 3.9506 - val_accuracy: 0.5441\n",
            "Epoch 72/100\n",
            "20/20 [==============================] - 1s 55ms/step - loss: 0.3373 - accuracy: 0.9134 - val_loss: 3.2131 - val_accuracy: 0.5882\n",
            "Epoch 73/100\n",
            "20/20 [==============================] - 1s 55ms/step - loss: 0.8360 - accuracy: 0.8105 - val_loss: 4.6970 - val_accuracy: 0.4926\n",
            "Epoch 74/100\n",
            "20/20 [==============================] - 1s 54ms/step - loss: 0.7109 - accuracy: 0.8309 - val_loss: 3.5568 - val_accuracy: 0.5662\n",
            "Epoch 75/100\n",
            "20/20 [==============================] - 1s 53ms/step - loss: 0.3388 - accuracy: 0.9036 - val_loss: 4.0864 - val_accuracy: 0.5515\n",
            "Epoch 76/100\n",
            "20/20 [==============================] - 1s 54ms/step - loss: 0.2607 - accuracy: 0.9232 - val_loss: 2.8727 - val_accuracy: 0.6765\n",
            "Epoch 77/100\n",
            "20/20 [==============================] - 1s 55ms/step - loss: 0.3609 - accuracy: 0.9077 - val_loss: 2.8027 - val_accuracy: 0.6103\n",
            "Epoch 78/100\n",
            "20/20 [==============================] - 1s 56ms/step - loss: 0.1698 - accuracy: 0.9461 - val_loss: 2.6303 - val_accuracy: 0.6912\n",
            "Epoch 79/100\n",
            "20/20 [==============================] - 1s 56ms/step - loss: 0.1347 - accuracy: 0.9559 - val_loss: 3.0225 - val_accuracy: 0.6176\n",
            "Epoch 80/100\n",
            "20/20 [==============================] - 1s 55ms/step - loss: 0.1215 - accuracy: 0.9624 - val_loss: 2.7843 - val_accuracy: 0.6765\n",
            "Epoch 81/100\n",
            "20/20 [==============================] - 1s 56ms/step - loss: 0.4088 - accuracy: 0.9208 - val_loss: 3.5540 - val_accuracy: 0.6618\n",
            "Epoch 82/100\n",
            "20/20 [==============================] - 1s 56ms/step - loss: 0.4489 - accuracy: 0.9020 - val_loss: 2.9048 - val_accuracy: 0.6029\n",
            "Epoch 83/100\n",
            "20/20 [==============================] - 1s 54ms/step - loss: 0.1666 - accuracy: 0.9485 - val_loss: 2.7290 - val_accuracy: 0.6544\n",
            "Epoch 84/100\n",
            "20/20 [==============================] - 1s 55ms/step - loss: 0.2464 - accuracy: 0.9322 - val_loss: 3.3382 - val_accuracy: 0.5956\n",
            "Epoch 85/100\n",
            "20/20 [==============================] - 1s 57ms/step - loss: 0.1458 - accuracy: 0.9534 - val_loss: 3.1628 - val_accuracy: 0.6250\n",
            "Epoch 86/100\n",
            "20/20 [==============================] - 1s 56ms/step - loss: 0.1184 - accuracy: 0.9641 - val_loss: 2.8252 - val_accuracy: 0.6618\n",
            "Epoch 87/100\n",
            "20/20 [==============================] - 1s 54ms/step - loss: 0.0663 - accuracy: 0.9755 - val_loss: 2.5869 - val_accuracy: 0.6765\n",
            "Epoch 88/100\n",
            "20/20 [==============================] - 1s 54ms/step - loss: 0.1926 - accuracy: 0.9469 - val_loss: 2.9397 - val_accuracy: 0.6985\n",
            "Epoch 89/100\n",
            "20/20 [==============================] - 1s 53ms/step - loss: 0.0681 - accuracy: 0.9804 - val_loss: 2.9610 - val_accuracy: 0.7059\n",
            "Epoch 90/100\n",
            "20/20 [==============================] - 1s 55ms/step - loss: 0.0351 - accuracy: 0.9910 - val_loss: 3.0279 - val_accuracy: 0.6912\n",
            "Epoch 91/100\n",
            "20/20 [==============================] - 1s 54ms/step - loss: 0.0183 - accuracy: 0.9918 - val_loss: 3.0334 - val_accuracy: 0.6838\n",
            "Epoch 92/100\n",
            "20/20 [==============================] - 1s 55ms/step - loss: 0.0222 - accuracy: 0.9935 - val_loss: 2.6697 - val_accuracy: 0.7132\n",
            "Epoch 93/100\n",
            "20/20 [==============================] - 1s 56ms/step - loss: 0.0400 - accuracy: 0.9853 - val_loss: 5.1347 - val_accuracy: 0.5147\n",
            "Epoch 94/100\n",
            "20/20 [==============================] - 1s 53ms/step - loss: 0.4721 - accuracy: 0.9109 - val_loss: 14.8885 - val_accuracy: 0.1471\n",
            "Epoch 95/100\n",
            "20/20 [==============================] - 1s 55ms/step - loss: 0.1891 - accuracy: 0.9469 - val_loss: 4.6121 - val_accuracy: 0.5515\n",
            "Epoch 96/100\n",
            "20/20 [==============================] - 1s 57ms/step - loss: 0.1288 - accuracy: 0.9624 - val_loss: 4.7983 - val_accuracy: 0.5000\n",
            "Epoch 97/100\n",
            "20/20 [==============================] - 1s 53ms/step - loss: 0.1099 - accuracy: 0.9673 - val_loss: 3.5637 - val_accuracy: 0.6176\n",
            "Epoch 98/100\n",
            "20/20 [==============================] - 1s 56ms/step - loss: 0.2942 - accuracy: 0.9379 - val_loss: 3.9242 - val_accuracy: 0.6103\n",
            "Epoch 99/100\n",
            "20/20 [==============================] - 1s 55ms/step - loss: 0.2008 - accuracy: 0.9493 - val_loss: 3.2330 - val_accuracy: 0.6618\n",
            "Epoch 100/100\n",
            "20/20 [==============================] - 1s 54ms/step - loss: 0.1535 - accuracy: 0.9592 - val_loss: 3.2837 - val_accuracy: 0.6397\n"
          ],
          "name": "stdout"
        },
        {
          "output_type": "execute_result",
          "data": {
            "text/plain": [
              "<tensorflow.python.keras.callbacks.History at 0x7f35df211350>"
            ]
          },
          "metadata": {
            "tags": []
          },
          "execution_count": 8
        }
      ]
    }
  ]
}