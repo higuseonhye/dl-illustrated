{
 "cells": [
  {
   "cell_type": "markdown",
   "metadata": {},
   "source": [
    "# 케라스로 AlexNet 만들기"
   ]
  },
  {
   "cell_type": "markdown",
   "metadata": {},
   "source": [
    "이 노트북에서 [AlexNet](https://papers.nips.cc/paper/4824-imagenet-classification-with-deep-convolutional-neural-networks)과 비슷한 심층 합성곱 신경망으로 [Oxford Flowers](http://www.robots.ox.ac.uk/~vgg/data/flowers/17/) 데이터셋의 꽃을 17개의 카테고리로 분류하겠습니다."
   ]
  },
  {
   "cell_type": "markdown",
   "metadata": {},
   "source": [
    "[![Open In Colab](https://colab.research.google.com/assets/colab-badge.svg)](https://colab.research.google.com/github/rickiepark/dl-illustrated/blob/master/notebooks/10-2.alexnet_in_keras.ipynb)"
   ]
  },
  {
   "cell_type": "markdown",
   "metadata": {},
   "source": [
    "#### 라이브러리를 적재합니다."
   ]
  },
  {
   "cell_type": "code",
   "execution_count": 1,
   "metadata": {},
   "outputs": [],
   "source": [
    "from tensorflow import keras\n",
    "from tensorflow.keras.models import Sequential\n",
    "from tensorflow.keras.layers import Dense, Dropout, Flatten, Conv2D, MaxPooling2D\n",
    "from tensorflow.keras.layers import BatchNormalization"
   ]
  },
  {
   "cell_type": "markdown",
   "metadata": {},
   "source": [
    "#### 데이터를 적재하고 전처리합니다."
   ]
  },
  {
   "cell_type": "markdown",
   "metadata": {},
   "source": [
    "원서 노트북은 tflearn을 사용해 oxflower17 데이터셋을 다운로드합니다. 이 라이브러리는 텐서플로 2와 호환되지 않습니다. 여기에서는 사전에 tflearn으로 다운받은 데이터를 다운로드하여 사용합니다. 이 파일은 캐글 데이터셋에 업로드되어 있습니다(https://www.kaggle.com/haesunpark/oxflower17).\n",
    "\n",
    "이 데이터셋에 대한 자세한 내용은 http://www.robots.ox.ac.uk/~vgg/data/flowers/17/ 을 참고하세요."
   ]
  },
  {
   "cell_type": "code",
   "execution_count": 2,
   "metadata": {},
   "outputs": [
    {
     "name": "stdout",
     "output_type": "stream",
     "text": [
      "--2020-08-21 09:54:41--  https://bit.ly/31iVxQ1\n",
      "Resolving bit.ly (bit.ly)... 67.199.248.10, 67.199.248.11\n",
      "Connecting to bit.ly (bit.ly)|67.199.248.10|:443... connected.\n",
      "HTTP request sent, awaiting response... 301 Moved Permanently\n",
      "Location: https://storage.googleapis.com/kaggle-data-sets/839629%2F1433323%2Fcompressed%2Foxflower17.npz.zip?GoogleAccessId=gcp-kaggle-com@kaggle-161607.iam.gserviceaccount.com&Expires=1598260995&Signature=iKSJhi7W%2B%2BOTejsfj4cmv3kQtbAouPdGAOH33eJn3b2kRE28jwsSq%2BrOQbVAK3QYLE9uPn0ssO5zxHVKbvUiiodLCtqoQEpLxs4cbpEZubdWGZpLgb8DSMHf3hQF6rA5mn/T4xL4SLtPNYgRdWlCf5RQ%2BD3BtzlAApHqSiChabZk16%2BGJ3M6jij0RNhBLUg7cr5TDVAqlL4c8QP/3vfFQ7uwufUkL6fy28Ar8ZDA67N5HFp6UoAcPRbj1wyBMgF8zXMf9aRATCTyHhTHXjGokBJRo9wEP8eNCMulpZUIVGLuqNM0WC5iAyh1w/JXt/vMca90Q7IMQYkAac3dSSjrvg%3D%3D [following]\n",
      "--2020-08-21 09:54:41--  https://storage.googleapis.com/kaggle-data-sets/839629%2F1433323%2Fcompressed%2Foxflower17.npz.zip?GoogleAccessId=gcp-kaggle-com@kaggle-161607.iam.gserviceaccount.com&Expires=1598260995&Signature=iKSJhi7W%2B%2BOTejsfj4cmv3kQtbAouPdGAOH33eJn3b2kRE28jwsSq%2BrOQbVAK3QYLE9uPn0ssO5zxHVKbvUiiodLCtqoQEpLxs4cbpEZubdWGZpLgb8DSMHf3hQF6rA5mn/T4xL4SLtPNYgRdWlCf5RQ%2BD3BtzlAApHqSiChabZk16%2BGJ3M6jij0RNhBLUg7cr5TDVAqlL4c8QP/3vfFQ7uwufUkL6fy28Ar8ZDA67N5HFp6UoAcPRbj1wyBMgF8zXMf9aRATCTyHhTHXjGokBJRo9wEP8eNCMulpZUIVGLuqNM0WC5iAyh1w/JXt/vMca90Q7IMQYkAac3dSSjrvg%3D%3D\n",
      "Resolving storage.googleapis.com (storage.googleapis.com)... 34.64.4.80, 34.64.4.16, 34.64.4.112, ...\n",
      "Connecting to storage.googleapis.com (storage.googleapis.com)|34.64.4.80|:443... connected.\n",
      "HTTP request sent, awaiting response... 200 OK\n",
      "Length: 249970847 (238M) [application/zip]\n",
      "Saving to: ‘oxflower17.npz.zip’\n",
      "\n",
      "oxflower17.npz.zip  100%[===================>] 238.39M  11.2MB/s    in 21s     \n",
      "\n",
      "2020-08-21 09:55:02 (11.6 MB/s) - ‘oxflower17.npz.zip’ saved [249970847/249970847]\n",
      "\n",
      "Archive:  oxflower17.npz.zip\n",
      "  inflating: oxflower17.npz          \n"
     ]
    }
   ],
   "source": [
    "!rm oxflower17*\n",
    "!wget https://bit.ly/31iVxQ1 -O oxflower17.npz.zip\n",
    "!unzip oxflower17.npz.zip"
   ]
  },
  {
   "cell_type": "code",
   "execution_count": 3,
   "metadata": {},
   "outputs": [],
   "source": [
    "import numpy as np\n",
    "\n",
    "data = np.load('oxflower17.npz')\n",
    "X = data['X']\n",
    "Y = data['Y']"
   ]
  },
  {
   "cell_type": "code",
   "execution_count": 4,
   "metadata": {},
   "outputs": [
    {
     "data": {
      "text/plain": [
       "((1360, 224, 224, 3), (1360, 17))"
      ]
     },
     "execution_count": 4,
     "metadata": {},
     "output_type": "execute_result"
    }
   ],
   "source": [
    "X.shape, Y.shape"
   ]
  },
  {
   "cell_type": "markdown",
   "metadata": {},
   "source": [
    "#### 신경망 모델을 만듭니다."
   ]
  },
  {
   "cell_type": "code",
   "execution_count": 5,
   "metadata": {},
   "outputs": [],
   "source": [
    "model = Sequential()\n",
    "\n",
    "model.add(Conv2D(96, kernel_size=(11, 11), strides=(4, 4), activation='relu', input_shape=(224, 224, 3)))\n",
    "model.add(MaxPooling2D(pool_size=(3, 3), strides=(2, 2)))\n",
    "model.add(BatchNormalization())\n",
    "\n",
    "model.add(Conv2D(256, kernel_size=(5, 5), activation='relu'))\n",
    "model.add(MaxPooling2D(pool_size=(3, 3), strides=(2, 2)))\n",
    "model.add(BatchNormalization())\n",
    "\n",
    "model.add(Conv2D(256, kernel_size=(3, 3), activation='relu'))\n",
    "model.add(Conv2D(384, kernel_size=(3, 3), activation='relu'))\n",
    "model.add(Conv2D(384, kernel_size=(3, 3), activation='relu'))\n",
    "model.add(MaxPooling2D(pool_size=(3, 3), strides=(2, 2)))\n",
    "model.add(BatchNormalization())\n",
    "\n",
    "model.add(Flatten())\n",
    "model.add(Dense(4096, activation='tanh'))\n",
    "model.add(Dropout(0.5))\n",
    "model.add(Dense(4096, activation='tanh'))\n",
    "model.add(Dropout(0.5))\n",
    "\n",
    "model.add(Dense(17, activation='softmax'))"
   ]
  },
  {
   "cell_type": "code",
   "execution_count": 6,
   "metadata": {},
   "outputs": [
    {
     "name": "stdout",
     "output_type": "stream",
     "text": [
      "Model: \"sequential\"\n",
      "_________________________________________________________________\n",
      "Layer (type)                 Output Shape              Param #   \n",
      "=================================================================\n",
      "conv2d (Conv2D)              (None, 54, 54, 96)        34944     \n",
      "_________________________________________________________________\n",
      "max_pooling2d (MaxPooling2D) (None, 26, 26, 96)        0         \n",
      "_________________________________________________________________\n",
      "batch_normalization (BatchNo (None, 26, 26, 96)        384       \n",
      "_________________________________________________________________\n",
      "conv2d_1 (Conv2D)            (None, 22, 22, 256)       614656    \n",
      "_________________________________________________________________\n",
      "max_pooling2d_1 (MaxPooling2 (None, 10, 10, 256)       0         \n",
      "_________________________________________________________________\n",
      "batch_normalization_1 (Batch (None, 10, 10, 256)       1024      \n",
      "_________________________________________________________________\n",
      "conv2d_2 (Conv2D)            (None, 8, 8, 256)         590080    \n",
      "_________________________________________________________________\n",
      "conv2d_3 (Conv2D)            (None, 6, 6, 384)         885120    \n",
      "_________________________________________________________________\n",
      "conv2d_4 (Conv2D)            (None, 4, 4, 384)         1327488   \n",
      "_________________________________________________________________\n",
      "max_pooling2d_2 (MaxPooling2 (None, 1, 1, 384)         0         \n",
      "_________________________________________________________________\n",
      "batch_normalization_2 (Batch (None, 1, 1, 384)         1536      \n",
      "_________________________________________________________________\n",
      "flatten (Flatten)            (None, 384)               0         \n",
      "_________________________________________________________________\n",
      "dense (Dense)                (None, 4096)              1576960   \n",
      "_________________________________________________________________\n",
      "dropout (Dropout)            (None, 4096)              0         \n",
      "_________________________________________________________________\n",
      "dense_1 (Dense)              (None, 4096)              16781312  \n",
      "_________________________________________________________________\n",
      "dropout_1 (Dropout)          (None, 4096)              0         \n",
      "_________________________________________________________________\n",
      "dense_2 (Dense)              (None, 17)                69649     \n",
      "=================================================================\n",
      "Total params: 21,883,153\n",
      "Trainable params: 21,881,681\n",
      "Non-trainable params: 1,472\n",
      "_________________________________________________________________\n"
     ]
    }
   ],
   "source": [
    "model.summary()"
   ]
  },
  {
   "cell_type": "markdown",
   "metadata": {},
   "source": [
    "#### 모델을 설정합니다."
   ]
  },
  {
   "cell_type": "code",
   "execution_count": 7,
   "metadata": {},
   "outputs": [],
   "source": [
    "model.compile(loss='categorical_crossentropy', optimizer='adam', metrics=['accuracy'])"
   ]
  },
  {
   "cell_type": "markdown",
   "metadata": {},
   "source": [
    "#### 훈련!"
   ]
  },
  {
   "cell_type": "code",
   "execution_count": 8,
   "metadata": {},
   "outputs": [
    {
     "name": "stdout",
     "output_type": "stream",
     "text": [
      "Epoch 1/100\n",
      "20/20 [==============================] - 2s 93ms/step - loss: 4.5899 - accuracy: 0.2165 - val_loss: 8.5754 - val_accuracy: 0.0735\n",
      "Epoch 2/100\n",
      "20/20 [==============================] - 1s 37ms/step - loss: 3.3045 - accuracy: 0.2810 - val_loss: 4.4846 - val_accuracy: 0.1324\n",
      "Epoch 3/100\n",
      "20/20 [==============================] - 1s 39ms/step - loss: 2.6105 - accuracy: 0.3227 - val_loss: 4.2123 - val_accuracy: 0.1250\n",
      "Epoch 4/100\n",
      "20/20 [==============================] - 1s 38ms/step - loss: 2.4477 - accuracy: 0.3742 - val_loss: 3.3323 - val_accuracy: 0.1765\n",
      "Epoch 5/100\n",
      "20/20 [==============================] - 1s 38ms/step - loss: 1.9643 - accuracy: 0.4502 - val_loss: 2.4216 - val_accuracy: 0.4044\n",
      "Epoch 6/100\n",
      "20/20 [==============================] - 1s 35ms/step - loss: 1.9945 - accuracy: 0.4649 - val_loss: 2.9967 - val_accuracy: 0.2868\n",
      "Epoch 7/100\n",
      "20/20 [==============================] - 1s 34ms/step - loss: 1.9390 - accuracy: 0.4436 - val_loss: 2.7178 - val_accuracy: 0.3456\n",
      "Epoch 8/100\n",
      "20/20 [==============================] - 1s 37ms/step - loss: 2.0331 - accuracy: 0.4526 - val_loss: 5.2591 - val_accuracy: 0.1397\n",
      "Epoch 9/100\n",
      "20/20 [==============================] - 1s 38ms/step - loss: 1.9367 - accuracy: 0.4812 - val_loss: 3.3567 - val_accuracy: 0.2794\n",
      "Epoch 10/100\n",
      "20/20 [==============================] - 1s 38ms/step - loss: 1.9390 - accuracy: 0.4804 - val_loss: 2.6682 - val_accuracy: 0.3824\n",
      "Epoch 11/100\n",
      "20/20 [==============================] - 1s 43ms/step - loss: 1.7691 - accuracy: 0.5008 - val_loss: 4.6812 - val_accuracy: 0.2794\n",
      "Epoch 12/100\n",
      "20/20 [==============================] - 1s 39ms/step - loss: 1.9519 - accuracy: 0.4951 - val_loss: 4.1015 - val_accuracy: 0.3456\n",
      "Epoch 13/100\n",
      "20/20 [==============================] - 1s 37ms/step - loss: 1.7334 - accuracy: 0.5221 - val_loss: 3.0223 - val_accuracy: 0.3971\n",
      "Epoch 14/100\n",
      "20/20 [==============================] - 1s 40ms/step - loss: 1.5968 - accuracy: 0.5621 - val_loss: 3.7704 - val_accuracy: 0.3309\n",
      "Epoch 15/100\n",
      "20/20 [==============================] - 1s 37ms/step - loss: 1.4019 - accuracy: 0.5768 - val_loss: 3.7898 - val_accuracy: 0.4044\n",
      "Epoch 16/100\n",
      "20/20 [==============================] - 1s 37ms/step - loss: 1.4324 - accuracy: 0.6095 - val_loss: 3.1690 - val_accuracy: 0.4118\n",
      "Epoch 17/100\n",
      "20/20 [==============================] - 1s 36ms/step - loss: 1.3776 - accuracy: 0.6283 - val_loss: 3.2207 - val_accuracy: 0.4559\n",
      "Epoch 18/100\n",
      "20/20 [==============================] - 1s 36ms/step - loss: 1.3892 - accuracy: 0.6217 - val_loss: 2.9355 - val_accuracy: 0.4853\n",
      "Epoch 19/100\n",
      "20/20 [==============================] - 1s 35ms/step - loss: 1.2554 - accuracy: 0.6340 - val_loss: 3.6011 - val_accuracy: 0.4779\n",
      "Epoch 20/100\n",
      "20/20 [==============================] - 1s 38ms/step - loss: 1.2374 - accuracy: 0.6536 - val_loss: 3.5838 - val_accuracy: 0.4191\n",
      "Epoch 21/100\n",
      "20/20 [==============================] - 1s 38ms/step - loss: 1.3618 - accuracy: 0.6422 - val_loss: 3.2074 - val_accuracy: 0.4632\n",
      "Epoch 22/100\n",
      "20/20 [==============================] - 1s 41ms/step - loss: 1.3443 - accuracy: 0.6708 - val_loss: 3.0157 - val_accuracy: 0.4559\n",
      "Epoch 23/100\n",
      "20/20 [==============================] - 1s 38ms/step - loss: 1.1909 - accuracy: 0.6765 - val_loss: 4.6495 - val_accuracy: 0.3750\n",
      "Epoch 24/100\n",
      "20/20 [==============================] - 1s 38ms/step - loss: 1.1575 - accuracy: 0.6773 - val_loss: 2.8503 - val_accuracy: 0.4926\n",
      "Epoch 25/100\n",
      "20/20 [==============================] - 1s 36ms/step - loss: 1.1161 - accuracy: 0.7026 - val_loss: 2.6145 - val_accuracy: 0.5588\n",
      "Epoch 26/100\n",
      "20/20 [==============================] - 1s 37ms/step - loss: 0.8397 - accuracy: 0.7426 - val_loss: 3.0726 - val_accuracy: 0.5000\n",
      "Epoch 27/100\n",
      "20/20 [==============================] - 1s 37ms/step - loss: 0.7799 - accuracy: 0.7606 - val_loss: 2.6942 - val_accuracy: 0.5515\n",
      "Epoch 28/100\n",
      "20/20 [==============================] - 1s 39ms/step - loss: 0.9712 - accuracy: 0.7475 - val_loss: 3.1343 - val_accuracy: 0.4926\n",
      "Epoch 29/100\n",
      "20/20 [==============================] - 1s 43ms/step - loss: 1.0039 - accuracy: 0.7198 - val_loss: 3.3131 - val_accuracy: 0.4265\n",
      "Epoch 30/100\n",
      "20/20 [==============================] - 1s 37ms/step - loss: 0.9198 - accuracy: 0.7312 - val_loss: 2.7248 - val_accuracy: 0.5147\n",
      "Epoch 31/100\n",
      "20/20 [==============================] - 1s 38ms/step - loss: 0.7480 - accuracy: 0.7753 - val_loss: 2.4280 - val_accuracy: 0.5515\n",
      "Epoch 32/100\n",
      "20/20 [==============================] - 1s 34ms/step - loss: 0.8503 - accuracy: 0.7557 - val_loss: 2.4412 - val_accuracy: 0.5735\n",
      "Epoch 33/100\n",
      "20/20 [==============================] - 1s 37ms/step - loss: 0.6943 - accuracy: 0.8031 - val_loss: 2.8043 - val_accuracy: 0.5588\n",
      "Epoch 34/100\n",
      "20/20 [==============================] - 1s 36ms/step - loss: 0.7710 - accuracy: 0.7908 - val_loss: 3.0436 - val_accuracy: 0.5294\n",
      "Epoch 35/100\n",
      "20/20 [==============================] - 1s 38ms/step - loss: 0.7903 - accuracy: 0.7892 - val_loss: 4.0667 - val_accuracy: 0.3897\n",
      "Epoch 36/100\n",
      "20/20 [==============================] - 1s 36ms/step - loss: 0.9987 - accuracy: 0.7467 - val_loss: 3.2644 - val_accuracy: 0.4853\n",
      "Epoch 37/100\n",
      "20/20 [==============================] - 1s 39ms/step - loss: 0.8676 - accuracy: 0.7598 - val_loss: 2.8780 - val_accuracy: 0.5515\n",
      "Epoch 38/100\n",
      "20/20 [==============================] - 1s 40ms/step - loss: 0.6122 - accuracy: 0.8162 - val_loss: 2.4949 - val_accuracy: 0.5441\n",
      "Epoch 39/100\n",
      "20/20 [==============================] - 1s 37ms/step - loss: 0.6303 - accuracy: 0.8219 - val_loss: 2.3648 - val_accuracy: 0.5809\n",
      "Epoch 40/100\n",
      "20/20 [==============================] - 1s 38ms/step - loss: 0.6515 - accuracy: 0.8145 - val_loss: 4.2649 - val_accuracy: 0.4853\n",
      "Epoch 41/100\n",
      "20/20 [==============================] - 1s 39ms/step - loss: 0.5567 - accuracy: 0.8317 - val_loss: 3.3072 - val_accuracy: 0.5735\n",
      "Epoch 42/100\n",
      "20/20 [==============================] - 1s 37ms/step - loss: 0.8076 - accuracy: 0.8145 - val_loss: 7.2907 - val_accuracy: 0.3309\n",
      "Epoch 43/100\n",
      "20/20 [==============================] - 1s 38ms/step - loss: 0.7468 - accuracy: 0.8170 - val_loss: 3.3811 - val_accuracy: 0.4926\n",
      "Epoch 44/100\n",
      "20/20 [==============================] - 1s 35ms/step - loss: 0.6815 - accuracy: 0.8047 - val_loss: 3.8701 - val_accuracy: 0.4485\n",
      "Epoch 45/100\n",
      "20/20 [==============================] - 1s 35ms/step - loss: 0.5817 - accuracy: 0.8480 - val_loss: 4.4320 - val_accuracy: 0.4412\n",
      "Epoch 46/100\n",
      "20/20 [==============================] - 1s 37ms/step - loss: 0.6003 - accuracy: 0.8480 - val_loss: 4.2064 - val_accuracy: 0.4191\n",
      "Epoch 47/100\n",
      "20/20 [==============================] - 1s 40ms/step - loss: 0.4470 - accuracy: 0.8676 - val_loss: 4.4835 - val_accuracy: 0.4559\n",
      "Epoch 48/100\n",
      "20/20 [==============================] - 1s 39ms/step - loss: 0.4976 - accuracy: 0.8652 - val_loss: 3.3965 - val_accuracy: 0.5368\n",
      "Epoch 49/100\n",
      "20/20 [==============================] - 1s 45ms/step - loss: 0.4368 - accuracy: 0.8791 - val_loss: 2.6848 - val_accuracy: 0.6250\n",
      "Epoch 50/100\n",
      "20/20 [==============================] - 1s 37ms/step - loss: 0.4276 - accuracy: 0.8905 - val_loss: 3.2979 - val_accuracy: 0.5221\n",
      "Epoch 51/100\n",
      "20/20 [==============================] - 1s 35ms/step - loss: 0.3956 - accuracy: 0.8807 - val_loss: 3.9448 - val_accuracy: 0.5074\n",
      "Epoch 52/100\n",
      "20/20 [==============================] - 1s 38ms/step - loss: 0.6239 - accuracy: 0.8415 - val_loss: 4.5330 - val_accuracy: 0.4779\n",
      "Epoch 53/100\n",
      "20/20 [==============================] - 1s 39ms/step - loss: 0.6569 - accuracy: 0.8440 - val_loss: 4.7709 - val_accuracy: 0.4632\n",
      "Epoch 54/100\n",
      "20/20 [==============================] - 1s 37ms/step - loss: 0.4790 - accuracy: 0.8627 - val_loss: 3.0868 - val_accuracy: 0.5809\n",
      "Epoch 55/100\n",
      "20/20 [==============================] - 1s 38ms/step - loss: 0.5052 - accuracy: 0.8709 - val_loss: 2.9187 - val_accuracy: 0.5882\n",
      "Epoch 56/100\n",
      "20/20 [==============================] - 1s 38ms/step - loss: 0.3811 - accuracy: 0.8938 - val_loss: 4.2316 - val_accuracy: 0.4191\n",
      "Epoch 57/100\n",
      "20/20 [==============================] - 1s 34ms/step - loss: 0.8548 - accuracy: 0.7941 - val_loss: 3.1941 - val_accuracy: 0.6176\n",
      "Epoch 58/100\n"
     ]
    },
    {
     "name": "stdout",
     "output_type": "stream",
     "text": [
      "20/20 [==============================] - 1s 37ms/step - loss: 0.4224 - accuracy: 0.8840 - val_loss: 3.4882 - val_accuracy: 0.5368\n",
      "Epoch 59/100\n",
      "20/20 [==============================] - 1s 36ms/step - loss: 0.5003 - accuracy: 0.8685 - val_loss: 3.5730 - val_accuracy: 0.5147\n",
      "Epoch 60/100\n",
      "20/20 [==============================] - 1s 42ms/step - loss: 0.7077 - accuracy: 0.8374 - val_loss: 3.0363 - val_accuracy: 0.5809\n",
      "Epoch 61/100\n",
      "20/20 [==============================] - 1s 38ms/step - loss: 0.4870 - accuracy: 0.8660 - val_loss: 4.3815 - val_accuracy: 0.5221\n",
      "Epoch 62/100\n",
      "20/20 [==============================] - 1s 37ms/step - loss: 0.6476 - accuracy: 0.8464 - val_loss: 3.8621 - val_accuracy: 0.5000\n",
      "Epoch 63/100\n",
      "20/20 [==============================] - 1s 32ms/step - loss: 0.3292 - accuracy: 0.9036 - val_loss: 3.2083 - val_accuracy: 0.6176\n",
      "Epoch 64/100\n",
      "20/20 [==============================] - 1s 37ms/step - loss: 0.2506 - accuracy: 0.9281 - val_loss: 3.7084 - val_accuracy: 0.5441\n",
      "Epoch 65/100\n",
      "20/20 [==============================] - 1s 38ms/step - loss: 0.4042 - accuracy: 0.8979 - val_loss: 3.9702 - val_accuracy: 0.5147\n",
      "Epoch 66/100\n",
      "20/20 [==============================] - 1s 36ms/step - loss: 0.7286 - accuracy: 0.8342 - val_loss: 3.4355 - val_accuracy: 0.5441\n",
      "Epoch 67/100\n",
      "20/20 [==============================] - 1s 38ms/step - loss: 0.4775 - accuracy: 0.8627 - val_loss: 3.2862 - val_accuracy: 0.5662\n",
      "Epoch 68/100\n",
      "20/20 [==============================] - 1s 38ms/step - loss: 0.3994 - accuracy: 0.8971 - val_loss: 5.0157 - val_accuracy: 0.4706\n",
      "Epoch 69/100\n",
      "20/20 [==============================] - 1s 38ms/step - loss: 0.4165 - accuracy: 0.8799 - val_loss: 3.4175 - val_accuracy: 0.5809\n",
      "Epoch 70/100\n",
      "20/20 [==============================] - 1s 33ms/step - loss: 0.3048 - accuracy: 0.9126 - val_loss: 3.2939 - val_accuracy: 0.5956\n",
      "Epoch 71/100\n",
      "20/20 [==============================] - 1s 37ms/step - loss: 0.3047 - accuracy: 0.9101 - val_loss: 3.7521 - val_accuracy: 0.5515\n",
      "Epoch 72/100\n",
      "20/20 [==============================] - 1s 39ms/step - loss: 0.4265 - accuracy: 0.9093 - val_loss: 3.8380 - val_accuracy: 0.5662\n",
      "Epoch 73/100\n",
      "20/20 [==============================] - 1s 38ms/step - loss: 0.2743 - accuracy: 0.9289 - val_loss: 2.8689 - val_accuracy: 0.6176\n",
      "Epoch 74/100\n",
      "20/20 [==============================] - 1s 39ms/step - loss: 0.2287 - accuracy: 0.9306 - val_loss: 3.2601 - val_accuracy: 0.6324\n",
      "Epoch 75/100\n",
      "20/20 [==============================] - 1s 36ms/step - loss: 0.1537 - accuracy: 0.9542 - val_loss: 3.2382 - val_accuracy: 0.6029\n",
      "Epoch 76/100\n",
      "20/20 [==============================] - 1s 34ms/step - loss: 0.2953 - accuracy: 0.9404 - val_loss: 2.8773 - val_accuracy: 0.6618\n",
      "Epoch 77/100\n",
      "20/20 [==============================] - 1s 35ms/step - loss: 0.2168 - accuracy: 0.9371 - val_loss: 3.3195 - val_accuracy: 0.6691\n",
      "Epoch 78/100\n",
      "20/20 [==============================] - 1s 37ms/step - loss: 0.1372 - accuracy: 0.9526 - val_loss: 3.4384 - val_accuracy: 0.6618\n",
      "Epoch 79/100\n",
      "20/20 [==============================] - 1s 38ms/step - loss: 0.2012 - accuracy: 0.9493 - val_loss: 4.3817 - val_accuracy: 0.6103\n",
      "Epoch 80/100\n",
      "20/20 [==============================] - 1s 37ms/step - loss: 0.1516 - accuracy: 0.9551 - val_loss: 3.8881 - val_accuracy: 0.6544\n",
      "Epoch 81/100\n",
      "20/20 [==============================] - 1s 38ms/step - loss: 0.1815 - accuracy: 0.9526 - val_loss: 3.7596 - val_accuracy: 0.6471\n",
      "Epoch 82/100\n",
      "20/20 [==============================] - 1s 35ms/step - loss: 0.1794 - accuracy: 0.9534 - val_loss: 3.3501 - val_accuracy: 0.6397\n",
      "Epoch 83/100\n",
      "20/20 [==============================] - 1s 36ms/step - loss: 0.0761 - accuracy: 0.9747 - val_loss: 3.4469 - val_accuracy: 0.6765\n",
      "Epoch 84/100\n",
      "20/20 [==============================] - 1s 35ms/step - loss: 0.3356 - accuracy: 0.9248 - val_loss: 3.5396 - val_accuracy: 0.6176\n",
      "Epoch 85/100\n",
      "20/20 [==============================] - 1s 42ms/step - loss: 0.1740 - accuracy: 0.9559 - val_loss: 3.6315 - val_accuracy: 0.6618\n",
      "Epoch 86/100\n",
      "20/20 [==============================] - 1s 38ms/step - loss: 0.2822 - accuracy: 0.9420 - val_loss: 4.0064 - val_accuracy: 0.6250\n",
      "Epoch 87/100\n",
      "20/20 [==============================] - 1s 38ms/step - loss: 0.1017 - accuracy: 0.9657 - val_loss: 4.7335 - val_accuracy: 0.5882\n",
      "Epoch 88/100\n",
      "20/20 [==============================] - 1s 38ms/step - loss: 0.1747 - accuracy: 0.9600 - val_loss: 7.8864 - val_accuracy: 0.4485\n",
      "Epoch 89/100\n",
      "20/20 [==============================] - 1s 35ms/step - loss: 0.1753 - accuracy: 0.9583 - val_loss: 5.1231 - val_accuracy: 0.5662\n",
      "Epoch 90/100\n",
      "20/20 [==============================] - 1s 35ms/step - loss: 0.3600 - accuracy: 0.9273 - val_loss: 10.9455 - val_accuracy: 0.1912\n",
      "Epoch 91/100\n",
      "20/20 [==============================] - 1s 38ms/step - loss: 0.3437 - accuracy: 0.9191 - val_loss: 5.8571 - val_accuracy: 0.4853\n",
      "Epoch 92/100\n",
      "20/20 [==============================] - 1s 37ms/step - loss: 0.1433 - accuracy: 0.9624 - val_loss: 3.8945 - val_accuracy: 0.6765\n",
      "Epoch 93/100\n",
      "20/20 [==============================] - 1s 36ms/step - loss: 0.2563 - accuracy: 0.9436 - val_loss: 5.9926 - val_accuracy: 0.4265\n",
      "Epoch 94/100\n",
      "20/20 [==============================] - 1s 38ms/step - loss: 0.3321 - accuracy: 0.9248 - val_loss: 4.2811 - val_accuracy: 0.5882\n",
      "Epoch 95/100\n",
      "20/20 [==============================] - 1s 37ms/step - loss: 0.2807 - accuracy: 0.9355 - val_loss: 3.4859 - val_accuracy: 0.6471\n",
      "Epoch 96/100\n",
      "20/20 [==============================] - 1s 35ms/step - loss: 0.1794 - accuracy: 0.9502 - val_loss: 2.6165 - val_accuracy: 0.6765\n",
      "Epoch 97/100\n",
      "20/20 [==============================] - 1s 38ms/step - loss: 0.4046 - accuracy: 0.9158 - val_loss: 4.5387 - val_accuracy: 0.5956\n",
      "Epoch 98/100\n",
      "20/20 [==============================] - 1s 37ms/step - loss: 0.2685 - accuracy: 0.9322 - val_loss: 4.7119 - val_accuracy: 0.5882\n",
      "Epoch 99/100\n",
      "20/20 [==============================] - 1s 39ms/step - loss: 0.1464 - accuracy: 0.9551 - val_loss: 4.0695 - val_accuracy: 0.6397\n",
      "Epoch 100/100\n",
      "20/20 [==============================] - 1s 36ms/step - loss: 0.1318 - accuracy: 0.9673 - val_loss: 4.4218 - val_accuracy: 0.5956\n"
     ]
    },
    {
     "data": {
      "text/plain": [
       "<tensorflow.python.keras.callbacks.History at 0x7fd6d0191780>"
      ]
     },
     "execution_count": 8,
     "metadata": {},
     "output_type": "execute_result"
    }
   ],
   "source": [
    "model.fit(X, Y, batch_size=64, epochs=100, verbose=1, validation_split=0.1, shuffle=True)"
   ]
  }
 ],
 "metadata": {
  "kernelspec": {
   "display_name": "TensorFlow 2.3 on Python 3.6 (CUDA 10.1)",
   "language": "python",
   "name": "python3"
  },
  "language_info": {
   "codemirror_mode": {
    "name": "ipython",
    "version": 3
   },
   "file_extension": ".py",
   "mimetype": "text/x-python",
   "name": "python",
   "nbconvert_exporter": "python",
   "pygments_lexer": "ipython3",
   "version": "3.6.9"
  }
 },
 "nbformat": 4,
 "nbformat_minor": 2
}
