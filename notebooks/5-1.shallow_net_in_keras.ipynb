{
 "cells": [
  {
   "cell_type": "markdown",
   "metadata": {},
   "source": [
    "# 케라스로 만드는 얕은 신경망"
   ]
  },
  {
   "cell_type": "markdown",
   "metadata": {},
   "source": [
    "얕은 신경망을 만들어 MNIST 숫자를 분류합니다."
   ]
  },
  {
   "cell_type": "markdown",
   "metadata": {},
   "source": [
    "[![Open In Colab](https://colab.research.google.com/assets/colab-badge.svg)](https://colab.research.google.com/github/rickiepark/dl-illustrated/blob/master/notebooks/5-1.shallow_net_in_keras.ipynb)"
   ]
  },
  {
   "cell_type": "markdown",
   "metadata": {},
   "source": [
    "#### 라이브러리 적재"
   ]
  },
  {
   "cell_type": "code",
   "execution_count": 1,
   "metadata": {},
   "outputs": [],
   "source": [
    "from tensorflow import keras\n",
    "from tensorflow.keras.datasets import mnist\n",
    "from tensorflow.keras.models import Sequential\n",
    "from tensorflow.keras.layers import Dense\n",
    "from tensorflow.keras.optimizers import SGD\n",
    "from matplotlib import pyplot as plt"
   ]
  },
  {
   "cell_type": "markdown",
   "metadata": {},
   "source": [
    "#### 데이터 적재"
   ]
  },
  {
   "cell_type": "code",
   "execution_count": 2,
   "metadata": {
    "scrolled": true
   },
   "outputs": [],
   "source": [
    "(X_train, y_train), (X_valid, y_valid) = mnist.load_data()"
   ]
  },
  {
   "cell_type": "code",
   "execution_count": 3,
   "metadata": {},
   "outputs": [
    {
     "data": {
      "text/plain": [
       "(60000, 28, 28)"
      ]
     },
     "execution_count": 3,
     "metadata": {},
     "output_type": "execute_result"
    }
   ],
   "source": [
    "X_train.shape"
   ]
  },
  {
   "cell_type": "code",
   "execution_count": 4,
   "metadata": {},
   "outputs": [
    {
     "data": {
      "text/plain": [
       "(60000,)"
      ]
     },
     "execution_count": 4,
     "metadata": {},
     "output_type": "execute_result"
    }
   ],
   "source": [
    "y_train.shape"
   ]
  },
  {
   "cell_type": "code",
   "execution_count": 5,
   "metadata": {},
   "outputs": [
    {
     "data": {
      "text/plain": [
       "array([5, 0, 4, 1, 9, 2, 1, 3, 1, 4, 3, 5], dtype=uint8)"
      ]
     },
     "execution_count": 5,
     "metadata": {},
     "output_type": "execute_result"
    }
   ],
   "source": [
    "y_train[0:12]"
   ]
  },
  {
   "cell_type": "code",
   "execution_count": 6,
   "metadata": {},
   "outputs": [
    {
     "data": {
      "image/png": "[encoded data removed]",
      "text/plain": [
       "<Figure size 360x360 with 12 Axes>"
      ]
     },
     "metadata": {
      "needs_background": "light"
     },
     "output_type": "display_data"
    }
   ],
   "source": [
    "plt.figure(figsize=(5,5))\n",
    "for k in range(12):\n",
    "    plt.subplot(3, 4, k+1)\n",
    "    plt.imshow(X_train[k], cmap='Greys')\n",
    "    plt.axis('off')\n",
    "plt.tight_layout()\n",
    "plt.show()"
   ]
  },
  {
   "cell_type": "code",
   "execution_count": 7,
   "metadata": {},
   "outputs": [
    {
     "data": {
      "text/plain": [
       "(10000, 28, 28)"
      ]
     },
     "execution_count": 7,
     "metadata": {},
     "output_type": "execute_result"
    }
   ],
   "source": [
    "X_valid.shape"
   ]
  },
  {
   "cell_type": "code",
   "execution_count": 8,
   "metadata": {},
   "outputs": [
    {
     "data": {
      "text/plain": [
       "(10000,)"
      ]
     },
     "execution_count": 8,
     "metadata": {},
     "output_type": "execute_result"
    }
   ],
   "source": [
    "y_valid.shape"
   ]
  },
  {
   "cell_type": "code",
   "execution_count": 9,
   "metadata": {},
   "outputs": [
    {
     "data": {
      "image/png": "[encoded data removed]",
      "text/plain": [
       "<Figure size 432x288 with 1 Axes>"
      ]
     },
     "metadata": {
      "needs_background": "light"
     },
     "output_type": "display_data"
    }
   ],
   "source": [
    "plt.imshow(X_valid[0], cmap='Greys')\n",
    "plt.show()"
   ]
  },
  {
   "cell_type": "code",
   "execution_count": 10,
   "metadata": {},
   "outputs": [
    {
     "data": {
      "text/plain": [
       "array([[  0,   0,   0,   0,   0,   0,   0,   0,   0,   0,   0,   0,   0,\n",
       "          0,   0,   0,   0,   0,   0,   0,   0,   0,   0,   0,   0,   0,\n",
       "          0,   0],\n",
       "       [  0,   0,   0,   0,   0,   0,   0,   0,   0,   0,   0,   0,   0,\n",
       "          0,   0,   0,   0,   0,   0,   0,   0,   0,   0,   0,   0,   0,\n",
       "          0,   0],\n",
       "       [  0,   0,   0,   0,   0,   0,   0,   0,   0,   0,   0,   0,   0,\n",
       "          0,   0,   0,   0,   0,   0,   0,   0,   0,   0,   0,   0,   0,\n",
       "          0,   0],\n",
       "       [  0,   0,   0,   0,   0,   0,   0,   0,   0,   0,   0,   0,   0,\n",
       "          0,   0,   0,   0,   0,   0,   0,   0,   0,   0,   0,   0,   0,\n",
       "          0,   0],\n",
       "       [  0,   0,   0,   0,   0,   0,   0,   0,   0,   0,   0,   0,   0,\n",
       "          0,   0,   0,   0,   0,   0,   0,   0,   0,   0,   0,   0,   0,\n",
       "          0,   0],\n",
       "       [  0,   0,   0,   0,   0,   0,   0,   0,   0,   0,   0,   0,   0,\n",
       "          0,   0,   0,   0,   0,   0,   0,   0,   0,   0,   0,   0,   0,\n",
       "          0,   0],\n",
       "       [  0,   0,   0,   0,   0,   0,   0,   0,   0,   0,   0,   0,   0,\n",
       "          0,   0,   0,   0,   0,   0,   0,   0,   0,   0,   0,   0,   0,\n",
       "          0,   0],\n",
       "       [  0,   0,   0,   0,   0,   0,  84, 185, 159, 151,  60,  36,   0,\n",
       "          0,   0,   0,   0,   0,   0,   0,   0,   0,   0,   0,   0,   0,\n",
       "          0,   0],\n",
       "       [  0,   0,   0,   0,   0,   0, 222, 254, 254, 254, 254, 241, 198,\n",
       "        198, 198, 198, 198, 198, 198, 198, 170,  52,   0,   0,   0,   0,\n",
       "          0,   0],\n",
       "       [  0,   0,   0,   0,   0,   0,  67, 114,  72, 114, 163, 227, 254,\n",
       "        225, 254, 254, 254, 250, 229, 254, 254, 140,   0,   0,   0,   0,\n",
       "          0,   0],\n",
       "       [  0,   0,   0,   0,   0,   0,   0,   0,   0,   0,   0,  17,  66,\n",
       "         14,  67,  67,  67,  59,  21, 236, 254, 106,   0,   0,   0,   0,\n",
       "          0,   0],\n",
       "       [  0,   0,   0,   0,   0,   0,   0,   0,   0,   0,   0,   0,   0,\n",
       "          0,   0,   0,   0,   0,  83, 253, 209,  18,   0,   0,   0,   0,\n",
       "          0,   0],\n",
       "       [  0,   0,   0,   0,   0,   0,   0,   0,   0,   0,   0,   0,   0,\n",
       "          0,   0,   0,   0,  22, 233, 255,  83,   0,   0,   0,   0,   0,\n",
       "          0,   0],\n",
       "       [  0,   0,   0,   0,   0,   0,   0,   0,   0,   0,   0,   0,   0,\n",
       "          0,   0,   0,   0, 129, 254, 238,  44,   0,   0,   0,   0,   0,\n",
       "          0,   0],\n",
       "       [  0,   0,   0,   0,   0,   0,   0,   0,   0,   0,   0,   0,   0,\n",
       "          0,   0,   0,  59, 249, 254,  62,   0,   0,   0,   0,   0,   0,\n",
       "          0,   0],\n",
       "       [  0,   0,   0,   0,   0,   0,   0,   0,   0,   0,   0,   0,   0,\n",
       "          0,   0,   0, 133, 254, 187,   5,   0,   0,   0,   0,   0,   0,\n",
       "          0,   0],\n",
       "       [  0,   0,   0,   0,   0,   0,   0,   0,   0,   0,   0,   0,   0,\n",
       "          0,   0,   9, 205, 248,  58,   0,   0,   0,   0,   0,   0,   0,\n",
       "          0,   0],\n",
       "       [  0,   0,   0,   0,   0,   0,   0,   0,   0,   0,   0,   0,   0,\n",
       "          0,   0, 126, 254, 182,   0,   0,   0,   0,   0,   0,   0,   0,\n",
       "          0,   0],\n",
       "       [  0,   0,   0,   0,   0,   0,   0,   0,   0,   0,   0,   0,   0,\n",
       "          0,  75, 251, 240,  57,   0,   0,   0,   0,   0,   0,   0,   0,\n",
       "          0,   0],\n",
       "       [  0,   0,   0,   0,   0,   0,   0,   0,   0,   0,   0,   0,   0,\n",
       "         19, 221, 254, 166,   0,   0,   0,   0,   0,   0,   0,   0,   0,\n",
       "          0,   0],\n",
       "       [  0,   0,   0,   0,   0,   0,   0,   0,   0,   0,   0,   0,   3,\n",
       "        203, 254, 219,  35,   0,   0,   0,   0,   0,   0,   0,   0,   0,\n",
       "          0,   0],\n",
       "       [  0,   0,   0,   0,   0,   0,   0,   0,   0,   0,   0,   0,  38,\n",
       "        254, 254,  77,   0,   0,   0,   0,   0,   0,   0,   0,   0,   0,\n",
       "          0,   0],\n",
       "       [  0,   0,   0,   0,   0,   0,   0,   0,   0,   0,   0,  31, 224,\n",
       "        254, 115,   1,   0,   0,   0,   0,   0,   0,   0,   0,   0,   0,\n",
       "          0,   0],\n",
       "       [  0,   0,   0,   0,   0,   0,   0,   0,   0,   0,   0, 133, 254,\n",
       "        254,  52,   0,   0,   0,   0,   0,   0,   0,   0,   0,   0,   0,\n",
       "          0,   0],\n",
       "       [  0,   0,   0,   0,   0,   0,   0,   0,   0,   0,  61, 242, 254,\n",
       "        254,  52,   0,   0,   0,   0,   0,   0,   0,   0,   0,   0,   0,\n",
       "          0,   0],\n",
       "       [  0,   0,   0,   0,   0,   0,   0,   0,   0,   0, 121, 254, 254,\n",
       "        219,  40,   0,   0,   0,   0,   0,   0,   0,   0,   0,   0,   0,\n",
       "          0,   0],\n",
       "       [  0,   0,   0,   0,   0,   0,   0,   0,   0,   0, 121, 254, 207,\n",
       "         18,   0,   0,   0,   0,   0,   0,   0,   0,   0,   0,   0,   0,\n",
       "          0,   0],\n",
       "       [  0,   0,   0,   0,   0,   0,   0,   0,   0,   0,   0,   0,   0,\n",
       "          0,   0,   0,   0,   0,   0,   0,   0,   0,   0,   0,   0,   0,\n",
       "          0,   0]], dtype=uint8)"
      ]
     },
     "execution_count": 10,
     "metadata": {},
     "output_type": "execute_result"
    }
   ],
   "source": [
    "X_valid[0]"
   ]
  },
  {
   "cell_type": "code",
   "execution_count": 11,
   "metadata": {},
   "outputs": [
    {
     "data": {
      "text/plain": [
       "7"
      ]
     },
     "execution_count": 11,
     "metadata": {},
     "output_type": "execute_result"
    }
   ],
   "source": [
    "y_valid[0]"
   ]
  },
  {
   "cell_type": "markdown",
   "metadata": {},
   "source": [
    "#### Preprocess data"
   ]
  },
  {
   "cell_type": "code",
   "execution_count": 12,
   "metadata": {},
   "outputs": [],
   "source": [
    "X_train = X_train.reshape(60000, 784).astype('float32')\n",
    "X_valid = X_valid.reshape(10000, 784).astype('float32')"
   ]
  },
  {
   "cell_type": "code",
   "execution_count": 13,
   "metadata": {},
   "outputs": [],
   "source": [
    "X_train /= 255\n",
    "X_valid /= 255"
   ]
  },
  {
   "cell_type": "code",
   "execution_count": 14,
   "metadata": {},
   "outputs": [
    {
     "data": {
      "text/plain": [
       "array([0.        , 0.        , 0.        , 0.        , 0.        ,\n",
       "       0.        , 0.        , 0.        , 0.        , 0.        ,\n",
       "       0.        , 0.        , 0.        , 0.        , 0.        ,\n",
       "       0.        , 0.        , 0.        , 0.        , 0.        ,\n",
       "       0.        , 0.        , 0.        , 0.        , 0.        ,\n",
       "       0.        , 0.        , 0.        , 0.        , 0.        ,\n",
       "       0.        , 0.        , 0.        , 0.        , 0.        ,\n",
       "       0.        , 0.        , 0.        , 0.        , 0.        ,\n",
       "       0.        , 0.        , 0.        , 0.        , 0.        ,\n",
       "       0.        , 0.        , 0.        , 0.        , 0.        ,\n",
       "       0.        , 0.        , 0.        , 0.        , 0.        ,\n",
       "       0.        , 0.        , 0.        , 0.        , 0.        ,\n",
       "       0.        , 0.        , 0.        , 0.        , 0.        ,\n",
       "       0.        , 0.        , 0.        , 0.        , 0.        ,\n",
       "       0.        , 0.        , 0.        , 0.        , 0.        ,\n",
       "       0.        , 0.        , 0.        , 0.        , 0.        ,\n",
       "       0.        , 0.        , 0.        , 0.        , 0.        ,\n",
       "       0.        , 0.        , 0.        , 0.        , 0.        ,\n",
       "       0.        , 0.        , 0.        , 0.        , 0.        ,\n",
       "       0.        , 0.        , 0.        , 0.        , 0.        ,\n",
       "       0.        , 0.        , 0.        , 0.        , 0.        ,\n",
       "       0.        , 0.        , 0.        , 0.        , 0.        ,\n",
       "       0.        , 0.        , 0.        , 0.        , 0.        ,\n",
       "       0.        , 0.        , 0.        , 0.        , 0.        ,\n",
       "       0.        , 0.        , 0.        , 0.        , 0.        ,\n",
       "       0.        , 0.        , 0.        , 0.        , 0.        ,\n",
       "       0.        , 0.        , 0.        , 0.        , 0.        ,\n",
       "       0.        , 0.        , 0.        , 0.        , 0.        ,\n",
       "       0.        , 0.        , 0.        , 0.        , 0.        ,\n",
       "       0.        , 0.        , 0.        , 0.        , 0.        ,\n",
       "       0.        , 0.        , 0.        , 0.        , 0.        ,\n",
       "       0.        , 0.        , 0.        , 0.        , 0.        ,\n",
       "       0.        , 0.        , 0.        , 0.        , 0.        ,\n",
       "       0.        , 0.        , 0.        , 0.        , 0.        ,\n",
       "       0.        , 0.        , 0.        , 0.        , 0.        ,\n",
       "       0.        , 0.        , 0.        , 0.        , 0.        ,\n",
       "       0.        , 0.        , 0.        , 0.        , 0.        ,\n",
       "       0.        , 0.        , 0.        , 0.        , 0.        ,\n",
       "       0.        , 0.        , 0.        , 0.        , 0.        ,\n",
       "       0.        , 0.        , 0.        , 0.        , 0.        ,\n",
       "       0.        , 0.        , 0.32941177, 0.7254902 , 0.62352943,\n",
       "       0.5921569 , 0.23529412, 0.14117648, 0.        , 0.        ,\n",
       "       0.        , 0.        , 0.        , 0.        , 0.        ,\n",
       "       0.        , 0.        , 0.        , 0.        , 0.        ,\n",
       "       0.        , 0.        , 0.        , 0.        , 0.        ,\n",
       "       0.        , 0.        , 0.        , 0.        , 0.        ,\n",
       "       0.87058824, 0.99607843, 0.99607843, 0.99607843, 0.99607843,\n",
       "       0.94509804, 0.7764706 , 0.7764706 , 0.7764706 , 0.7764706 ,\n",
       "       0.7764706 , 0.7764706 , 0.7764706 , 0.7764706 , 0.6666667 ,\n",
       "       0.20392157, 0.        , 0.        , 0.        , 0.        ,\n",
       "       0.        , 0.        , 0.        , 0.        , 0.        ,\n",
       "       0.        , 0.        , 0.        , 0.2627451 , 0.44705883,\n",
       "       0.28235295, 0.44705883, 0.6392157 , 0.8901961 , 0.99607843,\n",
       "       0.88235295, 0.99607843, 0.99607843, 0.99607843, 0.98039216,\n",
       "       0.8980392 , 0.99607843, 0.99607843, 0.54901963, 0.        ,\n",
       "       0.        , 0.        , 0.        , 0.        , 0.        ,\n",
       "       0.        , 0.        , 0.        , 0.        , 0.        ,\n",
       "       0.        , 0.        , 0.        , 0.        , 0.        ,\n",
       "       0.        , 0.06666667, 0.25882354, 0.05490196, 0.2627451 ,\n",
       "       0.2627451 , 0.2627451 , 0.23137255, 0.08235294, 0.9254902 ,\n",
       "       0.99607843, 0.41568628, 0.        , 0.        , 0.        ,\n",
       "       0.        , 0.        , 0.        , 0.        , 0.        ,\n",
       "       0.        , 0.        , 0.        , 0.        , 0.        ,\n",
       "       0.        , 0.        , 0.        , 0.        , 0.        ,\n",
       "       0.        , 0.        , 0.        , 0.        , 0.        ,\n",
       "       0.        , 0.3254902 , 0.99215686, 0.81960785, 0.07058824,\n",
       "       0.        , 0.        , 0.        , 0.        , 0.        ,\n",
       "       0.        , 0.        , 0.        , 0.        , 0.        ,\n",
       "       0.        , 0.        , 0.        , 0.        , 0.        ,\n",
       "       0.        , 0.        , 0.        , 0.        , 0.        ,\n",
       "       0.        , 0.        , 0.        , 0.08627451, 0.9137255 ,\n",
       "       1.        , 0.3254902 , 0.        , 0.        , 0.        ,\n",
       "       0.        , 0.        , 0.        , 0.        , 0.        ,\n",
       "       0.        , 0.        , 0.        , 0.        , 0.        ,\n",
       "       0.        , 0.        , 0.        , 0.        , 0.        ,\n",
       "       0.        , 0.        , 0.        , 0.        , 0.        ,\n",
       "       0.        , 0.5058824 , 0.99607843, 0.93333334, 0.17254902,\n",
       "       0.        , 0.        , 0.        , 0.        , 0.        ,\n",
       "       0.        , 0.        , 0.        , 0.        , 0.        ,\n",
       "       0.        , 0.        , 0.        , 0.        , 0.        ,\n",
       "       0.        , 0.        , 0.        , 0.        , 0.        ,\n",
       "       0.        , 0.        , 0.        , 0.23137255, 0.9764706 ,\n",
       "       0.99607843, 0.24313726, 0.        , 0.        , 0.        ,\n",
       "       0.        , 0.        , 0.        , 0.        , 0.        ,\n",
       "       0.        , 0.        , 0.        , 0.        , 0.        ,\n",
       "       0.        , 0.        , 0.        , 0.        , 0.        ,\n",
       "       0.        , 0.        , 0.        , 0.        , 0.        ,\n",
       "       0.        , 0.52156866, 0.99607843, 0.73333335, 0.01960784,\n",
       "       0.        , 0.        , 0.        , 0.        , 0.        ,\n",
       "       0.        , 0.        , 0.        , 0.        , 0.        ,\n",
       "       0.        , 0.        , 0.        , 0.        , 0.        ,\n",
       "       0.        , 0.        , 0.        , 0.        , 0.        ,\n",
       "       0.        , 0.        , 0.        , 0.03529412, 0.8039216 ,\n",
       "       0.972549  , 0.22745098, 0.        , 0.        , 0.        ,\n",
       "       0.        , 0.        , 0.        , 0.        , 0.        ,\n",
       "       0.        , 0.        , 0.        , 0.        , 0.        ,\n",
       "       0.        , 0.        , 0.        , 0.        , 0.        ,\n",
       "       0.        , 0.        , 0.        , 0.        , 0.        ,\n",
       "       0.        , 0.49411765, 0.99607843, 0.7137255 , 0.        ,\n",
       "       0.        , 0.        , 0.        , 0.        , 0.        ,\n",
       "       0.        , 0.        , 0.        , 0.        , 0.        ,\n",
       "       0.        , 0.        , 0.        , 0.        , 0.        ,\n",
       "       0.        , 0.        , 0.        , 0.        , 0.        ,\n",
       "       0.        , 0.        , 0.        , 0.29411766, 0.9843137 ,\n",
       "       0.9411765 , 0.22352941, 0.        , 0.        , 0.        ,\n",
       "       0.        , 0.        , 0.        , 0.        , 0.        ,\n",
       "       0.        , 0.        , 0.        , 0.        , 0.        ,\n",
       "       0.        , 0.        , 0.        , 0.        , 0.        ,\n",
       "       0.        , 0.        , 0.        , 0.        , 0.        ,\n",
       "       0.07450981, 0.8666667 , 0.99607843, 0.6509804 , 0.        ,\n",
       "       0.        , 0.        , 0.        , 0.        , 0.        ,\n",
       "       0.        , 0.        , 0.        , 0.        , 0.        ,\n",
       "       0.        , 0.        , 0.        , 0.        , 0.        ,\n",
       "       0.        , 0.        , 0.        , 0.        , 0.        ,\n",
       "       0.        , 0.        , 0.01176471, 0.79607844, 0.99607843,\n",
       "       0.85882354, 0.13725491, 0.        , 0.        , 0.        ,\n",
       "       0.        , 0.        , 0.        , 0.        , 0.        ,\n",
       "       0.        , 0.        , 0.        , 0.        , 0.        ,\n",
       "       0.        , 0.        , 0.        , 0.        , 0.        ,\n",
       "       0.        , 0.        , 0.        , 0.        , 0.        ,\n",
       "       0.14901961, 0.99607843, 0.99607843, 0.3019608 , 0.        ,\n",
       "       0.        , 0.        , 0.        , 0.        , 0.        ,\n",
       "       0.        , 0.        , 0.        , 0.        , 0.        ,\n",
       "       0.        , 0.        , 0.        , 0.        , 0.        ,\n",
       "       0.        , 0.        , 0.        , 0.        , 0.        ,\n",
       "       0.        , 0.        , 0.12156863, 0.8784314 , 0.99607843,\n",
       "       0.4509804 , 0.00392157, 0.        , 0.        , 0.        ,\n",
       "       0.        , 0.        , 0.        , 0.        , 0.        ,\n",
       "       0.        , 0.        , 0.        , 0.        , 0.        ,\n",
       "       0.        , 0.        , 0.        , 0.        , 0.        ,\n",
       "       0.        , 0.        , 0.        , 0.        , 0.        ,\n",
       "       0.52156866, 0.99607843, 0.99607843, 0.20392157, 0.        ,\n",
       "       0.        , 0.        , 0.        , 0.        , 0.        ,\n",
       "       0.        , 0.        , 0.        , 0.        , 0.        ,\n",
       "       0.        , 0.        , 0.        , 0.        , 0.        ,\n",
       "       0.        , 0.        , 0.        , 0.        , 0.        ,\n",
       "       0.        , 0.        , 0.23921569, 0.9490196 , 0.99607843,\n",
       "       0.99607843, 0.20392157, 0.        , 0.        , 0.        ,\n",
       "       0.        , 0.        , 0.        , 0.        , 0.        ,\n",
       "       0.        , 0.        , 0.        , 0.        , 0.        ,\n",
       "       0.        , 0.        , 0.        , 0.        , 0.        ,\n",
       "       0.        , 0.        , 0.        , 0.        , 0.        ,\n",
       "       0.4745098 , 0.99607843, 0.99607843, 0.85882354, 0.15686275,\n",
       "       0.        , 0.        , 0.        , 0.        , 0.        ,\n",
       "       0.        , 0.        , 0.        , 0.        , 0.        ,\n",
       "       0.        , 0.        , 0.        , 0.        , 0.        ,\n",
       "       0.        , 0.        , 0.        , 0.        , 0.        ,\n",
       "       0.        , 0.        , 0.        , 0.4745098 , 0.99607843,\n",
       "       0.8117647 , 0.07058824, 0.        , 0.        , 0.        ,\n",
       "       0.        , 0.        , 0.        , 0.        , 0.        ,\n",
       "       0.        , 0.        , 0.        , 0.        , 0.        ,\n",
       "       0.        , 0.        , 0.        , 0.        , 0.        ,\n",
       "       0.        , 0.        , 0.        , 0.        , 0.        ,\n",
       "       0.        , 0.        , 0.        , 0.        , 0.        ,\n",
       "       0.        , 0.        , 0.        , 0.        , 0.        ,\n",
       "       0.        , 0.        , 0.        , 0.        , 0.        ,\n",
       "       0.        , 0.        , 0.        , 0.        ], dtype=float32)"
      ]
     },
     "execution_count": 14,
     "metadata": {},
     "output_type": "execute_result"
    }
   ],
   "source": [
    "X_valid[0]"
   ]
  },
  {
   "cell_type": "code",
   "execution_count": 15,
   "metadata": {},
   "outputs": [],
   "source": [
    "n_classes = 10\n",
    "y_train = keras.utils.to_categorical(y_train, n_classes)\n",
    "y_valid = keras.utils.to_categorical(y_valid, n_classes)"
   ]
  },
  {
   "cell_type": "code",
   "execution_count": 16,
   "metadata": {},
   "outputs": [
    {
     "data": {
      "text/plain": [
       "array([0., 0., 0., 0., 0., 0., 0., 1., 0., 0.], dtype=float32)"
      ]
     },
     "execution_count": 16,
     "metadata": {},
     "output_type": "execute_result"
    }
   ],
   "source": [
    "y_valid[0]"
   ]
  },
  {
   "cell_type": "markdown",
   "metadata": {},
   "source": [
    "#### 신경망 구조 설계"
   ]
  },
  {
   "cell_type": "code",
   "execution_count": 17,
   "metadata": {},
   "outputs": [],
   "source": [
    "model = Sequential()\n",
    "model.add(Dense(64, activation='sigmoid', input_shape=(784,)))\n",
    "model.add(Dense(10, activation='softmax'))"
   ]
  },
  {
   "cell_type": "code",
   "execution_count": 18,
   "metadata": {},
   "outputs": [
    {
     "name": "stdout",
     "output_type": "stream",
     "text": [
      "Model: \"sequential\"\n",
      "_________________________________________________________________\n",
      "Layer (type)                 Output Shape              Param #   \n",
      "=================================================================\n",
      "dense (Dense)                (None, 64)                50240     \n",
      "_________________________________________________________________\n",
      "dense_1 (Dense)              (None, 10)                650       \n",
      "=================================================================\n",
      "Total params: 50,890\n",
      "Trainable params: 50,890\n",
      "Non-trainable params: 0\n",
      "_________________________________________________________________\n"
     ]
    }
   ],
   "source": [
    "model.summary()"
   ]
  },
  {
   "cell_type": "code",
   "execution_count": 19,
   "metadata": {},
   "outputs": [
    {
     "data": {
      "text/plain": [
       "50176"
      ]
     },
     "execution_count": 19,
     "metadata": {},
     "output_type": "execute_result"
    }
   ],
   "source": [
    "(64*784)"
   ]
  },
  {
   "cell_type": "code",
   "execution_count": 20,
   "metadata": {},
   "outputs": [
    {
     "data": {
      "text/plain": [
       "50240"
      ]
     },
     "execution_count": 20,
     "metadata": {},
     "output_type": "execute_result"
    }
   ],
   "source": [
    "(64*784)+64"
   ]
  },
  {
   "cell_type": "code",
   "execution_count": 21,
   "metadata": {},
   "outputs": [
    {
     "data": {
      "text/plain": [
       "650"
      ]
     },
     "execution_count": 21,
     "metadata": {},
     "output_type": "execute_result"
    }
   ],
   "source": [
    "(10*64)+10"
   ]
  },
  {
   "cell_type": "markdown",
   "metadata": {},
   "source": [
    "#### 모델 컴파일"
   ]
  },
  {
   "cell_type": "code",
   "execution_count": 22,
   "metadata": {},
   "outputs": [],
   "source": [
    "model.compile(loss='mean_squared_error', optimizer=SGD(lr=0.01), metrics=['accuracy'])"
   ]
  },
  {
   "cell_type": "markdown",
   "metadata": {},
   "source": [
    "#### 훈련!"
   ]
  },
  {
   "cell_type": "code",
   "execution_count": 23,
   "metadata": {},
   "outputs": [
    {
     "name": "stdout",
     "output_type": "stream",
     "text": [
      "Epoch 1/200\n",
      "469/469 [==============================] - 2s 3ms/step - loss: 0.0931 - accuracy: 0.1025 - val_loss: 0.0924 - val_accuracy: 0.1058\n",
      "Epoch 2/200\n",
      "469/469 [==============================] - 1s 3ms/step - loss: 0.0921 - accuracy: 0.1205 - val_loss: 0.0916 - val_accuracy: 0.1263\n",
      "Epoch 3/200\n",
      "469/469 [==============================] - 1s 3ms/step - loss: 0.0914 - accuracy: 0.1390 - val_loss: 0.0910 - val_accuracy: 0.1439\n",
      "Epoch 4/200\n",
      "469/469 [==============================] - 1s 3ms/step - loss: 0.0908 - accuracy: 0.1531 - val_loss: 0.0905 - val_accuracy: 0.1608\n",
      "Epoch 5/200\n",
      "469/469 [==============================] - 1s 3ms/step - loss: 0.0904 - accuracy: 0.1729 - val_loss: 0.0901 - val_accuracy: 0.1901\n",
      "Epoch 6/200\n",
      "469/469 [==============================] - 1s 3ms/step - loss: 0.0900 - accuracy: 0.2088 - val_loss: 0.0897 - val_accuracy: 0.2289\n",
      "Epoch 7/200\n",
      "469/469 [==============================] - 1s 3ms/step - loss: 0.0896 - accuracy: 0.2456 - val_loss: 0.0893 - val_accuracy: 0.2623\n",
      "Epoch 8/200\n",
      "469/469 [==============================] - 1s 3ms/step - loss: 0.0893 - accuracy: 0.2700 - val_loss: 0.0890 - val_accuracy: 0.2841\n",
      "Epoch 9/200\n",
      "469/469 [==============================] - 1s 3ms/step - loss: 0.0889 - accuracy: 0.2867 - val_loss: 0.0886 - val_accuracy: 0.2998\n",
      "Epoch 10/200\n",
      "469/469 [==============================] - 1s 3ms/step - loss: 0.0886 - accuracy: 0.2968 - val_loss: 0.0883 - val_accuracy: 0.3097\n",
      "Epoch 11/200\n",
      "469/469 [==============================] - 1s 3ms/step - loss: 0.0883 - accuracy: 0.3058 - val_loss: 0.0880 - val_accuracy: 0.3155\n",
      "Epoch 12/200\n",
      "469/469 [==============================] - 1s 3ms/step - loss: 0.0880 - accuracy: 0.3077 - val_loss: 0.0877 - val_accuracy: 0.3179\n",
      "Epoch 13/200\n",
      "469/469 [==============================] - 1s 3ms/step - loss: 0.0876 - accuracy: 0.3115 - val_loss: 0.0873 - val_accuracy: 0.3199\n",
      "Epoch 14/200\n",
      "469/469 [==============================] - 1s 3ms/step - loss: 0.0873 - accuracy: 0.3149 - val_loss: 0.0870 - val_accuracy: 0.3259\n",
      "Epoch 15/200\n",
      "469/469 [==============================] - 1s 3ms/step - loss: 0.0870 - accuracy: 0.3220 - val_loss: 0.0866 - val_accuracy: 0.3352\n",
      "Epoch 16/200\n",
      "469/469 [==============================] - 1s 3ms/step - loss: 0.0866 - accuracy: 0.3346 - val_loss: 0.0863 - val_accuracy: 0.3485\n",
      "Epoch 17/200\n",
      "469/469 [==============================] - 1s 3ms/step - loss: 0.0863 - accuracy: 0.3499 - val_loss: 0.0859 - val_accuracy: 0.3665\n",
      "Epoch 18/200\n",
      "469/469 [==============================] - 1s 3ms/step - loss: 0.0859 - accuracy: 0.3689 - val_loss: 0.0856 - val_accuracy: 0.3851\n",
      "Epoch 19/200\n",
      "469/469 [==============================] - 1s 3ms/step - loss: 0.0856 - accuracy: 0.3847 - val_loss: 0.0852 - val_accuracy: 0.4037\n",
      "Epoch 20/200\n",
      "469/469 [==============================] - 1s 3ms/step - loss: 0.0852 - accuracy: 0.4022 - val_loss: 0.0848 - val_accuracy: 0.4182\n",
      "Epoch 21/200\n",
      "469/469 [==============================] - 1s 3ms/step - loss: 0.0848 - accuracy: 0.4162 - val_loss: 0.0844 - val_accuracy: 0.4317\n",
      "Epoch 22/200\n",
      "469/469 [==============================] - 1s 3ms/step - loss: 0.0844 - accuracy: 0.4281 - val_loss: 0.0840 - val_accuracy: 0.4429\n",
      "Epoch 23/200\n",
      "469/469 [==============================] - 1s 3ms/step - loss: 0.0841 - accuracy: 0.4377 - val_loss: 0.0836 - val_accuracy: 0.4512\n",
      "Epoch 24/200\n",
      "469/469 [==============================] - 1s 3ms/step - loss: 0.0837 - accuracy: 0.4469 - val_loss: 0.0832 - val_accuracy: 0.4572\n",
      "Epoch 25/200\n",
      "469/469 [==============================] - 1s 3ms/step - loss: 0.0833 - accuracy: 0.4520 - val_loss: 0.0828 - val_accuracy: 0.4637\n",
      "Epoch 26/200\n",
      "469/469 [==============================] - 1s 3ms/step - loss: 0.0829 - accuracy: 0.4577 - val_loss: 0.0824 - val_accuracy: 0.4702\n",
      "Epoch 27/200\n",
      "469/469 [==============================] - 1s 3ms/step - loss: 0.0825 - accuracy: 0.4633 - val_loss: 0.0820 - val_accuracy: 0.4756\n",
      "Epoch 28/200\n",
      "469/469 [==============================] - 1s 3ms/step - loss: 0.0821 - accuracy: 0.4666 - val_loss: 0.0816 - val_accuracy: 0.4808\n",
      "Epoch 29/200\n",
      "469/469 [==============================] - 1s 3ms/step - loss: 0.0816 - accuracy: 0.4711 - val_loss: 0.0812 - val_accuracy: 0.4859\n",
      "Epoch 30/200\n",
      "469/469 [==============================] - 1s 3ms/step - loss: 0.0812 - accuracy: 0.4758 - val_loss: 0.0807 - val_accuracy: 0.4891\n",
      "Epoch 31/200\n",
      "469/469 [==============================] - 1s 3ms/step - loss: 0.0808 - accuracy: 0.4794 - val_loss: 0.0803 - val_accuracy: 0.4927\n",
      "Epoch 32/200\n",
      "469/469 [==============================] - 1s 3ms/step - loss: 0.0804 - accuracy: 0.4823 - val_loss: 0.0799 - val_accuracy: 0.4973\n",
      "Epoch 33/200\n",
      "469/469 [==============================] - 1s 3ms/step - loss: 0.0799 - accuracy: 0.4855 - val_loss: 0.0794 - val_accuracy: 0.5008\n",
      "Epoch 34/200\n",
      "469/469 [==============================] - 1s 3ms/step - loss: 0.0795 - accuracy: 0.4885 - val_loss: 0.0790 - val_accuracy: 0.5027\n",
      "Epoch 35/200\n",
      "469/469 [==============================] - 1s 3ms/step - loss: 0.0791 - accuracy: 0.4906 - val_loss: 0.0785 - val_accuracy: 0.5046\n",
      "Epoch 36/200\n",
      "469/469 [==============================] - 1s 3ms/step - loss: 0.0786 - accuracy: 0.4955 - val_loss: 0.0781 - val_accuracy: 0.5086\n",
      "Epoch 37/200\n",
      "469/469 [==============================] - 1s 3ms/step - loss: 0.0782 - accuracy: 0.4975 - val_loss: 0.0776 - val_accuracy: 0.5117\n",
      "Epoch 38/200\n",
      "469/469 [==============================] - 1s 3ms/step - loss: 0.0777 - accuracy: 0.5013 - val_loss: 0.0771 - val_accuracy: 0.5142\n",
      "Epoch 39/200\n",
      "469/469 [==============================] - 1s 3ms/step - loss: 0.0773 - accuracy: 0.5041 - val_loss: 0.0767 - val_accuracy: 0.5166\n",
      "Epoch 40/200\n",
      "469/469 [==============================] - 1s 3ms/step - loss: 0.0768 - accuracy: 0.5066 - val_loss: 0.0762 - val_accuracy: 0.5196\n",
      "Epoch 41/200\n",
      "469/469 [==============================] - 1s 3ms/step - loss: 0.0764 - accuracy: 0.5099 - val_loss: 0.0757 - val_accuracy: 0.5218\n",
      "Epoch 42/200\n",
      "469/469 [==============================] - 1s 3ms/step - loss: 0.0759 - accuracy: 0.5140 - val_loss: 0.0753 - val_accuracy: 0.5245\n",
      "Epoch 43/200\n",
      "469/469 [==============================] - 1s 3ms/step - loss: 0.0754 - accuracy: 0.5181 - val_loss: 0.0748 - val_accuracy: 0.5273\n",
      "Epoch 44/200\n",
      "469/469 [==============================] - 1s 3ms/step - loss: 0.0750 - accuracy: 0.5209 - val_loss: 0.0743 - val_accuracy: 0.5311\n",
      "Epoch 45/200\n",
      "469/469 [==============================] - 1s 3ms/step - loss: 0.0745 - accuracy: 0.5232 - val_loss: 0.0738 - val_accuracy: 0.5338\n",
      "Epoch 46/200\n",
      "469/469 [==============================] - 1s 3ms/step - loss: 0.0740 - accuracy: 0.5290 - val_loss: 0.0733 - val_accuracy: 0.5373\n",
      "Epoch 47/200\n",
      "469/469 [==============================] - 1s 3ms/step - loss: 0.0736 - accuracy: 0.5308 - val_loss: 0.0729 - val_accuracy: 0.5413\n",
      "Epoch 48/200\n",
      "469/469 [==============================] - 1s 3ms/step - loss: 0.0731 - accuracy: 0.5345 - val_loss: 0.0724 - val_accuracy: 0.5449\n",
      "Epoch 49/200\n",
      "469/469 [==============================] - 1s 3ms/step - loss: 0.0726 - accuracy: 0.5385 - val_loss: 0.0719 - val_accuracy: 0.5472\n",
      "Epoch 50/200\n",
      "469/469 [==============================] - 1s 3ms/step - loss: 0.0721 - accuracy: 0.5417 - val_loss: 0.0714 - val_accuracy: 0.5501\n",
      "Epoch 51/200\n",
      "469/469 [==============================] - 1s 3ms/step - loss: 0.0717 - accuracy: 0.5445 - val_loss: 0.0709 - val_accuracy: 0.5535\n",
      "Epoch 52/200\n",
      "469/469 [==============================] - 1s 3ms/step - loss: 0.0712 - accuracy: 0.5489 - val_loss: 0.0704 - val_accuracy: 0.5566\n",
      "Epoch 53/200\n",
      "469/469 [==============================] - 1s 3ms/step - loss: 0.0707 - accuracy: 0.5527 - val_loss: 0.0699 - val_accuracy: 0.5604\n",
      "Epoch 54/200\n",
      "469/469 [==============================] - 1s 3ms/step - loss: 0.0702 - accuracy: 0.5554 - val_loss: 0.0695 - val_accuracy: 0.5645\n",
      "Epoch 55/200\n",
      "469/469 [==============================] - 1s 3ms/step - loss: 0.0698 - accuracy: 0.5599 - val_loss: 0.0690 - val_accuracy: 0.5675\n",
      "Epoch 56/200\n",
      "469/469 [==============================] - 1s 3ms/step - loss: 0.0693 - accuracy: 0.5627 - val_loss: 0.0685 - val_accuracy: 0.5712\n",
      "Epoch 57/200\n",
      "469/469 [==============================] - 1s 3ms/step - loss: 0.0688 - accuracy: 0.5657 - val_loss: 0.0680 - val_accuracy: 0.5746\n"
     ]
    },
    {
     "name": "stdout",
     "output_type": "stream",
     "text": [
      "Epoch 58/200\n",
      "469/469 [==============================] - 1s 3ms/step - loss: 0.0683 - accuracy: 0.5689 - val_loss: 0.0675 - val_accuracy: 0.5778\n",
      "Epoch 59/200\n",
      "469/469 [==============================] - 1s 3ms/step - loss: 0.0678 - accuracy: 0.5728 - val_loss: 0.0670 - val_accuracy: 0.5815\n",
      "Epoch 60/200\n",
      "469/469 [==============================] - 1s 3ms/step - loss: 0.0674 - accuracy: 0.5762 - val_loss: 0.0665 - val_accuracy: 0.5856\n",
      "Epoch 61/200\n",
      "469/469 [==============================] - 1s 3ms/step - loss: 0.0669 - accuracy: 0.5794 - val_loss: 0.0660 - val_accuracy: 0.5897\n",
      "Epoch 62/200\n",
      "469/469 [==============================] - 1s 3ms/step - loss: 0.0664 - accuracy: 0.5827 - val_loss: 0.0655 - val_accuracy: 0.5932\n",
      "Epoch 63/200\n",
      "469/469 [==============================] - 1s 3ms/step - loss: 0.0659 - accuracy: 0.5864 - val_loss: 0.0651 - val_accuracy: 0.5972\n",
      "Epoch 64/200\n",
      "469/469 [==============================] - 1s 3ms/step - loss: 0.0655 - accuracy: 0.5896 - val_loss: 0.0646 - val_accuracy: 0.6016\n",
      "Epoch 65/200\n",
      "469/469 [==============================] - 1s 3ms/step - loss: 0.0650 - accuracy: 0.5935 - val_loss: 0.0641 - val_accuracy: 0.6048\n",
      "Epoch 66/200\n",
      "469/469 [==============================] - 1s 3ms/step - loss: 0.0645 - accuracy: 0.5975 - val_loss: 0.0636 - val_accuracy: 0.6088\n",
      "Epoch 67/200\n",
      "469/469 [==============================] - 1s 3ms/step - loss: 0.0640 - accuracy: 0.6008 - val_loss: 0.0631 - val_accuracy: 0.6127\n",
      "Epoch 68/200\n",
      "469/469 [==============================] - 1s 3ms/step - loss: 0.0636 - accuracy: 0.6054 - val_loss: 0.0626 - val_accuracy: 0.6174\n",
      "Epoch 69/200\n",
      "469/469 [==============================] - 1s 3ms/step - loss: 0.0631 - accuracy: 0.6107 - val_loss: 0.0622 - val_accuracy: 0.6215\n",
      "Epoch 70/200\n",
      "469/469 [==============================] - 1s 3ms/step - loss: 0.0626 - accuracy: 0.6147 - val_loss: 0.0617 - val_accuracy: 0.6265\n",
      "Epoch 71/200\n",
      "469/469 [==============================] - 1s 3ms/step - loss: 0.0621 - accuracy: 0.6188 - val_loss: 0.0612 - val_accuracy: 0.6311\n",
      "Epoch 72/200\n",
      "469/469 [==============================] - 1s 3ms/step - loss: 0.0617 - accuracy: 0.6241 - val_loss: 0.0607 - val_accuracy: 0.6375\n",
      "Epoch 73/200\n",
      "469/469 [==============================] - 1s 3ms/step - loss: 0.0612 - accuracy: 0.6295 - val_loss: 0.0602 - val_accuracy: 0.6432\n",
      "Epoch 74/200\n",
      "469/469 [==============================] - 1s 3ms/step - loss: 0.0607 - accuracy: 0.6350 - val_loss: 0.0598 - val_accuracy: 0.6483\n",
      "Epoch 75/200\n",
      "469/469 [==============================] - 1s 3ms/step - loss: 0.0603 - accuracy: 0.6409 - val_loss: 0.0593 - val_accuracy: 0.6539\n",
      "Epoch 76/200\n",
      "469/469 [==============================] - 1s 3ms/step - loss: 0.0598 - accuracy: 0.6468 - val_loss: 0.0588 - val_accuracy: 0.6587\n",
      "Epoch 77/200\n",
      "469/469 [==============================] - 1s 3ms/step - loss: 0.0594 - accuracy: 0.6531 - val_loss: 0.0584 - val_accuracy: 0.6650\n",
      "Epoch 78/200\n",
      "469/469 [==============================] - 1s 3ms/step - loss: 0.0589 - accuracy: 0.6589 - val_loss: 0.0579 - val_accuracy: 0.6721\n",
      "Epoch 79/200\n",
      "469/469 [==============================] - 1s 3ms/step - loss: 0.0584 - accuracy: 0.6647 - val_loss: 0.0574 - val_accuracy: 0.6767\n",
      "Epoch 80/200\n",
      "469/469 [==============================] - 1s 3ms/step - loss: 0.0580 - accuracy: 0.6709 - val_loss: 0.0570 - val_accuracy: 0.6833\n",
      "Epoch 81/200\n",
      "469/469 [==============================] - 1s 3ms/step - loss: 0.0575 - accuracy: 0.6770 - val_loss: 0.0565 - val_accuracy: 0.6892\n",
      "Epoch 82/200\n",
      "469/469 [==============================] - 1s 3ms/step - loss: 0.0571 - accuracy: 0.6826 - val_loss: 0.0561 - val_accuracy: 0.6948\n",
      "Epoch 83/200\n",
      "469/469 [==============================] - 1s 3ms/step - loss: 0.0566 - accuracy: 0.6880 - val_loss: 0.0556 - val_accuracy: 0.6996\n",
      "Epoch 84/200\n",
      "469/469 [==============================] - 1s 3ms/step - loss: 0.0562 - accuracy: 0.6931 - val_loss: 0.0552 - val_accuracy: 0.7045\n",
      "Epoch 85/200\n",
      "469/469 [==============================] - 1s 3ms/step - loss: 0.0557 - accuracy: 0.6976 - val_loss: 0.0547 - val_accuracy: 0.7090\n",
      "Epoch 86/200\n",
      "469/469 [==============================] - 1s 3ms/step - loss: 0.0553 - accuracy: 0.7023 - val_loss: 0.0543 - val_accuracy: 0.7138\n",
      "Epoch 87/200\n",
      "469/469 [==============================] - 1s 3ms/step - loss: 0.0549 - accuracy: 0.7060 - val_loss: 0.0538 - val_accuracy: 0.7179\n",
      "Epoch 88/200\n",
      "469/469 [==============================] - 1s 3ms/step - loss: 0.0544 - accuracy: 0.7100 - val_loss: 0.0534 - val_accuracy: 0.7212\n",
      "Epoch 89/200\n",
      "469/469 [==============================] - 1s 3ms/step - loss: 0.0540 - accuracy: 0.7131 - val_loss: 0.0530 - val_accuracy: 0.7241\n",
      "Epoch 90/200\n",
      "469/469 [==============================] - 1s 3ms/step - loss: 0.0536 - accuracy: 0.7161 - val_loss: 0.0525 - val_accuracy: 0.7287\n",
      "Epoch 91/200\n",
      "469/469 [==============================] - 1s 3ms/step - loss: 0.0531 - accuracy: 0.7198 - val_loss: 0.0521 - val_accuracy: 0.7319\n",
      "Epoch 92/200\n",
      "469/469 [==============================] - 1s 3ms/step - loss: 0.0527 - accuracy: 0.7225 - val_loss: 0.0517 - val_accuracy: 0.7351\n",
      "Epoch 93/200\n",
      "469/469 [==============================] - 1s 3ms/step - loss: 0.0523 - accuracy: 0.7250 - val_loss: 0.0513 - val_accuracy: 0.7376\n",
      "Epoch 94/200\n",
      "469/469 [==============================] - 1s 3ms/step - loss: 0.0519 - accuracy: 0.7275 - val_loss: 0.0508 - val_accuracy: 0.7399\n",
      "Epoch 95/200\n",
      "469/469 [==============================] - 1s 3ms/step - loss: 0.0515 - accuracy: 0.7301 - val_loss: 0.0504 - val_accuracy: 0.7422\n",
      "Epoch 96/200\n",
      "469/469 [==============================] - 1s 3ms/step - loss: 0.0510 - accuracy: 0.7329 - val_loss: 0.0500 - val_accuracy: 0.7441\n",
      "Epoch 97/200\n",
      "469/469 [==============================] - 1s 3ms/step - loss: 0.0506 - accuracy: 0.7357 - val_loss: 0.0496 - val_accuracy: 0.7460\n",
      "Epoch 98/200\n",
      "469/469 [==============================] - 1s 3ms/step - loss: 0.0502 - accuracy: 0.7374 - val_loss: 0.0492 - val_accuracy: 0.7488\n",
      "Epoch 99/200\n",
      "469/469 [==============================] - 1s 3ms/step - loss: 0.0498 - accuracy: 0.7391 - val_loss: 0.0488 - val_accuracy: 0.7512\n",
      "Epoch 100/200\n",
      "469/469 [==============================] - 1s 3ms/step - loss: 0.0494 - accuracy: 0.7411 - val_loss: 0.0484 - val_accuracy: 0.7523\n",
      "Epoch 101/200\n",
      "469/469 [==============================] - 1s 3ms/step - loss: 0.0491 - accuracy: 0.7431 - val_loss: 0.0480 - val_accuracy: 0.7536\n",
      "Epoch 102/200\n",
      "469/469 [==============================] - 1s 3ms/step - loss: 0.0487 - accuracy: 0.7452 - val_loss: 0.0476 - val_accuracy: 0.7555\n",
      "Epoch 103/200\n",
      "469/469 [==============================] - 1s 3ms/step - loss: 0.0483 - accuracy: 0.7475 - val_loss: 0.0472 - val_accuracy: 0.7583\n",
      "Epoch 104/200\n",
      "469/469 [==============================] - 1s 3ms/step - loss: 0.0479 - accuracy: 0.7493 - val_loss: 0.0469 - val_accuracy: 0.7599\n",
      "Epoch 105/200\n",
      "469/469 [==============================] - 1s 3ms/step - loss: 0.0475 - accuracy: 0.7517 - val_loss: 0.0465 - val_accuracy: 0.7622\n",
      "Epoch 106/200\n",
      "469/469 [==============================] - 1s 3ms/step - loss: 0.0472 - accuracy: 0.7533 - val_loss: 0.0461 - val_accuracy: 0.7640\n",
      "Epoch 107/200\n",
      "469/469 [==============================] - 1s 3ms/step - loss: 0.0468 - accuracy: 0.7552 - val_loss: 0.0457 - val_accuracy: 0.7665\n",
      "Epoch 108/200\n",
      "469/469 [==============================] - 1s 3ms/step - loss: 0.0464 - accuracy: 0.7570 - val_loss: 0.0454 - val_accuracy: 0.7685\n",
      "Epoch 109/200\n",
      "469/469 [==============================] - 1s 3ms/step - loss: 0.0461 - accuracy: 0.7583 - val_loss: 0.0450 - val_accuracy: 0.7707\n",
      "Epoch 110/200\n",
      "469/469 [==============================] - 1s 3ms/step - loss: 0.0457 - accuracy: 0.7602 - val_loss: 0.0447 - val_accuracy: 0.7739\n",
      "Epoch 111/200\n",
      "469/469 [==============================] - 1s 3ms/step - loss: 0.0454 - accuracy: 0.7620 - val_loss: 0.0443 - val_accuracy: 0.7760\n",
      "Epoch 112/200\n",
      "469/469 [==============================] - 1s 3ms/step - loss: 0.0450 - accuracy: 0.7641 - val_loss: 0.0440 - val_accuracy: 0.7772\n",
      "Epoch 113/200\n",
      "469/469 [==============================] - 1s 3ms/step - loss: 0.0447 - accuracy: 0.7657 - val_loss: 0.0436 - val_accuracy: 0.7788\n",
      "Epoch 114/200\n",
      "469/469 [==============================] - 1s 3ms/step - loss: 0.0443 - accuracy: 0.7679 - val_loss: 0.0433 - val_accuracy: 0.7799\n"
     ]
    },
    {
     "name": "stdout",
     "output_type": "stream",
     "text": [
      "Epoch 115/200\n",
      "469/469 [==============================] - 1s 3ms/step - loss: 0.0440 - accuracy: 0.7695 - val_loss: 0.0430 - val_accuracy: 0.7821\n",
      "Epoch 116/200\n",
      "469/469 [==============================] - 1s 3ms/step - loss: 0.0437 - accuracy: 0.7711 - val_loss: 0.0426 - val_accuracy: 0.7841\n",
      "Epoch 117/200\n",
      "469/469 [==============================] - 1s 3ms/step - loss: 0.0434 - accuracy: 0.7727 - val_loss: 0.0423 - val_accuracy: 0.7856\n",
      "Epoch 118/200\n",
      "469/469 [==============================] - 1s 3ms/step - loss: 0.0430 - accuracy: 0.7746 - val_loss: 0.0420 - val_accuracy: 0.7871\n",
      "Epoch 119/200\n",
      "469/469 [==============================] - 1s 3ms/step - loss: 0.0427 - accuracy: 0.7766 - val_loss: 0.0417 - val_accuracy: 0.7900\n",
      "Epoch 120/200\n",
      "469/469 [==============================] - 1s 3ms/step - loss: 0.0424 - accuracy: 0.7784 - val_loss: 0.0414 - val_accuracy: 0.7921\n",
      "Epoch 121/200\n",
      "469/469 [==============================] - 1s 3ms/step - loss: 0.0421 - accuracy: 0.7808 - val_loss: 0.0411 - val_accuracy: 0.7937\n",
      "Epoch 122/200\n",
      "469/469 [==============================] - 1s 3ms/step - loss: 0.0418 - accuracy: 0.7833 - val_loss: 0.0408 - val_accuracy: 0.7961\n",
      "Epoch 123/200\n",
      "469/469 [==============================] - 1s 3ms/step - loss: 0.0415 - accuracy: 0.7849 - val_loss: 0.0405 - val_accuracy: 0.7984\n",
      "Epoch 124/200\n",
      "469/469 [==============================] - 1s 3ms/step - loss: 0.0412 - accuracy: 0.7869 - val_loss: 0.0402 - val_accuracy: 0.7999\n",
      "Epoch 125/200\n",
      "469/469 [==============================] - 1s 3ms/step - loss: 0.0409 - accuracy: 0.7891 - val_loss: 0.0399 - val_accuracy: 0.8017\n",
      "Epoch 126/200\n",
      "469/469 [==============================] - 1s 3ms/step - loss: 0.0406 - accuracy: 0.7913 - val_loss: 0.0396 - val_accuracy: 0.8038\n",
      "Epoch 127/200\n",
      "469/469 [==============================] - 1s 3ms/step - loss: 0.0403 - accuracy: 0.7931 - val_loss: 0.0393 - val_accuracy: 0.8060\n",
      "Epoch 128/200\n",
      "469/469 [==============================] - 1s 3ms/step - loss: 0.0401 - accuracy: 0.7957 - val_loss: 0.0390 - val_accuracy: 0.8081\n",
      "Epoch 129/200\n",
      "469/469 [==============================] - 1s 3ms/step - loss: 0.0398 - accuracy: 0.7978 - val_loss: 0.0387 - val_accuracy: 0.8098\n",
      "Epoch 130/200\n",
      "469/469 [==============================] - 1s 3ms/step - loss: 0.0395 - accuracy: 0.7997 - val_loss: 0.0385 - val_accuracy: 0.8124\n",
      "Epoch 131/200\n",
      "469/469 [==============================] - 1s 3ms/step - loss: 0.0392 - accuracy: 0.8018 - val_loss: 0.0382 - val_accuracy: 0.8145\n",
      "Epoch 132/200\n",
      "469/469 [==============================] - 1s 3ms/step - loss: 0.0390 - accuracy: 0.8035 - val_loss: 0.0379 - val_accuracy: 0.8163\n",
      "Epoch 133/200\n",
      "469/469 [==============================] - 1s 3ms/step - loss: 0.0387 - accuracy: 0.8052 - val_loss: 0.0377 - val_accuracy: 0.8177\n",
      "Epoch 134/200\n",
      "469/469 [==============================] - 1s 3ms/step - loss: 0.0385 - accuracy: 0.8072 - val_loss: 0.0374 - val_accuracy: 0.8192\n",
      "Epoch 135/200\n",
      "469/469 [==============================] - 1s 3ms/step - loss: 0.0382 - accuracy: 0.8091 - val_loss: 0.0372 - val_accuracy: 0.8208\n",
      "Epoch 136/200\n",
      "469/469 [==============================] - 1s 3ms/step - loss: 0.0380 - accuracy: 0.8107 - val_loss: 0.0369 - val_accuracy: 0.8224\n",
      "Epoch 137/200\n",
      "469/469 [==============================] - 1s 3ms/step - loss: 0.0377 - accuracy: 0.8126 - val_loss: 0.0367 - val_accuracy: 0.8238\n",
      "Epoch 138/200\n",
      "469/469 [==============================] - 1s 3ms/step - loss: 0.0375 - accuracy: 0.8142 - val_loss: 0.0364 - val_accuracy: 0.8249\n",
      "Epoch 139/200\n",
      "469/469 [==============================] - 1s 3ms/step - loss: 0.0372 - accuracy: 0.8157 - val_loss: 0.0362 - val_accuracy: 0.8268\n",
      "Epoch 140/200\n",
      "469/469 [==============================] - 1s 3ms/step - loss: 0.0370 - accuracy: 0.8174 - val_loss: 0.0359 - val_accuracy: 0.8289\n",
      "Epoch 141/200\n",
      "469/469 [==============================] - 1s 3ms/step - loss: 0.0368 - accuracy: 0.8191 - val_loss: 0.0357 - val_accuracy: 0.8303\n",
      "Epoch 142/200\n",
      "469/469 [==============================] - 1s 3ms/step - loss: 0.0365 - accuracy: 0.8205 - val_loss: 0.0355 - val_accuracy: 0.8319\n",
      "Epoch 143/200\n",
      "469/469 [==============================] - 1s 3ms/step - loss: 0.0363 - accuracy: 0.8217 - val_loss: 0.0352 - val_accuracy: 0.8335\n",
      "Epoch 144/200\n",
      "469/469 [==============================] - 1s 3ms/step - loss: 0.0361 - accuracy: 0.8227 - val_loss: 0.0350 - val_accuracy: 0.8349\n",
      "Epoch 145/200\n",
      "469/469 [==============================] - 1s 3ms/step - loss: 0.0358 - accuracy: 0.8242 - val_loss: 0.0348 - val_accuracy: 0.8363\n",
      "Epoch 146/200\n",
      "469/469 [==============================] - 1s 3ms/step - loss: 0.0356 - accuracy: 0.8255 - val_loss: 0.0346 - val_accuracy: 0.8372\n",
      "Epoch 147/200\n",
      "469/469 [==============================] - 1s 3ms/step - loss: 0.0354 - accuracy: 0.8267 - val_loss: 0.0344 - val_accuracy: 0.8384\n",
      "Epoch 148/200\n",
      "469/469 [==============================] - 1s 3ms/step - loss: 0.0352 - accuracy: 0.8279 - val_loss: 0.0341 - val_accuracy: 0.8392\n",
      "Epoch 149/200\n",
      "469/469 [==============================] - 1s 3ms/step - loss: 0.0350 - accuracy: 0.8293 - val_loss: 0.0339 - val_accuracy: 0.8400\n",
      "Epoch 150/200\n",
      "469/469 [==============================] - 1s 3ms/step - loss: 0.0348 - accuracy: 0.8305 - val_loss: 0.0337 - val_accuracy: 0.8408\n",
      "Epoch 151/200\n",
      "469/469 [==============================] - 1s 3ms/step - loss: 0.0346 - accuracy: 0.8316 - val_loss: 0.0335 - val_accuracy: 0.8423\n",
      "Epoch 152/200\n",
      "469/469 [==============================] - 1s 3ms/step - loss: 0.0344 - accuracy: 0.8327 - val_loss: 0.0333 - val_accuracy: 0.8436\n",
      "Epoch 153/200\n",
      "469/469 [==============================] - 1s 3ms/step - loss: 0.0342 - accuracy: 0.8344 - val_loss: 0.0331 - val_accuracy: 0.8440\n",
      "Epoch 154/200\n",
      "469/469 [==============================] - 1s 3ms/step - loss: 0.0340 - accuracy: 0.8352 - val_loss: 0.0329 - val_accuracy: 0.8446\n",
      "Epoch 155/200\n",
      "469/469 [==============================] - 1s 3ms/step - loss: 0.0338 - accuracy: 0.8365 - val_loss: 0.0327 - val_accuracy: 0.8460\n",
      "Epoch 156/200\n",
      "469/469 [==============================] - 1s 3ms/step - loss: 0.0336 - accuracy: 0.8373 - val_loss: 0.0325 - val_accuracy: 0.8462\n",
      "Epoch 157/200\n",
      "469/469 [==============================] - 1s 3ms/step - loss: 0.0334 - accuracy: 0.8385 - val_loss: 0.0324 - val_accuracy: 0.8469\n",
      "Epoch 158/200\n",
      "469/469 [==============================] - 1s 3ms/step - loss: 0.0332 - accuracy: 0.8395 - val_loss: 0.0322 - val_accuracy: 0.8481\n",
      "Epoch 159/200\n",
      "469/469 [==============================] - 1s 3ms/step - loss: 0.0330 - accuracy: 0.8406 - val_loss: 0.0320 - val_accuracy: 0.8495\n",
      "Epoch 160/200\n",
      "469/469 [==============================] - 1s 3ms/step - loss: 0.0329 - accuracy: 0.8414 - val_loss: 0.0318 - val_accuracy: 0.8508\n",
      "Epoch 161/200\n",
      "469/469 [==============================] - 1s 3ms/step - loss: 0.0327 - accuracy: 0.8420 - val_loss: 0.0316 - val_accuracy: 0.8512\n",
      "Epoch 162/200\n",
      "469/469 [==============================] - 1s 3ms/step - loss: 0.0325 - accuracy: 0.8428 - val_loss: 0.0314 - val_accuracy: 0.8521\n",
      "Epoch 163/200\n",
      "469/469 [==============================] - 1s 3ms/step - loss: 0.0323 - accuracy: 0.8439 - val_loss: 0.0313 - val_accuracy: 0.8532\n",
      "Epoch 164/200\n",
      "469/469 [==============================] - 1s 3ms/step - loss: 0.0322 - accuracy: 0.8450 - val_loss: 0.0311 - val_accuracy: 0.8535\n",
      "Epoch 165/200\n",
      "469/469 [==============================] - 1s 3ms/step - loss: 0.0320 - accuracy: 0.8455 - val_loss: 0.0309 - val_accuracy: 0.8540\n",
      "Epoch 166/200\n",
      "469/469 [==============================] - 1s 3ms/step - loss: 0.0318 - accuracy: 0.8464 - val_loss: 0.0308 - val_accuracy: 0.8542\n",
      "Epoch 167/200\n",
      "469/469 [==============================] - 1s 3ms/step - loss: 0.0316 - accuracy: 0.8471 - val_loss: 0.0306 - val_accuracy: 0.8552\n",
      "Epoch 168/200\n",
      "469/469 [==============================] - 1s 3ms/step - loss: 0.0315 - accuracy: 0.8478 - val_loss: 0.0304 - val_accuracy: 0.8562\n",
      "Epoch 169/200\n",
      "469/469 [==============================] - 1s 3ms/step - loss: 0.0313 - accuracy: 0.8483 - val_loss: 0.0303 - val_accuracy: 0.8568\n",
      "Epoch 170/200\n",
      "469/469 [==============================] - 1s 3ms/step - loss: 0.0312 - accuracy: 0.8489 - val_loss: 0.0301 - val_accuracy: 0.8575\n",
      "Epoch 171/200\n",
      "469/469 [==============================] - 1s 3ms/step - loss: 0.0310 - accuracy: 0.8493 - val_loss: 0.0300 - val_accuracy: 0.8585\n",
      "Epoch 172/200\n",
      "469/469 [==============================] - 1s 3ms/step - loss: 0.0309 - accuracy: 0.8496 - val_loss: 0.0298 - val_accuracy: 0.8594\n",
      "Epoch 173/200\n",
      "469/469 [==============================] - 1s 3ms/step - loss: 0.0307 - accuracy: 0.8504 - val_loss: 0.0297 - val_accuracy: 0.8597\n",
      "Epoch 174/200\n",
      "469/469 [==============================] - 1s 3ms/step - loss: 0.0306 - accuracy: 0.8510 - val_loss: 0.0295 - val_accuracy: 0.8600\n",
      "Epoch 175/200\n",
      "469/469 [==============================] - 1s 3ms/step - loss: 0.0304 - accuracy: 0.8517 - val_loss: 0.0294 - val_accuracy: 0.8604\n",
      "Epoch 176/200\n",
      "469/469 [==============================] - 1s 3ms/step - loss: 0.0303 - accuracy: 0.8521 - val_loss: 0.0292 - val_accuracy: 0.8615\n",
      "Epoch 177/200\n",
      "469/469 [==============================] - 1s 3ms/step - loss: 0.0301 - accuracy: 0.8527 - val_loss: 0.0291 - val_accuracy: 0.8620\n",
      "Epoch 178/200\n",
      "469/469 [==============================] - 1s 3ms/step - loss: 0.0300 - accuracy: 0.8534 - val_loss: 0.0289 - val_accuracy: 0.8621\n",
      "Epoch 179/200\n",
      "469/469 [==============================] - 1s 3ms/step - loss: 0.0298 - accuracy: 0.8539 - val_loss: 0.0288 - val_accuracy: 0.8625\n",
      "Epoch 180/200\n",
      "469/469 [==============================] - 1s 3ms/step - loss: 0.0297 - accuracy: 0.8546 - val_loss: 0.0287 - val_accuracy: 0.8630\n",
      "Epoch 181/200\n",
      "469/469 [==============================] - 1s 3ms/step - loss: 0.0296 - accuracy: 0.8550 - val_loss: 0.0285 - val_accuracy: 0.8634\n",
      "Epoch 182/200\n",
      "469/469 [==============================] - 1s 3ms/step - loss: 0.0294 - accuracy: 0.8552 - val_loss: 0.0284 - val_accuracy: 0.8637\n",
      "Epoch 183/200\n",
      "469/469 [==============================] - 1s 3ms/step - loss: 0.0293 - accuracy: 0.8558 - val_loss: 0.0282 - val_accuracy: 0.8642\n",
      "Epoch 184/200\n",
      "469/469 [==============================] - 1s 3ms/step - loss: 0.0292 - accuracy: 0.8563 - val_loss: 0.0281 - val_accuracy: 0.8646\n",
      "Epoch 185/200\n",
      "469/469 [==============================] - 1s 3ms/step - loss: 0.0290 - accuracy: 0.8565 - val_loss: 0.0280 - val_accuracy: 0.8649\n",
      "Epoch 186/200\n",
      "469/469 [==============================] - 1s 3ms/step - loss: 0.0289 - accuracy: 0.8569 - val_loss: 0.0279 - val_accuracy: 0.8652\n",
      "Epoch 187/200\n",
      "469/469 [==============================] - 1s 3ms/step - loss: 0.0288 - accuracy: 0.8573 - val_loss: 0.0277 - val_accuracy: 0.8655\n",
      "Epoch 188/200\n",
      "469/469 [==============================] - 1s 3ms/step - loss: 0.0286 - accuracy: 0.8576 - val_loss: 0.0276 - val_accuracy: 0.8658\n",
      "Epoch 189/200\n",
      "469/469 [==============================] - 1s 3ms/step - loss: 0.0285 - accuracy: 0.8585 - val_loss: 0.0275 - val_accuracy: 0.8662\n",
      "Epoch 190/200\n",
      "469/469 [==============================] - 1s 3ms/step - loss: 0.0284 - accuracy: 0.8588 - val_loss: 0.0274 - val_accuracy: 0.8665\n",
      "Epoch 191/200\n",
      "469/469 [==============================] - 1s 3ms/step - loss: 0.0283 - accuracy: 0.8591 - val_loss: 0.0272 - val_accuracy: 0.8676\n",
      "Epoch 192/200\n",
      "469/469 [==============================] - 1s 3ms/step - loss: 0.0282 - accuracy: 0.8597 - val_loss: 0.0271 - val_accuracy: 0.8681\n",
      "Epoch 193/200\n",
      "469/469 [==============================] - 1s 3ms/step - loss: 0.0280 - accuracy: 0.8601 - val_loss: 0.0270 - val_accuracy: 0.8688\n",
      "Epoch 194/200\n",
      "469/469 [==============================] - 1s 3ms/step - loss: 0.0279 - accuracy: 0.8605 - val_loss: 0.0269 - val_accuracy: 0.8691\n",
      "Epoch 195/200\n",
      "469/469 [==============================] - 1s 3ms/step - loss: 0.0278 - accuracy: 0.8608 - val_loss: 0.0268 - val_accuracy: 0.8696\n",
      "Epoch 196/200\n",
      "469/469 [==============================] - 1s 3ms/step - loss: 0.0277 - accuracy: 0.8614 - val_loss: 0.0267 - val_accuracy: 0.8700\n",
      "Epoch 197/200\n",
      "469/469 [==============================] - 1s 3ms/step - loss: 0.0276 - accuracy: 0.8617 - val_loss: 0.0266 - val_accuracy: 0.8703\n",
      "Epoch 198/200\n",
      "469/469 [==============================] - 1s 3ms/step - loss: 0.0275 - accuracy: 0.8622 - val_loss: 0.0264 - val_accuracy: 0.8709\n",
      "Epoch 199/200\n",
      "469/469 [==============================] - 1s 3ms/step - loss: 0.0274 - accuracy: 0.8627 - val_loss: 0.0263 - val_accuracy: 0.8713\n",
      "Epoch 200/200\n",
      "469/469 [==============================] - 1s 3ms/step - loss: 0.0273 - accuracy: 0.8631 - val_loss: 0.0262 - val_accuracy: 0.8714\n"
     ]
    },
    {
     "data": {
      "text/plain": [
       "<tensorflow.python.keras.callbacks.History at 0x7f1ebb53be10>"
      ]
     },
     "execution_count": 23,
     "metadata": {},
     "output_type": "execute_result"
    }
   ],
   "source": [
    "model.fit(X_train, y_train, batch_size=128, epochs=200, verbose=1, validation_data=(X_valid, y_valid))"
   ]
  },
  {
   "cell_type": "code",
   "execution_count": 24,
   "metadata": {},
   "outputs": [
    {
     "name": "stdout",
     "output_type": "stream",
     "text": [
      "313/313 [==============================] - 1s 2ms/step - loss: 0.0262 - accuracy: 0.8714\n"
     ]
    },
    {
     "data": {
      "text/plain": [
       "[0.026233600452542305, 0.871399998664856]"
      ]
     },
     "execution_count": 24,
     "metadata": {},
     "output_type": "execute_result"
    }
   ],
   "source": [
    "model.evaluate(X_valid, y_valid)"
   ]
  }
 ],
 "metadata": {
  "kernelspec": {
   "display_name": "TensorFlow 2.3 on Python 3.6 (CUDA 10.1)",
   "language": "python",
   "name": "python3"
  },
  "language_info": {
   "codemirror_mode": {
    "name": "ipython",
    "version": 3
   },
   "file_extension": ".py",
   "mimetype": "text/x-python",
   "name": "python",
   "nbconvert_exporter": "python",
   "pygments_lexer": "ipython3",
   "version": "3.6.9"
  }
 },
 "nbformat": 4,
 "nbformat_minor": 2
}
