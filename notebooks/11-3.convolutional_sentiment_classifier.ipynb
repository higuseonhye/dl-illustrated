{
  "nbformat": 4,
  "nbformat_minor": 0,
  "metadata": {
    "kernelspec": {
      "display_name": "TensorFlow 2.3 on Python 3.6 (CUDA 10.1)",
      "language": "python",
      "name": "python3"
    },
    "language_info": {
      "codemirror_mode": {
        "name": "ipython",
        "version": 3
      },
      "file_extension": ".py",
      "mimetype": "text/x-python",
      "name": "python",
      "nbconvert_exporter": "python",
      "pygments_lexer": "ipython3",
      "version": "3.6.9"
    },
    "colab": {
      "name": "11-3.convolutional_sentiment_classifier.ipynb",
      "provenance": []
    },
    "accelerator": "GPU"
  },
  "cells": [
    {
      "cell_type": "markdown",
      "metadata": {
        "id": "auGi4mKeedKV"
      },
      "source": [
        "# 합성곱 신경망 감성 분류기"
      ]
    },
    {
      "cell_type": "markdown",
      "metadata": {
        "id": "NdydZ8qLedKZ"
      },
      "source": [
        "이 노트북에서는 *합성곱 신경망* 을 만들어 감성에 따라 IMDB 영화 리뷰를 분류합니다."
      ]
    },
    {
      "cell_type": "markdown",
      "metadata": {
        "id": "yaRCfJDGedKZ"
      },
      "source": [
        "[![Open In Colab](https://colab.research.google.com/assets/colab-badge.svg)](https://colab.research.google.com/github/rickiepark/dl-illustrated/blob/master/notebooks/11-3.convolutional_sentiment_classifier.ipynb)"
      ]
    },
    {
      "cell_type": "markdown",
      "metadata": {
        "id": "WPCt_xn8edKa"
      },
      "source": [
        "#### 라이브러리를 적재합니다."
      ]
    },
    {
      "cell_type": "code",
      "metadata": {
        "id": "D9J5OaqoedKa"
      },
      "source": [
        "from tensorflow import keras\n",
        "from tensorflow.keras.datasets import imdb\n",
        "from tensorflow.keras.preprocessing.sequence import pad_sequences\n",
        "from tensorflow.keras.models import Sequential\n",
        "from tensorflow.keras.layers import Dense, Dropout, Embedding\n",
        "from tensorflow.keras.layers import SpatialDropout1D, Conv1D, GlobalMaxPooling1D # new! \n",
        "from tensorflow.keras.callbacks import ModelCheckpoint\n",
        "import os\n",
        "from sklearn.metrics import roc_auc_score \n",
        "import matplotlib.pyplot as plt \n",
        "%matplotlib inline"
      ],
      "execution_count": 1,
      "outputs": []
    },
    {
      "cell_type": "markdown",
      "metadata": {
        "id": "BaeNAlqcedKa"
      },
      "source": [
        "#### 하이퍼파라미터를 설정합니다."
      ]
    },
    {
      "cell_type": "code",
      "metadata": {
        "id": "MK_04yixedKb"
      },
      "source": [
        "# 출력 디렉토리\n",
        "output_dir = 'model_output/conv'\n",
        "\n",
        "# 훈련\n",
        "epochs = 4\n",
        "batch_size = 128\n",
        "\n",
        "# 벡터 공간 임베딩\n",
        "n_dim = 64\n",
        "n_unique_words = 5000 \n",
        "max_review_length = 400\n",
        "pad_type = trunc_type = 'pre'\n",
        "drop_embed = 0.2 # new!\n",
        "\n",
        "# 합성곱 층 구조\n",
        "n_conv = 256 # 필터 또는 커널\n",
        "k_conv = 3 # 커널 크기\n",
        "\n",
        "# 밀집 층 구조\n",
        "n_dense = 256\n",
        "dropout = 0.2"
      ],
      "execution_count": 2,
      "outputs": []
    },
    {
      "cell_type": "markdown",
      "metadata": {
        "id": "sBZnWN9gedKb"
      },
      "source": [
        "#### 데이터를 적재합니다."
      ]
    },
    {
      "cell_type": "code",
      "metadata": {
        "id": "yg9LmFJ8edKb",
        "outputId": "90b6c53a-b1c7-4bf6-8611-d39aa14e9656",
        "colab": {
          "base_uri": "https://localhost:8080/"
        }
      },
      "source": [
        "(x_train, y_train), (x_valid, y_valid) = imdb.load_data(num_words=n_unique_words) # n_words_to_skip 삭제"
      ],
      "execution_count": 3,
      "outputs": [
        {
          "output_type": "stream",
          "text": [
            "Downloading data from https://storage.googleapis.com/tensorflow/tf-keras-datasets/imdb.npz\n",
            "17465344/17464789 [==============================] - 0s 0us/step\n"
          ],
          "name": "stdout"
        },
        {
          "output_type": "stream",
          "text": [
            "<string>:6: VisibleDeprecationWarning: Creating an ndarray from ragged nested sequences (which is a list-or-tuple of lists-or-tuples-or ndarrays with different lengths or shapes) is deprecated. If you meant to do this, you must specify 'dtype=object' when creating the ndarray\n",
            "/usr/local/lib/python3.6/dist-packages/tensorflow/python/keras/datasets/imdb.py:159: VisibleDeprecationWarning: Creating an ndarray from ragged nested sequences (which is a list-or-tuple of lists-or-tuples-or ndarrays with different lengths or shapes) is deprecated. If you meant to do this, you must specify 'dtype=object' when creating the ndarray\n",
            "  x_train, y_train = np.array(xs[:idx]), np.array(labels[:idx])\n",
            "/usr/local/lib/python3.6/dist-packages/tensorflow/python/keras/datasets/imdb.py:160: VisibleDeprecationWarning: Creating an ndarray from ragged nested sequences (which is a list-or-tuple of lists-or-tuples-or ndarrays with different lengths or shapes) is deprecated. If you meant to do this, you must specify 'dtype=object' when creating the ndarray\n",
            "  x_test, y_test = np.array(xs[idx:]), np.array(labels[idx:])\n"
          ],
          "name": "stderr"
        }
      ]
    },
    {
      "cell_type": "markdown",
      "metadata": {
        "id": "Dk3Gka77edKb"
      },
      "source": [
        "#### 데이터 전처리"
      ]
    },
    {
      "cell_type": "code",
      "metadata": {
        "id": "QbJE8l5eedKb"
      },
      "source": [
        "x_train = pad_sequences(x_train, maxlen=max_review_length, padding=pad_type, truncating=trunc_type, value=0)\n",
        "x_valid = pad_sequences(x_valid, maxlen=max_review_length, padding=pad_type, truncating=trunc_type, value=0)"
      ],
      "execution_count": 4,
      "outputs": []
    },
    {
      "cell_type": "markdown",
      "metadata": {
        "collapsed": true,
        "id": "wu4BFVGledKc"
      },
      "source": [
        "#### 신경망 만들기"
      ]
    },
    {
      "cell_type": "code",
      "metadata": {
        "id": "URo-oVAaedKc"
      },
      "source": [
        "model = Sequential()\n",
        "model.add(Embedding(n_unique_words, n_dim, input_length=max_review_length)) \n",
        "model.add(SpatialDropout1D(drop_embed))\n",
        "model.add(Conv1D(n_conv, k_conv, activation='relu'))\n",
        "# model.add(Conv1D(n_conv, k_conv, activation='relu'))\n",
        "model.add(GlobalMaxPooling1D())\n",
        "model.add(Dense(n_dense, activation='relu'))\n",
        "model.add(Dropout(dropout))\n",
        "model.add(Dense(1, activation='sigmoid'))"
      ],
      "execution_count": 5,
      "outputs": []
    },
    {
      "cell_type": "code",
      "metadata": {
        "id": "ojXnH4rWedKc",
        "outputId": "d6b09f20-f92b-4a16-a4ad-6c318f9054bf",
        "colab": {
          "base_uri": "https://localhost:8080/"
        }
      },
      "source": [
        "model.summary() "
      ],
      "execution_count": 6,
      "outputs": [
        {
          "output_type": "stream",
          "text": [
            "Model: \"sequential\"\n",
            "_________________________________________________________________\n",
            "Layer (type)                 Output Shape              Param #   \n",
            "=================================================================\n",
            "embedding (Embedding)        (None, 400, 64)           320000    \n",
            "_________________________________________________________________\n",
            "spatial_dropout1d (SpatialDr (None, 400, 64)           0         \n",
            "_________________________________________________________________\n",
            "conv1d (Conv1D)              (None, 398, 256)          49408     \n",
            "_________________________________________________________________\n",
            "global_max_pooling1d (Global (None, 256)               0         \n",
            "_________________________________________________________________\n",
            "dense (Dense)                (None, 256)               65792     \n",
            "_________________________________________________________________\n",
            "dropout (Dropout)            (None, 256)               0         \n",
            "_________________________________________________________________\n",
            "dense_1 (Dense)              (None, 1)                 257       \n",
            "=================================================================\n",
            "Total params: 435,457\n",
            "Trainable params: 435,457\n",
            "Non-trainable params: 0\n",
            "_________________________________________________________________\n"
          ],
          "name": "stdout"
        }
      ]
    },
    {
      "cell_type": "markdown",
      "metadata": {
        "id": "VIkDFiPvedKd"
      },
      "source": [
        "#### 모델 설정"
      ]
    },
    {
      "cell_type": "code",
      "metadata": {
        "id": "fRr-3qHpedKd"
      },
      "source": [
        "model.compile(loss='binary_crossentropy', optimizer='adam', metrics=['accuracy'])"
      ],
      "execution_count": 7,
      "outputs": []
    },
    {
      "cell_type": "code",
      "metadata": {
        "id": "m0hsJJDFedKd"
      },
      "source": [
        "modelcheckpoint = ModelCheckpoint(filepath=output_dir+\"/weights.{epoch:02d}.hdf5\")\n",
        "if not os.path.exists(output_dir):\n",
        "    os.makedirs(output_dir)"
      ],
      "execution_count": 8,
      "outputs": []
    },
    {
      "cell_type": "markdown",
      "metadata": {
        "id": "2SH1LfBKedKd"
      },
      "source": [
        "#### 훈련!"
      ]
    },
    {
      "cell_type": "code",
      "metadata": {
        "id": "JJaA6icoedKd",
        "outputId": "cd269835-c6b9-4d68-8661-6cd498cf31dd",
        "colab": {
          "base_uri": "https://localhost:8080/"
        }
      },
      "source": [
        "model.fit(x_train, y_train, batch_size=batch_size, epochs=epochs, verbose=1, validation_data=(x_valid, y_valid), callbacks=[modelcheckpoint])"
      ],
      "execution_count": 9,
      "outputs": [
        {
          "output_type": "stream",
          "text": [
            "Epoch 1/4\n",
            "196/196 [==============================] - 13s 30ms/step - loss: 0.6139 - accuracy: 0.6364 - val_loss: 0.3024 - val_accuracy: 0.8712\n",
            "Epoch 2/4\n",
            "196/196 [==============================] - 5s 28ms/step - loss: 0.2659 - accuracy: 0.8888 - val_loss: 0.2555 - val_accuracy: 0.8937\n",
            "Epoch 3/4\n",
            "196/196 [==============================] - 5s 28ms/step - loss: 0.1657 - accuracy: 0.9381 - val_loss: 0.2582 - val_accuracy: 0.8937\n",
            "Epoch 4/4\n",
            "196/196 [==============================] - 5s 28ms/step - loss: 0.1109 - accuracy: 0.9631 - val_loss: 0.2902 - val_accuracy: 0.8910\n"
          ],
          "name": "stdout"
        },
        {
          "output_type": "execute_result",
          "data": {
            "text/plain": [
              "<tensorflow.python.keras.callbacks.History at 0x7fccd9912780>"
            ]
          },
          "metadata": {
            "tags": []
          },
          "execution_count": 9
        }
      ]
    },
    {
      "cell_type": "markdown",
      "metadata": {
        "collapsed": true,
        "id": "tMmBgaAAedKd"
      },
      "source": [
        "#### 평가"
      ]
    },
    {
      "cell_type": "code",
      "metadata": {
        "id": "3DUIAj7AedKe"
      },
      "source": [
        "model.load_weights(output_dir+\"/weights.03.hdf5\") "
      ],
      "execution_count": 10,
      "outputs": []
    },
    {
      "cell_type": "code",
      "metadata": {
        "id": "mWdoH1XvedKe"
      },
      "source": [
        "y_hat = model.predict(x_valid)"
      ],
      "execution_count": 11,
      "outputs": []
    },
    {
      "cell_type": "code",
      "metadata": {
        "scrolled": true,
        "id": "WRUXrp89edKe",
        "outputId": "d2f0f1c2-3ad7-4dec-ec3f-3c5a9499f2d1",
        "colab": {
          "base_uri": "https://localhost:8080/",
          "height": 265
        }
      },
      "source": [
        "plt.hist(y_hat)\n",
        "_ = plt.axvline(x=0.5, color='orange')"
      ],
      "execution_count": 12,
      "outputs": [
        {
          "output_type": "display_data",
          "data": {
            "image/png": "[encoded data removed]",
            "text/plain": [
              "<Figure size 432x288 with 1 Axes>"
            ]
          },
          "metadata": {
            "tags": [],
            "needs_background": "light"
          }
        }
      ]
    },
    {
      "cell_type": "code",
      "metadata": {
        "id": "MQM27NWTedKe",
        "outputId": "e53e7276-b5f2-42a5-effd-2737ace7ca63",
        "colab": {
          "base_uri": "https://localhost:8080/",
          "height": 35
        }
      },
      "source": [
        "\"{:0.2f}\".format(roc_auc_score(y_valid, y_hat)*100.0)"
      ],
      "execution_count": 13,
      "outputs": [
        {
          "output_type": "execute_result",
          "data": {
            "application/vnd.google.colaboratory.intrinsic+json": {
              "type": "string"
            },
            "text/plain": [
              "'96.10'"
            ]
          },
          "metadata": {
            "tags": []
          },
          "execution_count": 13
        }
      ]
    }
  ]
}