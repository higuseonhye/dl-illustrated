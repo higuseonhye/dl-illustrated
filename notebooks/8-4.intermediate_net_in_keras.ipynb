{
  "nbformat": 4,
  "nbformat_minor": 0,
  "metadata": {
    "kernelspec": {
      "display_name": "TensorFlow 2.3 on Python 3.6 (CUDA 10.1)",
      "language": "python",
      "name": "python3"
    },
    "language_info": {
      "codemirror_mode": {
        "name": "ipython",
        "version": 3
      },
      "file_extension": ".py",
      "mimetype": "text/x-python",
      "name": "python",
      "nbconvert_exporter": "python",
      "pygments_lexer": "ipython3",
      "version": "3.6.9"
    },
    "colab": {
      "name": "8-4.intermediate_net_in_keras.ipynb",
      "provenance": []
    },
    "accelerator": "GPU"
  },
  "cells": [
    {
      "cell_type": "markdown",
      "metadata": {
        "id": "nCGY1Tt9yXEX"
      },
      "source": [
        "# 케라스로 중간 깊이 신경망 만들기"
      ]
    },
    {
      "cell_type": "markdown",
      "metadata": {
        "id": "-_CQynIXyXEd"
      },
      "source": [
        "이 노트북에서 지금까지 다룬 이론을 적용해 [얕은 신경망](https://github.com/the-deep-learners/deep-learning-illustrated/blob/master/notebooks/5-1.shallow_net_in_keras.ipynb)을 발전시켜 보겠습니다."
      ]
    },
    {
      "cell_type": "markdown",
      "metadata": {
        "id": "dx9A9ov2yXEd"
      },
      "source": [
        "[![Open In Colab](https://colab.research.google.com/assets/colab-badge.svg)](https://colab.research.google.com/github/rickiepark/dl-illustrated/blob/master/notebooks/8-4.intermediate_net_in_keras.ipynb)"
      ]
    },
    {
      "cell_type": "markdown",
      "metadata": {
        "id": "6qfrQhM2yXEe"
      },
      "source": [
        "#### 라이브러리를 적재합니다."
      ]
    },
    {
      "cell_type": "code",
      "metadata": {
        "id": "0soySK3DyXEe"
      },
      "source": [
        "from tensorflow import keras\n",
        "from tensorflow.keras.datasets import mnist\n",
        "from tensorflow.keras.models import Sequential\n",
        "from tensorflow.keras.layers import Dense\n",
        "from tensorflow.keras.optimizers import SGD"
      ],
      "execution_count": 1,
      "outputs": []
    },
    {
      "cell_type": "markdown",
      "metadata": {
        "id": "4csC82MayXEf"
      },
      "source": [
        "#### 데이터를 적재합니다."
      ]
    },
    {
      "cell_type": "code",
      "metadata": {
        "id": "0nayoW6VyXEf",
        "colab": {
          "base_uri": "https://localhost:8080/"
        },
        "outputId": "49026552-0b0d-4afb-9007-e82b60ef8b0b"
      },
      "source": [
        "(X_train, y_train), (X_valid, y_valid) = mnist.load_data()"
      ],
      "execution_count": 2,
      "outputs": [
        {
          "output_type": "stream",
          "text": [
            "Downloading data from https://storage.googleapis.com/tensorflow/tf-keras-datasets/mnist.npz\n",
            "11493376/11490434 [==============================] - 0s 0us/step\n"
          ],
          "name": "stdout"
        }
      ]
    },
    {
      "cell_type": "markdown",
      "metadata": {
        "id": "FfrvC7U0yXEf"
      },
      "source": [
        "#### 데이터를 전처리합니다."
      ]
    },
    {
      "cell_type": "code",
      "metadata": {
        "id": "QUJaYClIyXEf"
      },
      "source": [
        "X_train = X_train.reshape(60000, 784).astype('float32')\n",
        "X_valid = X_valid.reshape(10000, 784).astype('float32')"
      ],
      "execution_count": 3,
      "outputs": []
    },
    {
      "cell_type": "code",
      "metadata": {
        "id": "xZs4S5HzyXEg"
      },
      "source": [
        "X_train /= 255\n",
        "X_valid /= 255"
      ],
      "execution_count": 4,
      "outputs": []
    },
    {
      "cell_type": "code",
      "metadata": {
        "id": "6mX4MhlRyXEg"
      },
      "source": [
        "n_classes = 10\n",
        "y_train = keras.utils.to_categorical(y_train, n_classes)\n",
        "y_valid = keras.utils.to_categorical(y_valid, n_classes)"
      ],
      "execution_count": 5,
      "outputs": []
    },
    {
      "cell_type": "markdown",
      "metadata": {
        "id": "un3qPpxuyXEg"
      },
      "source": [
        "#### 신경망을 만듭니다."
      ]
    },
    {
      "cell_type": "code",
      "metadata": {
        "id": "eU5DiMF8yXEg"
      },
      "source": [
        "model = Sequential()\n",
        "model.add(Dense(64, activation='relu', input_shape=(784,)))\n",
        "model.add(Dense(64, activation='relu'))\n",
        "model.add(Dense(10, activation='softmax'))"
      ],
      "execution_count": 6,
      "outputs": []
    },
    {
      "cell_type": "code",
      "metadata": {
        "id": "s1XIoz5xyXEg",
        "colab": {
          "base_uri": "https://localhost:8080/"
        },
        "outputId": "f3715ea7-68ff-4699-b95c-27999b171522"
      },
      "source": [
        "model.summary()"
      ],
      "execution_count": 7,
      "outputs": [
        {
          "output_type": "stream",
          "text": [
            "Model: \"sequential\"\n",
            "_________________________________________________________________\n",
            "Layer (type)                 Output Shape              Param #   \n",
            "=================================================================\n",
            "dense (Dense)                (None, 64)                50240     \n",
            "_________________________________________________________________\n",
            "dense_1 (Dense)              (None, 64)                4160      \n",
            "_________________________________________________________________\n",
            "dense_2 (Dense)              (None, 10)                650       \n",
            "=================================================================\n",
            "Total params: 55,050\n",
            "Trainable params: 55,050\n",
            "Non-trainable params: 0\n",
            "_________________________________________________________________\n"
          ],
          "name": "stdout"
        }
      ]
    },
    {
      "cell_type": "markdown",
      "metadata": {
        "id": "aecR4zeOyXEh"
      },
      "source": [
        "#### 모델을 컴파일합니다."
      ]
    },
    {
      "cell_type": "code",
      "metadata": {
        "id": "U6hvCeQyyXEi"
      },
      "source": [
        "model.compile(loss='categorical_crossentropy', optimizer=SGD(learning_rate=0.1), metrics=['accuracy'])"
      ],
      "execution_count": 8,
      "outputs": []
    },
    {
      "cell_type": "markdown",
      "metadata": {
        "id": "w0LMR5llyXEi"
      },
      "source": [
        "#### 훈련!"
      ]
    },
    {
      "cell_type": "code",
      "metadata": {
        "id": "YXaISMyWyXEi",
        "colab": {
          "base_uri": "https://localhost:8080/"
        },
        "outputId": "98cd1a8a-7902-46b2-a5c8-9c7512314996"
      },
      "source": [
        "model.fit(X_train, y_train, batch_size=128, epochs=20, verbose=1, validation_data=(X_valid, y_valid))"
      ],
      "execution_count": 9,
      "outputs": [
        {
          "output_type": "stream",
          "text": [
            "Epoch 1/20\n",
            "469/469 [==============================] - 4s 3ms/step - loss: 0.4958 - accuracy: 0.8597 - val_loss: 0.2753 - val_accuracy: 0.9256\n",
            "Epoch 2/20\n",
            "469/469 [==============================] - 1s 3ms/step - loss: 0.2424 - accuracy: 0.9297 - val_loss: 0.1996 - val_accuracy: 0.9439\n",
            "Epoch 3/20\n",
            "469/469 [==============================] - 1s 3ms/step - loss: 0.1853 - accuracy: 0.9463 - val_loss: 0.1700 - val_accuracy: 0.9484\n",
            "Epoch 4/20\n",
            "469/469 [==============================] - 1s 3ms/step - loss: 0.1511 - accuracy: 0.9564 - val_loss: 0.1590 - val_accuracy: 0.9540\n",
            "Epoch 5/20\n",
            "469/469 [==============================] - 1s 3ms/step - loss: 0.1292 - accuracy: 0.9621 - val_loss: 0.1259 - val_accuracy: 0.9613\n",
            "Epoch 6/20\n",
            "469/469 [==============================] - 1s 3ms/step - loss: 0.1125 - accuracy: 0.9668 - val_loss: 0.1218 - val_accuracy: 0.9636\n",
            "Epoch 7/20\n",
            "469/469 [==============================] - 1s 3ms/step - loss: 0.0999 - accuracy: 0.9703 - val_loss: 0.1277 - val_accuracy: 0.9608\n",
            "Epoch 8/20\n",
            "469/469 [==============================] - 1s 3ms/step - loss: 0.0907 - accuracy: 0.9732 - val_loss: 0.1068 - val_accuracy: 0.9672\n",
            "Epoch 9/20\n",
            "469/469 [==============================] - 1s 3ms/step - loss: 0.0831 - accuracy: 0.9753 - val_loss: 0.1028 - val_accuracy: 0.9691\n",
            "Epoch 10/20\n",
            "469/469 [==============================] - 1s 3ms/step - loss: 0.0756 - accuracy: 0.9780 - val_loss: 0.1081 - val_accuracy: 0.9659\n",
            "Epoch 11/20\n",
            "469/469 [==============================] - 1s 3ms/step - loss: 0.0696 - accuracy: 0.9794 - val_loss: 0.0944 - val_accuracy: 0.9723\n",
            "Epoch 12/20\n",
            "469/469 [==============================] - 1s 3ms/step - loss: 0.0639 - accuracy: 0.9813 - val_loss: 0.0955 - val_accuracy: 0.9712\n",
            "Epoch 13/20\n",
            "469/469 [==============================] - 1s 3ms/step - loss: 0.0608 - accuracy: 0.9821 - val_loss: 0.0904 - val_accuracy: 0.9725\n",
            "Epoch 14/20\n",
            "469/469 [==============================] - 1s 3ms/step - loss: 0.0552 - accuracy: 0.9836 - val_loss: 0.0906 - val_accuracy: 0.9732\n",
            "Epoch 15/20\n",
            "469/469 [==============================] - 1s 3ms/step - loss: 0.0522 - accuracy: 0.9846 - val_loss: 0.0880 - val_accuracy: 0.9756\n",
            "Epoch 16/20\n",
            "469/469 [==============================] - 1s 3ms/step - loss: 0.0475 - accuracy: 0.9857 - val_loss: 0.0842 - val_accuracy: 0.9752\n",
            "Epoch 17/20\n",
            "469/469 [==============================] - 1s 3ms/step - loss: 0.0446 - accuracy: 0.9870 - val_loss: 0.0885 - val_accuracy: 0.9752\n",
            "Epoch 18/20\n",
            "469/469 [==============================] - 1s 3ms/step - loss: 0.0425 - accuracy: 0.9874 - val_loss: 0.0884 - val_accuracy: 0.9740\n",
            "Epoch 19/20\n",
            "469/469 [==============================] - 1s 3ms/step - loss: 0.0390 - accuracy: 0.9885 - val_loss: 0.0859 - val_accuracy: 0.9741\n",
            "Epoch 20/20\n",
            "469/469 [==============================] - 1s 3ms/step - loss: 0.0362 - accuracy: 0.9894 - val_loss: 0.0848 - val_accuracy: 0.9754\n"
          ],
          "name": "stdout"
        },
        {
          "output_type": "execute_result",
          "data": {
            "text/plain": [
              "<tensorflow.python.keras.callbacks.History at 0x7f54dfbb0c90>"
            ]
          },
          "metadata": {
            "tags": []
          },
          "execution_count": 9
        }
      ]
    }
  ]
}