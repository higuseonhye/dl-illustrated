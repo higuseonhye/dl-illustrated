{
  "nbformat": 4,
  "nbformat_minor": 0,
  "metadata": {
    "kernelspec": {
      "display_name": "TensorFlow 2.3 on Python 3.6 (CUDA 10.1)",
      "language": "python",
      "name": "python3"
    },
    "language_info": {
      "codemirror_mode": {
        "name": "ipython",
        "version": 3
      },
      "file_extension": ".py",
      "mimetype": "text/x-python",
      "name": "python",
      "nbconvert_exporter": "python",
      "pygments_lexer": "ipython3",
      "version": "3.6.9"
    },
    "colab": {
      "name": "8-4.intermediate_net_in_keras.ipynb",
      "provenance": []
    },
    "accelerator": "GPU"
  },
  "cells": [
    {
      "cell_type": "markdown",
      "metadata": {
        "id": "nCGY1Tt9yXEX"
      },
      "source": [
        "# 케라스로 중간 깊이 신경망 만들기"
      ]
    },
    {
      "cell_type": "markdown",
      "metadata": {
        "id": "-_CQynIXyXEd"
      },
      "source": [
        "이 노트북에서 지금까지 다룬 이론을 적용해 [얕은 신경망](https://github.com/the-deep-learners/deep-learning-illustrated/blob/master/notebooks/5-1.shallow_net_in_keras.ipynb)을 발전시켜 보겠습니다."
      ]
    },
    {
      "cell_type": "markdown",
      "metadata": {
        "id": "dx9A9ov2yXEd"
      },
      "source": [
        "[![Open In Colab](https://colab.research.google.com/assets/colab-badge.svg)](https://colab.research.google.com/github/rickiepark/dl-illustrated/blob/master/notebooks/8-4.intermediate_net_in_keras.ipynb)"
      ]
    },
    {
      "cell_type": "markdown",
      "metadata": {
        "id": "6qfrQhM2yXEe"
      },
      "source": [
        "#### 라이브러리를 적재합니다."
      ]
    },
    {
      "cell_type": "code",
      "metadata": {
        "id": "0soySK3DyXEe"
      },
      "source": [
        "from tensorflow import keras\n",
        "from tensorflow.keras.datasets import mnist\n",
        "from tensorflow.keras.models import Sequential\n",
        "from tensorflow.keras.layers import Dense\n",
        "from tensorflow.keras.optimizers import SGD"
      ],
      "execution_count": 1,
      "outputs": []
    },
    {
      "cell_type": "markdown",
      "metadata": {
        "id": "4csC82MayXEf"
      },
      "source": [
        "#### 데이터를 적재합니다."
      ]
    },
    {
      "cell_type": "code",
      "metadata": {
        "id": "0nayoW6VyXEf",
        "outputId": "b849de9c-9522-4674-d863-98837ee8fc74",
        "colab": {
          "base_uri": "https://localhost:8080/"
        }
      },
      "source": [
        "(X_train, y_train), (X_valid, y_valid) = mnist.load_data()"
      ],
      "execution_count": 2,
      "outputs": [
        {
          "output_type": "stream",
          "text": [
            "Downloading data from https://storage.googleapis.com/tensorflow/tf-keras-datasets/mnist.npz\n",
            "11493376/11490434 [==============================] - 0s 0us/step\n"
          ],
          "name": "stdout"
        }
      ]
    },
    {
      "cell_type": "markdown",
      "metadata": {
        "id": "FfrvC7U0yXEf"
      },
      "source": [
        "#### 데이터를 전처리합니다."
      ]
    },
    {
      "cell_type": "code",
      "metadata": {
        "id": "QUJaYClIyXEf"
      },
      "source": [
        "X_train = X_train.reshape(60000, 784).astype('float32')\n",
        "X_valid = X_valid.reshape(10000, 784).astype('float32')"
      ],
      "execution_count": 3,
      "outputs": []
    },
    {
      "cell_type": "code",
      "metadata": {
        "id": "xZs4S5HzyXEg"
      },
      "source": [
        "X_train /= 255\n",
        "X_valid /= 255"
      ],
      "execution_count": 4,
      "outputs": []
    },
    {
      "cell_type": "code",
      "metadata": {
        "id": "6mX4MhlRyXEg"
      },
      "source": [
        "n_classes = 10\n",
        "y_train = keras.utils.to_categorical(y_train, n_classes)\n",
        "y_valid = keras.utils.to_categorical(y_valid, n_classes)"
      ],
      "execution_count": 5,
      "outputs": []
    },
    {
      "cell_type": "markdown",
      "metadata": {
        "id": "un3qPpxuyXEg"
      },
      "source": [
        "#### 신경망을 만듭니다."
      ]
    },
    {
      "cell_type": "code",
      "metadata": {
        "id": "eU5DiMF8yXEg"
      },
      "source": [
        "model = Sequential()\n",
        "model.add(Dense(64, activation='relu', input_shape=(784,)))\n",
        "model.add(Dense(64, activation='relu'))\n",
        "model.add(Dense(10, activation='softmax'))"
      ],
      "execution_count": 6,
      "outputs": []
    },
    {
      "cell_type": "code",
      "metadata": {
        "id": "s1XIoz5xyXEg",
        "outputId": "803ba050-b94b-4e6d-a1fa-4be63b5a9c96",
        "colab": {
          "base_uri": "https://localhost:8080/"
        }
      },
      "source": [
        "model.summary()"
      ],
      "execution_count": 7,
      "outputs": [
        {
          "output_type": "stream",
          "text": [
            "Model: \"sequential\"\n",
            "_________________________________________________________________\n",
            "Layer (type)                 Output Shape              Param #   \n",
            "=================================================================\n",
            "dense (Dense)                (None, 64)                50240     \n",
            "_________________________________________________________________\n",
            "dense_1 (Dense)              (None, 64)                4160      \n",
            "_________________________________________________________________\n",
            "dense_2 (Dense)              (None, 10)                650       \n",
            "=================================================================\n",
            "Total params: 55,050\n",
            "Trainable params: 55,050\n",
            "Non-trainable params: 0\n",
            "_________________________________________________________________\n"
          ],
          "name": "stdout"
        }
      ]
    },
    {
      "cell_type": "markdown",
      "metadata": {
        "id": "aecR4zeOyXEh"
      },
      "source": [
        "#### 모델을 컴파일합니다."
      ]
    },
    {
      "cell_type": "code",
      "metadata": {
        "id": "U6hvCeQyyXEi"
      },
      "source": [
        "model.compile(loss='categorical_crossentropy', optimizer=SGD(learning_rate=0.1), metrics=['accuracy'])"
      ],
      "execution_count": 8,
      "outputs": []
    },
    {
      "cell_type": "markdown",
      "metadata": {
        "id": "w0LMR5llyXEi"
      },
      "source": [
        "#### 훈련!"
      ]
    },
    {
      "cell_type": "code",
      "metadata": {
        "id": "YXaISMyWyXEi",
        "outputId": "cdb71757-8c76-4e9d-c6e5-87b813c669e7",
        "colab": {
          "base_uri": "https://localhost:8080/"
        }
      },
      "source": [
        "model.fit(X_train, y_train, batch_size=128, epochs=20, verbose=1, validation_data=(X_valid, y_valid))"
      ],
      "execution_count": 9,
      "outputs": [
        {
          "output_type": "stream",
          "text": [
            "Epoch 1/20\n",
            "469/469 [==============================] - 4s 4ms/step - loss: 0.8308 - accuracy: 0.7539 - val_loss: 0.2579 - val_accuracy: 0.9236\n",
            "Epoch 2/20\n",
            "469/469 [==============================] - 1s 3ms/step - loss: 0.2469 - accuracy: 0.9275 - val_loss: 0.1822 - val_accuracy: 0.9468\n",
            "Epoch 3/20\n",
            "469/469 [==============================] - 1s 3ms/step - loss: 0.1825 - accuracy: 0.9474 - val_loss: 0.1639 - val_accuracy: 0.9494\n",
            "Epoch 4/20\n",
            "469/469 [==============================] - 1s 3ms/step - loss: 0.1472 - accuracy: 0.9566 - val_loss: 0.1350 - val_accuracy: 0.9578\n",
            "Epoch 5/20\n",
            "469/469 [==============================] - 1s 3ms/step - loss: 0.1262 - accuracy: 0.9634 - val_loss: 0.1233 - val_accuracy: 0.9613\n",
            "Epoch 6/20\n",
            "469/469 [==============================] - 1s 3ms/step - loss: 0.1091 - accuracy: 0.9679 - val_loss: 0.1120 - val_accuracy: 0.9660\n",
            "Epoch 7/20\n",
            "469/469 [==============================] - 1s 3ms/step - loss: 0.0956 - accuracy: 0.9722 - val_loss: 0.1041 - val_accuracy: 0.9698\n",
            "Epoch 8/20\n",
            "469/469 [==============================] - 1s 3ms/step - loss: 0.0836 - accuracy: 0.9758 - val_loss: 0.0947 - val_accuracy: 0.9704\n",
            "Epoch 9/20\n",
            "469/469 [==============================] - 1s 3ms/step - loss: 0.0765 - accuracy: 0.9772 - val_loss: 0.0903 - val_accuracy: 0.9733\n",
            "Epoch 10/20\n",
            "469/469 [==============================] - 1s 3ms/step - loss: 0.0671 - accuracy: 0.9803 - val_loss: 0.0885 - val_accuracy: 0.9732\n",
            "Epoch 11/20\n",
            "469/469 [==============================] - 1s 3ms/step - loss: 0.0642 - accuracy: 0.9814 - val_loss: 0.0883 - val_accuracy: 0.9747\n",
            "Epoch 12/20\n",
            "469/469 [==============================] - 1s 3ms/step - loss: 0.0595 - accuracy: 0.9825 - val_loss: 0.0848 - val_accuracy: 0.9739\n",
            "Epoch 13/20\n",
            "469/469 [==============================] - 1s 3ms/step - loss: 0.0519 - accuracy: 0.9845 - val_loss: 0.0820 - val_accuracy: 0.9751\n",
            "Epoch 14/20\n",
            "469/469 [==============================] - 1s 3ms/step - loss: 0.0460 - accuracy: 0.9868 - val_loss: 0.0847 - val_accuracy: 0.9742\n",
            "Epoch 15/20\n",
            "469/469 [==============================] - 1s 3ms/step - loss: 0.0439 - accuracy: 0.9874 - val_loss: 0.0835 - val_accuracy: 0.9753\n",
            "Epoch 16/20\n",
            "469/469 [==============================] - 1s 3ms/step - loss: 0.0427 - accuracy: 0.9879 - val_loss: 0.0790 - val_accuracy: 0.9769\n",
            "Epoch 17/20\n",
            "469/469 [==============================] - 1s 3ms/step - loss: 0.0373 - accuracy: 0.9898 - val_loss: 0.0836 - val_accuracy: 0.9752\n",
            "Epoch 18/20\n",
            "469/469 [==============================] - 1s 3ms/step - loss: 0.0364 - accuracy: 0.9900 - val_loss: 0.0821 - val_accuracy: 0.9763\n",
            "Epoch 19/20\n",
            "469/469 [==============================] - 1s 3ms/step - loss: 0.0336 - accuracy: 0.9904 - val_loss: 0.0812 - val_accuracy: 0.9766\n",
            "Epoch 20/20\n",
            "469/469 [==============================] - 1s 3ms/step - loss: 0.0299 - accuracy: 0.9910 - val_loss: 0.0892 - val_accuracy: 0.9755\n"
          ],
          "name": "stdout"
        },
        {
          "output_type": "execute_result",
          "data": {
            "text/plain": [
              "<tensorflow.python.keras.callbacks.History at 0x7f11920b6860>"
            ]
          },
          "metadata": {
            "tags": []
          },
          "execution_count": 9
        }
      ]
    }
  ]
}