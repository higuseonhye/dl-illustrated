{
  "nbformat": 4,
  "nbformat_minor": 0,
  "metadata": {
    "kernelspec": {
      "display_name": "TensorFlow 2.3 on Python 3.6 (CUDA 10.1)",
      "language": "python",
      "name": "python3"
    },
    "language_info": {
      "codemirror_mode": {
        "name": "ipython",
        "version": 3
      },
      "file_extension": ".py",
      "mimetype": "text/x-python",
      "name": "python",
      "nbconvert_exporter": "python",
      "pygments_lexer": "ipython3",
      "version": "3.6.9"
    },
    "colab": {
      "name": "11-4.rnn_sentiment_classifier.ipynb",
      "provenance": []
    },
    "accelerator": "GPU"
  },
  "cells": [
    {
      "cell_type": "markdown",
      "metadata": {
        "id": "fl8VG9enicGG"
      },
      "source": [
        "# RNN 감성 분류기"
      ]
    },
    {
      "cell_type": "markdown",
      "metadata": {
        "id": "reAVjNDQicGK"
      },
      "source": [
        "이 노트북에서 RNN을 사용해 감성에 따라 IMDB 영화 리뷰를 분류합니다."
      ]
    },
    {
      "cell_type": "markdown",
      "metadata": {
        "id": "orUztv6SicGL"
      },
      "source": [
        "[![Open In Colab](https://colab.research.google.com/assets/colab-badge.svg)](https://colab.research.google.com/github/rickiepark/dl-illustrated/blob/master/notebooks/11-4.rnn_sentiment_classifier.ipynb)"
      ]
    },
    {
      "cell_type": "markdown",
      "metadata": {
        "id": "YJ9teMgbicGL"
      },
      "source": [
        "#### 라이브러리를 적재합니다."
      ]
    },
    {
      "cell_type": "code",
      "metadata": {
        "id": "N7feftmSicGL"
      },
      "source": [
        "from tensorflow import keras\n",
        "from tensorflow.keras.datasets import imdb\n",
        "from tensorflow.keras.preprocessing.sequence import pad_sequences\n",
        "from tensorflow.keras.models import Sequential\n",
        "from tensorflow.keras.layers import Dense, Dropout, Embedding, SpatialDropout1D\n",
        "from tensorflow.keras.layers import SimpleRNN # new! \n",
        "from tensorflow.keras.callbacks import ModelCheckpoint\n",
        "import os\n",
        "from sklearn.metrics import roc_auc_score \n",
        "import matplotlib.pyplot as plt \n",
        "%matplotlib inline"
      ],
      "execution_count": 1,
      "outputs": []
    },
    {
      "cell_type": "markdown",
      "metadata": {
        "id": "PxsYoFXoicGM"
      },
      "source": [
        "#### 하이퍼파라미터를 설정합니다."
      ]
    },
    {
      "cell_type": "code",
      "metadata": {
        "id": "8z9MJQf3icGM"
      },
      "source": [
        "# 출력 디렉토리\n",
        "output_dir = 'model_output/rnn'\n",
        "\n",
        "# 훈련\n",
        "epochs = 16 # 더 많이!\n",
        "batch_size = 128\n",
        "\n",
        "# 벡터 공간 임베딩\n",
        "n_dim = 64 \n",
        "n_unique_words = 10000 \n",
        "max_review_length = 100 # 시간에 따른 그레이디언트 소실 때문에 낮춤\n",
        "pad_type = trunc_type = 'pre'\n",
        "drop_embed = 0.2 \n",
        "\n",
        "# RNN 층 구조\n",
        "n_rnn = 256 \n",
        "drop_rnn = 0.2\n",
        "\n",
        "# 밀집 층 구조\n",
        "# n_dense = 256\n",
        "# dropout = 0.2"
      ],
      "execution_count": 2,
      "outputs": []
    },
    {
      "cell_type": "markdown",
      "metadata": {
        "id": "FLXby5f-icGM"
      },
      "source": [
        "#### 데이터를 적재합니다."
      ]
    },
    {
      "cell_type": "code",
      "metadata": {
        "id": "d7nK-B-cicGM",
        "outputId": "03530253-33bc-4b45-97f7-cb5dc9e564e4",
        "colab": {
          "base_uri": "https://localhost:8080/"
        }
      },
      "source": [
        "(x_train, y_train), (x_valid, y_valid) = imdb.load_data(num_words=n_unique_words) # n_words_to_skip 삭제"
      ],
      "execution_count": 3,
      "outputs": [
        {
          "output_type": "stream",
          "text": [
            "Downloading data from https://storage.googleapis.com/tensorflow/tf-keras-datasets/imdb.npz\n",
            "17465344/17464789 [==============================] - 0s 0us/step\n"
          ],
          "name": "stdout"
        },
        {
          "output_type": "stream",
          "text": [
            "<string>:6: VisibleDeprecationWarning: Creating an ndarray from ragged nested sequences (which is a list-or-tuple of lists-or-tuples-or ndarrays with different lengths or shapes) is deprecated. If you meant to do this, you must specify 'dtype=object' when creating the ndarray\n",
            "/usr/local/lib/python3.6/dist-packages/tensorflow/python/keras/datasets/imdb.py:159: VisibleDeprecationWarning: Creating an ndarray from ragged nested sequences (which is a list-or-tuple of lists-or-tuples-or ndarrays with different lengths or shapes) is deprecated. If you meant to do this, you must specify 'dtype=object' when creating the ndarray\n",
            "  x_train, y_train = np.array(xs[:idx]), np.array(labels[:idx])\n",
            "/usr/local/lib/python3.6/dist-packages/tensorflow/python/keras/datasets/imdb.py:160: VisibleDeprecationWarning: Creating an ndarray from ragged nested sequences (which is a list-or-tuple of lists-or-tuples-or ndarrays with different lengths or shapes) is deprecated. If you meant to do this, you must specify 'dtype=object' when creating the ndarray\n",
            "  x_test, y_test = np.array(xs[idx:]), np.array(labels[idx:])\n"
          ],
          "name": "stderr"
        }
      ]
    },
    {
      "cell_type": "markdown",
      "metadata": {
        "id": "YI1-tFkiicGM"
      },
      "source": [
        "#### 데이터를 전처리합니다."
      ]
    },
    {
      "cell_type": "code",
      "metadata": {
        "id": "UiARILnJicGN"
      },
      "source": [
        "x_train = pad_sequences(x_train, maxlen=max_review_length, padding=pad_type, truncating=trunc_type, value=0)\n",
        "x_valid = pad_sequences(x_valid, maxlen=max_review_length, padding=pad_type, truncating=trunc_type, value=0)"
      ],
      "execution_count": 4,
      "outputs": []
    },
    {
      "cell_type": "markdown",
      "metadata": {
        "collapsed": true,
        "id": "ZQ_Bb0-LicGN"
      },
      "source": [
        "#### 신경망 만들기"
      ]
    },
    {
      "cell_type": "code",
      "metadata": {
        "id": "JQoJSqO1icGN"
      },
      "source": [
        "model = Sequential()\n",
        "model.add(Embedding(n_unique_words, n_dim, input_length=max_review_length)) \n",
        "model.add(SpatialDropout1D(drop_embed))\n",
        "model.add(SimpleRNN(n_rnn, dropout=drop_rnn))\n",
        "# model.add(Dense(n_dense, activation='relu')) # 일반적으로 NLP에서는 밀집 층을 위에 놓지 않습니다.\n",
        "# model.add(Dropout(dropout))\n",
        "model.add(Dense(1, activation='sigmoid'))"
      ],
      "execution_count": 5,
      "outputs": []
    },
    {
      "cell_type": "code",
      "metadata": {
        "id": "ZQpDJZXticGN",
        "outputId": "46458ace-d6b1-4ce7-f362-a90750e5406f",
        "colab": {
          "base_uri": "https://localhost:8080/"
        }
      },
      "source": [
        "model.summary() "
      ],
      "execution_count": 6,
      "outputs": [
        {
          "output_type": "stream",
          "text": [
            "Model: \"sequential\"\n",
            "_________________________________________________________________\n",
            "Layer (type)                 Output Shape              Param #   \n",
            "=================================================================\n",
            "embedding (Embedding)        (None, 100, 64)           640000    \n",
            "_________________________________________________________________\n",
            "spatial_dropout1d (SpatialDr (None, 100, 64)           0         \n",
            "_________________________________________________________________\n",
            "simple_rnn (SimpleRNN)       (None, 256)               82176     \n",
            "_________________________________________________________________\n",
            "dense (Dense)                (None, 1)                 257       \n",
            "=================================================================\n",
            "Total params: 722,433\n",
            "Trainable params: 722,433\n",
            "Non-trainable params: 0\n",
            "_________________________________________________________________\n"
          ],
          "name": "stdout"
        }
      ]
    },
    {
      "cell_type": "markdown",
      "metadata": {
        "id": "gybhPuapicGO"
      },
      "source": [
        "#### 모델 설정"
      ]
    },
    {
      "cell_type": "code",
      "metadata": {
        "id": "stvu9V4qicGO"
      },
      "source": [
        "model.compile(loss='binary_crossentropy', optimizer='adam', metrics=['accuracy'])"
      ],
      "execution_count": 7,
      "outputs": []
    },
    {
      "cell_type": "code",
      "metadata": {
        "id": "pSJq2Y0VicGO"
      },
      "source": [
        "modelcheckpoint = ModelCheckpoint(filepath=output_dir+\"/weights.{epoch:02d}.hdf5\")\n",
        "if not os.path.exists(output_dir):\n",
        "    os.makedirs(output_dir)"
      ],
      "execution_count": 8,
      "outputs": []
    },
    {
      "cell_type": "markdown",
      "metadata": {
        "id": "WjCW_-oSicGO"
      },
      "source": [
        "#### 훈련!"
      ]
    },
    {
      "cell_type": "code",
      "metadata": {
        "id": "7mKYC5oFicGO",
        "outputId": "2371ca98-47a4-470b-ff68-cb19fe4f1f6b",
        "colab": {
          "base_uri": "https://localhost:8080/"
        }
      },
      "source": [
        "model.fit(x_train, y_train, batch_size=batch_size, epochs=epochs, verbose=1, validation_data=(x_valid, y_valid), callbacks=[modelcheckpoint])"
      ],
      "execution_count": 9,
      "outputs": [
        {
          "output_type": "stream",
          "text": [
            "Epoch 1/16\n",
            "196/196 [==============================] - 28s 128ms/step - loss: 0.6944 - accuracy: 0.5258 - val_loss: 0.6859 - val_accuracy: 0.5205\n",
            "Epoch 2/16\n",
            "196/196 [==============================] - 24s 124ms/step - loss: 0.6533 - accuracy: 0.6158 - val_loss: 0.6339 - val_accuracy: 0.6138\n",
            "Epoch 3/16\n",
            "196/196 [==============================] - 25s 126ms/step - loss: 0.5599 - accuracy: 0.7072 - val_loss: 0.6467 - val_accuracy: 0.6322\n",
            "Epoch 4/16\n",
            "196/196 [==============================] - 25s 126ms/step - loss: 0.4748 - accuracy: 0.7713 - val_loss: 0.5791 - val_accuracy: 0.7089\n",
            "Epoch 5/16\n",
            "196/196 [==============================] - 25s 126ms/step - loss: 0.3872 - accuracy: 0.8287 - val_loss: 0.6148 - val_accuracy: 0.6635\n",
            "Epoch 6/16\n",
            "196/196 [==============================] - 25s 127ms/step - loss: 0.3867 - accuracy: 0.8286 - val_loss: 0.7360 - val_accuracy: 0.6765\n",
            "Epoch 7/16\n",
            "196/196 [==============================] - 25s 127ms/step - loss: 0.3180 - accuracy: 0.8665 - val_loss: 0.7158 - val_accuracy: 0.6285\n",
            "Epoch 8/16\n",
            "196/196 [==============================] - 24s 124ms/step - loss: 0.2854 - accuracy: 0.8784 - val_loss: 0.6608 - val_accuracy: 0.7267\n",
            "Epoch 9/16\n",
            "196/196 [==============================] - 24s 125ms/step - loss: 0.2155 - accuracy: 0.9160 - val_loss: 0.7823 - val_accuracy: 0.7074\n",
            "Epoch 10/16\n",
            "196/196 [==============================] - 24s 122ms/step - loss: 0.2022 - accuracy: 0.9211 - val_loss: 0.7591 - val_accuracy: 0.7172\n",
            "Epoch 11/16\n",
            "196/196 [==============================] - 25s 126ms/step - loss: 0.2099 - accuracy: 0.9134 - val_loss: 0.8462 - val_accuracy: 0.6128\n",
            "Epoch 12/16\n",
            "196/196 [==============================] - 24s 123ms/step - loss: 0.2627 - accuracy: 0.8887 - val_loss: 0.9600 - val_accuracy: 0.6319\n",
            "Epoch 13/16\n",
            "196/196 [==============================] - 24s 122ms/step - loss: 0.1965 - accuracy: 0.9236 - val_loss: 0.8362 - val_accuracy: 0.6838\n",
            "Epoch 14/16\n",
            "196/196 [==============================] - 24s 124ms/step - loss: 0.3199 - accuracy: 0.8515 - val_loss: 0.8444 - val_accuracy: 0.6242\n",
            "Epoch 15/16\n",
            "196/196 [==============================] - 24s 123ms/step - loss: 0.4354 - accuracy: 0.7898 - val_loss: 0.6567 - val_accuracy: 0.6510\n",
            "Epoch 16/16\n",
            "196/196 [==============================] - 24s 121ms/step - loss: 0.3946 - accuracy: 0.8170 - val_loss: 0.6696 - val_accuracy: 0.7084\n"
          ],
          "name": "stdout"
        },
        {
          "output_type": "execute_result",
          "data": {
            "text/plain": [
              "<tensorflow.python.keras.callbacks.History at 0x7f1d2ea320b8>"
            ]
          },
          "metadata": {
            "tags": []
          },
          "execution_count": 9
        }
      ]
    },
    {
      "cell_type": "markdown",
      "metadata": {
        "collapsed": true,
        "id": "OTWp8UznicGP"
      },
      "source": [
        "#### 평가"
      ]
    },
    {
      "cell_type": "code",
      "metadata": {
        "id": "A1INhEG2icGP"
      },
      "source": [
        "model.load_weights(output_dir+\"/weights.07.hdf5\") "
      ],
      "execution_count": 10,
      "outputs": []
    },
    {
      "cell_type": "code",
      "metadata": {
        "id": "pasKnvgKicGP"
      },
      "source": [
        "y_hat = model.predict(x_valid)"
      ],
      "execution_count": 11,
      "outputs": []
    },
    {
      "cell_type": "code",
      "metadata": {
        "id": "6x3Mwhu7icGP",
        "outputId": "611b5ba2-d0d5-4721-d492-12cf78988da6",
        "colab": {
          "base_uri": "https://localhost:8080/",
          "height": 265
        }
      },
      "source": [
        "plt.hist(y_hat)\n",
        "_ = plt.axvline(x=0.5, color='orange')"
      ],
      "execution_count": 12,
      "outputs": [
        {
          "output_type": "display_data",
          "data": {
            "image/png": "[encoded data removed]",
            "text/plain": [
              "<Figure size 432x288 with 1 Axes>"
            ]
          },
          "metadata": {
            "tags": [],
            "needs_background": "light"
          }
        }
      ]
    },
    {
      "cell_type": "code",
      "metadata": {
        "id": "KwfLHETcicGP",
        "outputId": "8664ef2a-1f5e-4f6f-d9ab-34dbe8a73dc2",
        "colab": {
          "base_uri": "https://localhost:8080/",
          "height": 35
        }
      },
      "source": [
        "\"{:0.2f}\".format(roc_auc_score(y_valid, y_hat)*100.0)"
      ],
      "execution_count": 13,
      "outputs": [
        {
          "output_type": "execute_result",
          "data": {
            "application/vnd.google.colaboratory.intrinsic+json": {
              "type": "string"
            },
            "text/plain": [
              "'69.52'"
            ]
          },
          "metadata": {
            "tags": []
          },
          "execution_count": 13
        }
      ]
    }
  ]
}