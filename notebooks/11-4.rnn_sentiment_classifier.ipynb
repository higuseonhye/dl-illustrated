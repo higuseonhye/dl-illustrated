{
  "nbformat": 4,
  "nbformat_minor": 0,
  "metadata": {
    "kernelspec": {
      "display_name": "TensorFlow 2.3 on Python 3.6 (CUDA 10.1)",
      "language": "python",
      "name": "python3"
    },
    "language_info": {
      "codemirror_mode": {
        "name": "ipython",
        "version": 3
      },
      "file_extension": ".py",
      "mimetype": "text/x-python",
      "name": "python",
      "nbconvert_exporter": "python",
      "pygments_lexer": "ipython3",
      "version": "3.6.9"
    },
    "colab": {
      "name": "11-4.rnn_sentiment_classifier.ipynb",
      "provenance": []
    },
    "accelerator": "GPU"
  },
  "cells": [
    {
      "cell_type": "markdown",
      "metadata": {
        "id": "fl8VG9enicGG"
      },
      "source": [
        "# RNN 감성 분류기"
      ]
    },
    {
      "cell_type": "markdown",
      "metadata": {
        "id": "reAVjNDQicGK"
      },
      "source": [
        "이 노트북에서 RNN을 사용해 감성에 따라 IMDB 영화 리뷰를 분류합니다."
      ]
    },
    {
      "cell_type": "markdown",
      "metadata": {
        "id": "orUztv6SicGL"
      },
      "source": [
        "[![Open In Colab](https://colab.research.google.com/assets/colab-badge.svg)](https://colab.research.google.com/github/rickiepark/dl-illustrated/blob/master/notebooks/11-4.rnn_sentiment_classifier.ipynb)"
      ]
    },
    {
      "cell_type": "markdown",
      "metadata": {
        "id": "YJ9teMgbicGL"
      },
      "source": [
        "#### 라이브러리를 적재합니다."
      ]
    },
    {
      "cell_type": "code",
      "metadata": {
        "id": "N7feftmSicGL"
      },
      "source": [
        "from tensorflow import keras\n",
        "from tensorflow.keras.datasets import imdb\n",
        "from tensorflow.keras.preprocessing.sequence import pad_sequences\n",
        "from tensorflow.keras.models import Sequential\n",
        "from tensorflow.keras.layers import Dense, Dropout, Embedding, SpatialDropout1D\n",
        "from tensorflow.keras.layers import SimpleRNN # new! \n",
        "from tensorflow.keras.callbacks import ModelCheckpoint\n",
        "import os\n",
        "from sklearn.metrics import roc_auc_score \n",
        "import matplotlib.pyplot as plt \n",
        "%matplotlib inline"
      ],
      "execution_count": 1,
      "outputs": []
    },
    {
      "cell_type": "markdown",
      "metadata": {
        "id": "PxsYoFXoicGM"
      },
      "source": [
        "#### 하이퍼파라미터를 설정합니다."
      ]
    },
    {
      "cell_type": "code",
      "metadata": {
        "id": "8z9MJQf3icGM"
      },
      "source": [
        "# 출력 디렉토리\n",
        "output_dir = 'model_output/rnn'\n",
        "\n",
        "# 훈련\n",
        "epochs = 16 # 더 많이!\n",
        "batch_size = 128\n",
        "\n",
        "# 벡터 공간 임베딩\n",
        "n_dim = 64 \n",
        "n_unique_words = 10000 \n",
        "max_review_length = 100 # 시간에 따른 그레이디언트 소실 때문에 낮춤\n",
        "pad_type = trunc_type = 'pre'\n",
        "drop_embed = 0.2 \n",
        "\n",
        "# RNN 층 구조\n",
        "n_rnn = 256 \n",
        "drop_rnn = 0.2\n",
        "\n",
        "# 밀집 층 구조\n",
        "# n_dense = 256\n",
        "# dropout = 0.2"
      ],
      "execution_count": 2,
      "outputs": []
    },
    {
      "cell_type": "markdown",
      "metadata": {
        "id": "FLXby5f-icGM"
      },
      "source": [
        "#### 데이터를 적재합니다."
      ]
    },
    {
      "cell_type": "code",
      "metadata": {
        "id": "d7nK-B-cicGM",
        "colab": {
          "base_uri": "https://localhost:8080/"
        },
        "outputId": "1427f40f-133e-4e58-bcbc-04a25f4a3e34"
      },
      "source": [
        "(x_train, y_train), (x_valid, y_valid) = imdb.load_data(num_words=n_unique_words) # n_words_to_skip 삭제"
      ],
      "execution_count": 3,
      "outputs": [
        {
          "output_type": "stream",
          "text": [
            "<string>:6: VisibleDeprecationWarning: Creating an ndarray from ragged nested sequences (which is a list-or-tuple of lists-or-tuples-or ndarrays with different lengths or shapes) is deprecated. If you meant to do this, you must specify 'dtype=object' when creating the ndarray\n",
            "/usr/local/lib/python3.7/dist-packages/tensorflow/python/keras/datasets/imdb.py:155: VisibleDeprecationWarning: Creating an ndarray from ragged nested sequences (which is a list-or-tuple of lists-or-tuples-or ndarrays with different lengths or shapes) is deprecated. If you meant to do this, you must specify 'dtype=object' when creating the ndarray\n",
            "  x_train, y_train = np.array(xs[:idx]), np.array(labels[:idx])\n",
            "/usr/local/lib/python3.7/dist-packages/tensorflow/python/keras/datasets/imdb.py:156: VisibleDeprecationWarning: Creating an ndarray from ragged nested sequences (which is a list-or-tuple of lists-or-tuples-or ndarrays with different lengths or shapes) is deprecated. If you meant to do this, you must specify 'dtype=object' when creating the ndarray\n",
            "  x_test, y_test = np.array(xs[idx:]), np.array(labels[idx:])\n"
          ],
          "name": "stderr"
        }
      ]
    },
    {
      "cell_type": "markdown",
      "metadata": {
        "id": "YI1-tFkiicGM"
      },
      "source": [
        "#### 데이터를 전처리합니다."
      ]
    },
    {
      "cell_type": "code",
      "metadata": {
        "id": "UiARILnJicGN"
      },
      "source": [
        "x_train = pad_sequences(x_train, maxlen=max_review_length, padding=pad_type, truncating=trunc_type, value=0)\n",
        "x_valid = pad_sequences(x_valid, maxlen=max_review_length, padding=pad_type, truncating=trunc_type, value=0)"
      ],
      "execution_count": 4,
      "outputs": []
    },
    {
      "cell_type": "markdown",
      "metadata": {
        "collapsed": true,
        "id": "ZQ_Bb0-LicGN"
      },
      "source": [
        "#### 신경망 만들기"
      ]
    },
    {
      "cell_type": "code",
      "metadata": {
        "id": "JQoJSqO1icGN"
      },
      "source": [
        "model = Sequential()\n",
        "model.add(Embedding(n_unique_words, n_dim, input_length=max_review_length)) \n",
        "model.add(SpatialDropout1D(drop_embed))\n",
        "model.add(SimpleRNN(n_rnn, dropout=drop_rnn))\n",
        "# model.add(Dense(n_dense, activation='relu')) # 일반적으로 NLP에서는 밀집 층을 위에 놓지 않습니다.\n",
        "# model.add(Dropout(dropout))\n",
        "model.add(Dense(1, activation='sigmoid'))"
      ],
      "execution_count": 5,
      "outputs": []
    },
    {
      "cell_type": "code",
      "metadata": {
        "id": "ZQpDJZXticGN",
        "colab": {
          "base_uri": "https://localhost:8080/"
        },
        "outputId": "e2c3dab4-1ab4-44f8-8c66-261152da98bd"
      },
      "source": [
        "model.summary() "
      ],
      "execution_count": 6,
      "outputs": [
        {
          "output_type": "stream",
          "text": [
            "Model: \"sequential\"\n",
            "_________________________________________________________________\n",
            "Layer (type)                 Output Shape              Param #   \n",
            "=================================================================\n",
            "embedding (Embedding)        (None, 100, 64)           640000    \n",
            "_________________________________________________________________\n",
            "spatial_dropout1d (SpatialDr (None, 100, 64)           0         \n",
            "_________________________________________________________________\n",
            "simple_rnn (SimpleRNN)       (None, 256)               82176     \n",
            "_________________________________________________________________\n",
            "dense (Dense)                (None, 1)                 257       \n",
            "=================================================================\n",
            "Total params: 722,433\n",
            "Trainable params: 722,433\n",
            "Non-trainable params: 0\n",
            "_________________________________________________________________\n"
          ],
          "name": "stdout"
        }
      ]
    },
    {
      "cell_type": "markdown",
      "metadata": {
        "id": "gybhPuapicGO"
      },
      "source": [
        "#### 모델 설정"
      ]
    },
    {
      "cell_type": "code",
      "metadata": {
        "id": "stvu9V4qicGO"
      },
      "source": [
        "model.compile(loss='binary_crossentropy', optimizer='adam', metrics=['accuracy'])"
      ],
      "execution_count": 7,
      "outputs": []
    },
    {
      "cell_type": "code",
      "metadata": {
        "id": "pSJq2Y0VicGO"
      },
      "source": [
        "modelcheckpoint = ModelCheckpoint(filepath=output_dir+\"/weights.{epoch:02d}.hdf5\")\n",
        "if not os.path.exists(output_dir):\n",
        "    os.makedirs(output_dir)"
      ],
      "execution_count": 8,
      "outputs": []
    },
    {
      "cell_type": "markdown",
      "metadata": {
        "id": "WjCW_-oSicGO"
      },
      "source": [
        "#### 훈련!"
      ]
    },
    {
      "cell_type": "code",
      "metadata": {
        "id": "7mKYC5oFicGO",
        "colab": {
          "base_uri": "https://localhost:8080/"
        },
        "outputId": "f36309d2-9a00-43a7-8f6e-202a93a96d95"
      },
      "source": [
        "model.fit(x_train, y_train, batch_size=batch_size, epochs=epochs, verbose=1, validation_data=(x_valid, y_valid), callbacks=[modelcheckpoint])"
      ],
      "execution_count": 9,
      "outputs": [
        {
          "output_type": "stream",
          "text": [
            "Epoch 1/16\n",
            "196/196 [==============================] - 24s 116ms/step - loss: 0.6990 - accuracy: 0.5187 - val_loss: 0.6451 - val_accuracy: 0.6227\n",
            "Epoch 2/16\n",
            "196/196 [==============================] - 22s 113ms/step - loss: 0.6461 - accuracy: 0.6175 - val_loss: 0.6771 - val_accuracy: 0.5678\n",
            "Epoch 3/16\n",
            "196/196 [==============================] - 23s 115ms/step - loss: 0.6255 - accuracy: 0.6585 - val_loss: 1.1590 - val_accuracy: 0.5011\n",
            "Epoch 4/16\n",
            "196/196 [==============================] - 22s 114ms/step - loss: 0.5000 - accuracy: 0.7545 - val_loss: 0.4556 - val_accuracy: 0.7923\n",
            "Epoch 5/16\n",
            "196/196 [==============================] - 23s 116ms/step - loss: 0.3734 - accuracy: 0.8411 - val_loss: 0.4419 - val_accuracy: 0.8004\n",
            "Epoch 6/16\n",
            "196/196 [==============================] - 23s 116ms/step - loss: 0.3228 - accuracy: 0.8689 - val_loss: 0.4091 - val_accuracy: 0.8258\n",
            "Epoch 7/16\n",
            "196/196 [==============================] - 22s 114ms/step - loss: 0.3285 - accuracy: 0.8688 - val_loss: 0.5775 - val_accuracy: 0.6956\n",
            "Epoch 8/16\n",
            "196/196 [==============================] - 23s 117ms/step - loss: 0.3667 - accuracy: 0.8533 - val_loss: 0.5271 - val_accuracy: 0.7476\n",
            "Epoch 9/16\n",
            "196/196 [==============================] - 23s 116ms/step - loss: 0.3421 - accuracy: 0.8624 - val_loss: 0.4752 - val_accuracy: 0.8014\n",
            "Epoch 10/16\n",
            "196/196 [==============================] - 23s 116ms/step - loss: 0.2987 - accuracy: 0.8864 - val_loss: 0.4786 - val_accuracy: 0.7723\n",
            "Epoch 11/16\n",
            "196/196 [==============================] - 23s 116ms/step - loss: 0.2853 - accuracy: 0.8896 - val_loss: 0.5047 - val_accuracy: 0.7600\n",
            "Epoch 12/16\n",
            "196/196 [==============================] - 23s 117ms/step - loss: 0.3412 - accuracy: 0.8588 - val_loss: 0.5361 - val_accuracy: 0.7364\n",
            "Epoch 13/16\n",
            "196/196 [==============================] - 23s 116ms/step - loss: 0.3232 - accuracy: 0.8740 - val_loss: 0.4651 - val_accuracy: 0.8026\n",
            "Epoch 14/16\n",
            "196/196 [==============================] - 23s 115ms/step - loss: 0.2815 - accuracy: 0.8934 - val_loss: 0.4815 - val_accuracy: 0.7863\n",
            "Epoch 15/16\n",
            "196/196 [==============================] - 23s 115ms/step - loss: 0.2711 - accuracy: 0.8995 - val_loss: 0.5128 - val_accuracy: 0.8025\n",
            "Epoch 16/16\n",
            "196/196 [==============================] - 23s 115ms/step - loss: 0.2593 - accuracy: 0.9030 - val_loss: 0.5169 - val_accuracy: 0.7904\n"
          ],
          "name": "stdout"
        },
        {
          "output_type": "execute_result",
          "data": {
            "text/plain": [
              "<tensorflow.python.keras.callbacks.History at 0x7f3830949b10>"
            ]
          },
          "metadata": {
            "tags": []
          },
          "execution_count": 9
        }
      ]
    },
    {
      "cell_type": "markdown",
      "metadata": {
        "collapsed": true,
        "id": "OTWp8UznicGP"
      },
      "source": [
        "#### 평가"
      ]
    },
    {
      "cell_type": "code",
      "metadata": {
        "id": "A1INhEG2icGP"
      },
      "source": [
        "model.load_weights(output_dir+\"/weights.07.hdf5\") "
      ],
      "execution_count": 10,
      "outputs": []
    },
    {
      "cell_type": "code",
      "metadata": {
        "id": "pasKnvgKicGP"
      },
      "source": [
        "y_hat = model.predict(x_valid)"
      ],
      "execution_count": 11,
      "outputs": []
    },
    {
      "cell_type": "code",
      "metadata": {
        "id": "6x3Mwhu7icGP",
        "colab": {
          "base_uri": "https://localhost:8080/",
          "height": 269
        },
        "outputId": "71368e4e-1290-4f3e-ae3d-d00ace2f95ce"
      },
      "source": [
        "plt.hist(y_hat)\n",
        "_ = plt.axvline(x=0.5, color='orange')"
      ],
      "execution_count": 12,
      "outputs": [
        {
          "output_type": "display_data",
          "data": {
            "image/png": "[encoded data removed]",
            "text/plain": [
              "<Figure size 432x288 with 1 Axes>"
            ]
          },
          "metadata": {
            "tags": [],
            "needs_background": "light"
          }
        }
      ]
    },
    {
      "cell_type": "code",
      "metadata": {
        "id": "KwfLHETcicGP",
        "colab": {
          "base_uri": "https://localhost:8080/",
          "height": 35
        },
        "outputId": "f72603c6-699a-4ec1-d534-12f96e03567e"
      },
      "source": [
        "\"{:0.2f}\".format(roc_auc_score(y_valid, y_hat)*100.0)"
      ],
      "execution_count": 13,
      "outputs": [
        {
          "output_type": "execute_result",
          "data": {
            "application/vnd.google.colaboratory.intrinsic+json": {
              "type": "string"
            },
            "text/plain": [
              "'78.07'"
            ]
          },
          "metadata": {
            "tags": []
          },
          "execution_count": 13
        }
      ]
    }
  ]
}